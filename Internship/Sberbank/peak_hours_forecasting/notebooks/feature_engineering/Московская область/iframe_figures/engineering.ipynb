{
 "cells": [
  {
   "cell_type": "markdown",
   "id": "f535b2e0-376d-4b28-85e7-b2625a927fac",
   "metadata": {},
   "source": [
    "#### PREPARING PROJECT"
   ]
  },
  {
   "cell_type": "code",
   "execution_count": 1,
   "id": "8df7fe17-ca6d-47ed-8a33-510ddade9606",
   "metadata": {},
   "outputs": [],
   "source": [
    "import datetime\n",
    "\n",
    "import numpy as np\n",
    "import pandas as pd\n",
    "import seaborn as sns\n",
    "import pymannkendall as mk\n",
    "import statsmodels.api as sm\n",
    "import matplotlib.pyplot as plt\n",
    "\n",
    "from sys import path\n",
    "from os import getcwd\n",
    "from math import isinf\n",
    "from pickle import dump\n",
    "from scipy.stats import shapiro\n",
    "from warnings import simplefilter\n",
    "\n",
    "from statsmodels.tsa.stattools import adfuller as ADF\n",
    "from sklearn.linear_model import LinearRegression as LinRegr\n",
    "from statsmodels.graphics.tsaplots import plot_acf as autocorr_plot\n",
    "from statsmodels.tsa.deterministic import DeterministicProcess as DP"
   ]
  },
  {
   "cell_type": "markdown",
   "id": "4e7cc542-6a0e-4f12-95e5-7936d6d8ebda",
   "metadata": {},
   "source": [
    "Prepare constant string variables:"
   ]
  },
  {
   "cell_type": "code",
   "execution_count": 2,
   "id": "2065f077-ae9e-43c6-89e0-8a1391ab10b6",
   "metadata": {},
   "outputs": [],
   "source": [
    "df_name = \"/data.gzip\"\n",
    "modules_path = \"../../../src/\"\n",
    "df_path = \"../../../data/processed/\""
   ]
  },
  {
   "cell_type": "code",
   "execution_count": 3,
   "id": "50533116-6181-42f0-aa0e-614558039598",
   "metadata": {},
   "outputs": [],
   "source": [
    "path.append(modules_path)\n",
    "simplefilter(action=\"ignore\", category=Warning)"
   ]
  },
  {
   "cell_type": "code",
   "execution_count": 4,
   "id": "f44b0160-823f-4691-b294-ce3d935f751d",
   "metadata": {},
   "outputs": [],
   "source": [
    "from auxiliary import *\n",
    "from feature_engineering import *"
   ]
  },
  {
   "cell_type": "markdown",
   "id": "bc06d68d-50c8-4177-abfa-1fd49a19da65",
   "metadata": {},
   "source": [
    "#### WORKING WITH DATAFRAME"
   ]
  },
  {
   "cell_type": "code",
   "execution_count": 5,
   "id": "2459e3f2-9593-4d10-acb2-98a14c4258b7",
   "metadata": {},
   "outputs": [],
   "source": [
    "df = pd.read_parquet(df_path + getcwd().split(\"\\\\\")[-1] + df_name)"
   ]
  },
  {
   "cell_type": "code",
   "execution_count": 6,
   "id": "d099d2da-5587-4e1c-88d3-15c4c8302d00",
   "metadata": {},
   "outputs": [],
   "source": [
    "main_df = df.copy()"
   ]
  },
  {
   "cell_type": "code",
   "execution_count": 7,
   "id": "d08fa453-cfd9-45da-a632-e24b571c2893",
   "metadata": {
    "scrolled": true
   },
   "outputs": [
    {
     "data": {
      "text/html": [
       "<div>\n",
       "<style scoped>\n",
       "    .dataframe tbody tr th:only-of-type {\n",
       "        vertical-align: middle;\n",
       "    }\n",
       "\n",
       "    .dataframe tbody tr th {\n",
       "        vertical-align: top;\n",
       "    }\n",
       "\n",
       "    .dataframe thead th {\n",
       "        text-align: right;\n",
       "    }\n",
       "</style>\n",
       "<table border=\"1\" class=\"dataframe\">\n",
       "  <thead>\n",
       "    <tr style=\"text-align: right;\">\n",
       "      <th></th>\n",
       "      <th>peak_hour</th>\n",
       "    </tr>\n",
       "    <tr>\n",
       "      <th>days</th>\n",
       "      <th></th>\n",
       "    </tr>\n",
       "  </thead>\n",
       "  <tbody>\n",
       "    <tr>\n",
       "      <th>2012-04-02</th>\n",
       "      <td>11</td>\n",
       "    </tr>\n",
       "    <tr>\n",
       "      <th>2012-04-03</th>\n",
       "      <td>11</td>\n",
       "    </tr>\n",
       "  </tbody>\n",
       "</table>\n",
       "</div>"
      ],
      "text/plain": [
       "            peak_hour\n",
       "days                 \n",
       "2012-04-02         11\n",
       "2012-04-03         11"
      ]
     },
     "execution_count": 7,
     "metadata": {},
     "output_type": "execute_result"
    }
   ],
   "source": [
    "df.head(2)"
   ]
  },
  {
   "cell_type": "code",
   "execution_count": 8,
   "id": "a3879850-9d5b-4d1c-8a43-c8a8fb40dcf7",
   "metadata": {},
   "outputs": [
    {
     "data": {
      "text/html": [
       "<div>\n",
       "<style scoped>\n",
       "    .dataframe tbody tr th:only-of-type {\n",
       "        vertical-align: middle;\n",
       "    }\n",
       "\n",
       "    .dataframe tbody tr th {\n",
       "        vertical-align: top;\n",
       "    }\n",
       "\n",
       "    .dataframe thead th {\n",
       "        text-align: right;\n",
       "    }\n",
       "</style>\n",
       "<table border=\"1\" class=\"dataframe\">\n",
       "  <thead>\n",
       "    <tr style=\"text-align: right;\">\n",
       "      <th></th>\n",
       "      <th>peak_hour</th>\n",
       "    </tr>\n",
       "    <tr>\n",
       "      <th>days</th>\n",
       "      <th></th>\n",
       "    </tr>\n",
       "  </thead>\n",
       "  <tbody>\n",
       "    <tr>\n",
       "      <th>2024-07-30</th>\n",
       "      <td>11</td>\n",
       "    </tr>\n",
       "    <tr>\n",
       "      <th>2024-07-31</th>\n",
       "      <td>15</td>\n",
       "    </tr>\n",
       "  </tbody>\n",
       "</table>\n",
       "</div>"
      ],
      "text/plain": [
       "            peak_hour\n",
       "days                 \n",
       "2024-07-30         11\n",
       "2024-07-31         15"
      ]
     },
     "execution_count": 8,
     "metadata": {},
     "output_type": "execute_result"
    }
   ],
   "source": [
    "df.tail(2)"
   ]
  },
  {
   "cell_type": "code",
   "execution_count": 9,
   "id": "8303d836-82de-4297-922b-ef591ab10ec7",
   "metadata": {},
   "outputs": [
    {
     "name": "stdout",
     "output_type": "stream",
     "text": [
      "<class 'pandas.core.frame.DataFrame'>\n",
      "DatetimeIndex: 3033 entries, 2012-04-02 to 2024-07-31\n",
      "Data columns (total 1 columns):\n",
      " #   Column     Non-Null Count  Dtype\n",
      "---  ------     --------------  -----\n",
      " 0   peak_hour  3033 non-null   int64\n",
      "dtypes: int64(1)\n",
      "memory usage: 47.4 KB\n"
     ]
    }
   ],
   "source": [
    "df.info()"
   ]
  },
  {
   "cell_type": "code",
   "execution_count": 10,
   "id": "75fbefbe-068d-4480-aee5-287f303617bb",
   "metadata": {},
   "outputs": [
    {
     "data": {
      "text/html": [
       "<div>\n",
       "<style scoped>\n",
       "    .dataframe tbody tr th:only-of-type {\n",
       "        vertical-align: middle;\n",
       "    }\n",
       "\n",
       "    .dataframe tbody tr th {\n",
       "        vertical-align: top;\n",
       "    }\n",
       "\n",
       "    .dataframe thead th {\n",
       "        text-align: right;\n",
       "    }\n",
       "</style>\n",
       "<table border=\"1\" class=\"dataframe\">\n",
       "  <thead>\n",
       "    <tr style=\"text-align: right;\">\n",
       "      <th></th>\n",
       "      <th>peak_hour</th>\n",
       "    </tr>\n",
       "  </thead>\n",
       "  <tbody>\n",
       "    <tr>\n",
       "      <th>count</th>\n",
       "      <td>3033.000000</td>\n",
       "    </tr>\n",
       "    <tr>\n",
       "      <th>mean</th>\n",
       "      <td>16.829871</td>\n",
       "    </tr>\n",
       "    <tr>\n",
       "      <th>std</th>\n",
       "      <td>3.503401</td>\n",
       "    </tr>\n",
       "    <tr>\n",
       "      <th>min</th>\n",
       "      <td>10.000000</td>\n",
       "    </tr>\n",
       "    <tr>\n",
       "      <th>25%</th>\n",
       "      <td>15.000000</td>\n",
       "    </tr>\n",
       "    <tr>\n",
       "      <th>50%</th>\n",
       "      <td>18.000000</td>\n",
       "    </tr>\n",
       "    <tr>\n",
       "      <th>75%</th>\n",
       "      <td>20.000000</td>\n",
       "    </tr>\n",
       "    <tr>\n",
       "      <th>max</th>\n",
       "      <td>21.000000</td>\n",
       "    </tr>\n",
       "  </tbody>\n",
       "</table>\n",
       "</div>"
      ],
      "text/plain": [
       "         peak_hour\n",
       "count  3033.000000\n",
       "mean     16.829871\n",
       "std       3.503401\n",
       "min      10.000000\n",
       "25%      15.000000\n",
       "50%      18.000000\n",
       "75%      20.000000\n",
       "max      21.000000"
      ]
     },
     "execution_count": 10,
     "metadata": {},
     "output_type": "execute_result"
    }
   ],
   "source": [
    "df.describe()"
   ]
  },
  {
   "cell_type": "markdown",
   "id": "26712ea0-53e1-424e-a4d1-814a8d2f44c5",
   "metadata": {},
   "source": [
    "1) We have the significant deviation of the target - 20 % of the average value\n",
    "2) Many target values are in the first quartile\n",
    "3) Few target values are in the fourth quartile\n",
    "4) The minium target value is smaller in 2.1 times than the maximum target value"
   ]
  },
  {
   "cell_type": "markdown",
   "id": "7ee54362-c633-4a82-a776-42a3557b8e08",
   "metadata": {},
   "source": [
    "#### TIME SERIES ANALYSIS"
   ]
  },
  {
   "cell_type": "markdown",
   "id": "f3c9c70e-b74a-4779-9bf2-c29d1f1d8b80",
   "metadata": {},
   "source": [
    "In the analysis we will use whole years of the time series.\n",
    "\n",
    "That means thath we will cut a part of old data, because the new data is more important.\n",
    "\n",
    "* Target distribution:"
   ]
  },
  {
   "cell_type": "code",
   "execution_count": 11,
   "id": "aaca0b46-fd47-4d7d-9547-11bea18cb39b",
   "metadata": {},
   "outputs": [],
   "source": [
    "analyt_df = df[\"2012-08\":].copy()"
   ]
  },
  {
   "cell_type": "code",
   "execution_count": 12,
   "id": "df175c02-039c-43de-8d76-379f74551a54",
   "metadata": {
    "scrolled": true
   },
   "outputs": [
    {
     "data": {
      "image/png": "[encoded data removed]",
      "text/plain": [
       "<Figure size 1500x300 with 1 Axes>"
      ]
     },
     "metadata": {},
     "output_type": "display_data"
    }
   ],
   "source": [
    "plt.figure(figsize=(15, 3))\n",
    "sns.countplot(x=\"peak_hour\", data=analyt_df)\n",
    "plt.xlabel(\"Peak hour\")\n",
    "plt.ylabel(\"Hour count\")\n",
    "plt.title(\"Peak Hours (Countplot)\")\n",
    "plt.grid(color='r', linestyle='-');"
   ]
  },
  {
   "cell_type": "markdown",
   "id": "fa86de05-090d-408e-9649-40dbd92bddfd",
   "metadata": {},
   "source": [
    "Does target has a normal distribution?"
   ]
  },
  {
   "cell_type": "code",
   "execution_count": 13,
   "id": "5cdd4db8-dd98-4dba-9722-a05f2098bba3",
   "metadata": {},
   "outputs": [
    {
     "name": "stdout",
     "output_type": "stream",
     "text": [
      "Answer: False.\n"
     ]
    }
   ],
   "source": [
    "print(\"Answer:\", str(shapiro(analyt_df[\"peak_hour\"])[1] > 0.05) + '.')"
   ]
  },
  {
   "cell_type": "markdown",
   "id": "dd549447-048d-4d69-90ba-e93f3259398a",
   "metadata": {},
   "source": [
    "Visualise our suggest:"
   ]
  },
  {
   "cell_type": "code",
   "execution_count": 14,
   "id": "0de4b80b-4e77-4034-8871-70b06a9b16cf",
   "metadata": {
    "scrolled": true
   },
   "outputs": [
    {
     "data": {
      "text/plain": [
       "<Figure size 1200x400 with 0 Axes>"
      ]
     },
     "metadata": {},
     "output_type": "display_data"
    },
    {
     "data": {
      "image/png": "[encoded data removed]",
      "text/plain": [
       "<Figure size 640x480 with 1 Axes>"
      ]
     },
     "metadata": {},
     "output_type": "display_data"
    }
   ],
   "source": [
    "plt.figure(figsize=(12, 4))\n",
    "sm.qqplot(analyt_df[\"peak_hour\"], line=\"45\")\n",
    "plt.title(\"Peak Hour Distribution (QQplot)\");"
   ]
  },
  {
   "cell_type": "code",
   "execution_count": 15,
   "id": "0ece57cc-4f73-4633-9dcc-361c9cd1bf7b",
   "metadata": {
    "scrolled": true
   },
   "outputs": [
    {
     "data": {
      "image/png": "[encoded data removed]",
      "text/plain": [
       "<Figure size 1500x300 with 1 Axes>"
      ]
     },
     "metadata": {},
     "output_type": "display_data"
    }
   ],
   "source": [
    "plt.figure(figsize=(15, 3))\n",
    "sns.distplot(analyt_df[\"peak_hour\"], bins=8, hist=True)\n",
    "plt.xlabel(\"Peak hour\")\n",
    "plt.ylabel(\"Frequency of hour occurrence\")\n",
    "plt.title(\"Peak Hour Distribution (Distplot)\")\n",
    "plt.grid(color='r', linestyle='-');"
   ]
  },
  {
   "cell_type": "markdown",
   "id": "b06e901c-4cb7-4238-8825-6f4b10652eeb",
   "metadata": {},
   "source": [
    "Obviously, the target distribution is not normal."
   ]
  },
  {
   "cell_type": "markdown",
   "id": "62300b27-1c7e-4fe5-8398-b090ad0b4500",
   "metadata": {},
   "source": [
    "________________________________________________________________________________________________________________________________________________________"
   ]
  },
  {
   "cell_type": "markdown",
   "id": "c003d005-5562-4fe5-8e2e-72319d5e2efd",
   "metadata": {},
   "source": [
    "* Target trend:"
   ]
  },
  {
   "cell_type": "code",
   "execution_count": 16,
   "id": "498e3553-27ed-410e-927c-ea1097ab1bae",
   "metadata": {},
   "outputs": [],
   "source": [
    "analyt_df = df[\"2012-08\":].copy()"
   ]
  },
  {
   "cell_type": "code",
   "execution_count": 17,
   "id": "e00691f0-f00c-46a3-9dd2-9c51195ae55a",
   "metadata": {},
   "outputs": [
    {
     "data": {
      "image/png": "[encoded data removed]",
      "text/plain": [
       "<Figure size 1600x400 with 1 Axes>"
      ]
     },
     "metadata": {},
     "output_type": "display_data"
    }
   ],
   "source": [
    "plt.figure(figsize=(16, 4))\n",
    "figure = sns.lineplot(analyt_df)\n",
    "figure.set_yticks([_ for _ in range(10, 22)])\n",
    "plt.xlabel(\"Datetime\")\n",
    "plt.ylabel(\"Peak hour\")\n",
    "plt.title(\"Peak Hours (Lineplot)\")\n",
    "plt.grid(color='r', linestyle='-');"
   ]
  },
  {
   "cell_type": "markdown",
   "id": "e52f6aea-d7f5-4cb7-8808-1ad4bffedd34",
   "metadata": {},
   "source": [
    "Let's check half year windows to avoid big dispersion and noise.\n",
    "\n",
    "Does target has a trend?"
   ]
  },
  {
   "cell_type": "code",
   "execution_count": 18,
   "id": "1ec7e0b3-5186-4bd6-91c2-b8d88f9e1829",
   "metadata": {},
   "outputs": [
    {
     "data": {
      "text/plain": [
       "22"
      ]
     },
     "execution_count": 18,
     "metadata": {},
     "output_type": "execute_result"
    }
   ],
   "source": [
    "get_average_months_length(df, 2013, 2023)"
   ]
  },
  {
   "cell_type": "code",
   "execution_count": 19,
   "id": "a2745068-959a-4baf-bb6b-593717c30f1f",
   "metadata": {},
   "outputs": [
    {
     "name": "stdout",
     "output_type": "stream",
     "text": [
      "Answer: increasing.\n"
     ]
    }
   ],
   "source": [
    "print(\"Answer:\", mk.original_test(\n",
    "    create_rolling_window_feature(analyt_df, \"peak_hour\", \"mean\", get_average_months_length(analyt_df, 2013, 2023) * 6)\n",
    ").trend + \".\")"
   ]
  },
  {
   "cell_type": "markdown",
   "id": "48d422a9-d102-435d-9b74-ec5f41903dbf",
   "metadata": {},
   "source": [
    "Visualise our suggest:"
   ]
  },
  {
   "cell_type": "code",
   "execution_count": 20,
   "id": "f5587d41-f983-4834-ba75-f06ace002724",
   "metadata": {},
   "outputs": [
    {
     "data": {
      "image/png": "[encoded data removed]",
      "text/plain": [
       "<Figure size 1500x300 with 1 Axes>"
      ]
     },
     "metadata": {},
     "output_type": "display_data"
    }
   ],
   "source": [
    "plt.figure(figsize=(15, 3))\n",
    "sns.lineplot(\n",
    "    create_rolling_window_feature(analyt_df, \"peak_hour\", \"mean\", get_average_months_length(analyt_df, 2013, 2023) * 6))\n",
    "plt.xlabel(\"Datetime\")\n",
    "plt.ylabel(\"Peak hour\")\n",
    "plt.title(\"Smooth Peak Hours (Lineplot)\")\n",
    "plt.grid(color='r', linestyle='-');"
   ]
  },
  {
   "cell_type": "markdown",
   "id": "02ddae24-05f2-4639-a6fa-454ea93c4977",
   "metadata": {},
   "source": [
    "Let's take a closer look:"
   ]
  },
  {
   "cell_type": "code",
   "execution_count": 21,
   "id": "14e6ec0f-9eff-4507-a26a-d5f18dc60d7b",
   "metadata": {},
   "outputs": [],
   "source": [
    "analyt_df[\"time_dummie\"] = create_time_dummie_feature(analyt_df)\n",
    "analyt_df[\"semiannual_rolling_window\"] = create_rolling_window_feature(analyt_df, \"peak_hour\", \"mean\",\n",
    "                                                                       get_average_months_length(analyt_df, 2013, 2023)\n",
    "                                                                       * 6)\n",
    "\n",
    "analyt_df.dropna(inplace=True)"
   ]
  },
  {
   "cell_type": "code",
   "execution_count": 22,
   "id": "924898d3-d199-4253-b4a2-a875c700798d",
   "metadata": {},
   "outputs": [
    {
     "data": {
      "image/png": "[encoded data removed]",
      "text/plain": [
       "<Figure size 1500x300 with 1 Axes>"
      ]
     },
     "metadata": {},
     "output_type": "display_data"
    }
   ],
   "source": [
    "plt.figure(figsize=(15, 3))\n",
    "figure = sns.regplot(x=\"time_dummie\", y=\"semiannual_rolling_window\", data=analyt_df, scatter_kws=dict(color=\"0.3\"));\n",
    "figure.set_xticks([_ for _ in range(0, 3050, 200)])\n",
    "plt.xlabel(\"Time dummie\")\n",
    "plt.ylabel(\"Peak hour\")\n",
    "plt.title(\"Smooth Peak Hours (Regplot)\")\n",
    "plt.grid(color='r', linestyle='-');"
   ]
  },
  {
   "cell_type": "markdown",
   "id": "e9b259d6-80e4-40a3-80c8-cefb29bde59b",
   "metadata": {},
   "source": [
    "We have a fake trend and a big dispersion.\n",
    "\n",
    "Let's see plot without the first part of the target to be sure that we don't have a generally trend:"
   ]
  },
  {
   "cell_type": "code",
   "execution_count": 23,
   "id": "6ccff890-d943-4c4b-9808-40aaab034368",
   "metadata": {},
   "outputs": [
    {
     "data": {
      "image/png": "[encoded data removed]",
      "text/plain": [
       "<Figure size 1500x300 with 1 Axes>"
      ]
     },
     "metadata": {},
     "output_type": "display_data"
    }
   ],
   "source": [
    "plt.figure(figsize=(15, 3))\n",
    "sns.regplot(x=\"time_dummie\", y=\"semiannual_rolling_window\", data=analyt_df.iloc[800:], scatter_kws=dict(color=\"0.30\"));\n",
    "plt.xlabel(\"Time dummie steps\")\n",
    "plt.ylabel(\"Peak hour\")\n",
    "plt.title(\"Smooth Peak Hours (Regplot)\")\n",
    "plt.grid(color='r', linestyle='-');"
   ]
  },
  {
   "cell_type": "markdown",
   "id": "3f4592d0-91c4-49f0-b6df-3a52de5dddfe",
   "metadata": {},
   "source": [
    "And check the first part of the target to see trend:"
   ]
  },
  {
   "cell_type": "code",
   "execution_count": 24,
   "id": "e0b80171-27d3-4074-9169-36c7a3be9373",
   "metadata": {},
   "outputs": [
    {
     "data": {
      "image/png": "[encoded data removed]",
      "text/plain": [
       "<Figure size 1500x300 with 1 Axes>"
      ]
     },
     "metadata": {},
     "output_type": "display_data"
    }
   ],
   "source": [
    "plt.figure(figsize=(15, 3))\n",
    "sns.regplot(x=\"time_dummie\", y=\"semiannual_rolling_window\", data=analyt_df.iloc[: 800], scatter_kws=dict(color=\"0.30\"));\n",
    "plt.xlabel(\"Time dummie steps\")\n",
    "plt.ylabel(\"Peak hour\")\n",
    "plt.title(\"Smooth Peak Hours (Regplot)\")\n",
    "plt.grid(color='r', linestyle='-');"
   ]
  },
  {
   "cell_type": "markdown",
   "id": "1258f0cb-ff09-4927-bb3b-7eeec9646ac5",
   "metadata": {},
   "source": [
    "The trend exists only in part of the data.\n",
    "\n",
    "It means that we need to normalised target."
   ]
  },
  {
   "cell_type": "markdown",
   "id": "6b830fa0-6875-4d3c-ba18-9b78e810a912",
   "metadata": {},
   "source": [
    "_________________________________________________________________________________________________________________________________________________________"
   ]
  },
  {
   "cell_type": "markdown",
   "id": "c3e81431-bb51-4599-b70e-44a3fda8db70",
   "metadata": {},
   "source": [
    "* Target normalization:"
   ]
  },
  {
   "cell_type": "code",
   "execution_count": 25,
   "id": "8e3069a8-3f08-4289-b4ae-52c28cda3cde",
   "metadata": {},
   "outputs": [],
   "source": [
    "featured_df = df.copy()"
   ]
  },
  {
   "cell_type": "markdown",
   "id": "929a6737-4647-4aac-8790-b12e78268727",
   "metadata": {},
   "source": [
    "We will use a moved windows for the target normalization and forecasting.\n",
    "\n",
    "The size of the step - 1 day."
   ]
  },
  {
   "cell_type": "code",
   "execution_count": 26,
   "id": "b3783248-969a-4f00-8c55-7cc8eab8b36b",
   "metadata": {},
   "outputs": [],
   "source": [
    "featured_df = normalization(featured_df, \"peak_hour\")"
   ]
  },
  {
   "cell_type": "code",
   "execution_count": 27,
   "id": "4da151ab-3cdc-4c26-8168-b5f1ad095243",
   "metadata": {},
   "outputs": [
    {
     "data": {
      "text/html": [
       "<div>\n",
       "<style scoped>\n",
       "    .dataframe tbody tr th:only-of-type {\n",
       "        vertical-align: middle;\n",
       "    }\n",
       "\n",
       "    .dataframe tbody tr th {\n",
       "        vertical-align: top;\n",
       "    }\n",
       "\n",
       "    .dataframe thead th {\n",
       "        text-align: right;\n",
       "    }\n",
       "</style>\n",
       "<table border=\"1\" class=\"dataframe\">\n",
       "  <thead>\n",
       "    <tr style=\"text-align: right;\">\n",
       "      <th></th>\n",
       "      <th>peak_hour</th>\n",
       "      <th>std_normalization</th>\n",
       "      <th>mean_normalization</th>\n",
       "      <th>normalized_peak_hour</th>\n",
       "    </tr>\n",
       "    <tr>\n",
       "      <th>days</th>\n",
       "      <th></th>\n",
       "      <th></th>\n",
       "      <th></th>\n",
       "      <th></th>\n",
       "    </tr>\n",
       "  </thead>\n",
       "  <tbody>\n",
       "    <tr>\n",
       "      <th>2012-04-02</th>\n",
       "      <td>11</td>\n",
       "      <td>NaN</td>\n",
       "      <td>NaN</td>\n",
       "      <td>NaN</td>\n",
       "    </tr>\n",
       "    <tr>\n",
       "      <th>2012-04-03</th>\n",
       "      <td>11</td>\n",
       "      <td>NaN</td>\n",
       "      <td>NaN</td>\n",
       "      <td>NaN</td>\n",
       "    </tr>\n",
       "  </tbody>\n",
       "</table>\n",
       "</div>"
      ],
      "text/plain": [
       "            peak_hour  std_normalization  mean_normalization  \\\n",
       "days                                                           \n",
       "2012-04-02         11                NaN                 NaN   \n",
       "2012-04-03         11                NaN                 NaN   \n",
       "\n",
       "            normalized_peak_hour  \n",
       "days                              \n",
       "2012-04-02                   NaN  \n",
       "2012-04-03                   NaN  "
      ]
     },
     "execution_count": 27,
     "metadata": {},
     "output_type": "execute_result"
    }
   ],
   "source": [
    "featured_df.head(2)"
   ]
  },
  {
   "cell_type": "code",
   "execution_count": 28,
   "id": "6658a32c-4002-484d-a2c7-1558c0803d51",
   "metadata": {},
   "outputs": [
    {
     "data": {
      "text/html": [
       "<div>\n",
       "<style scoped>\n",
       "    .dataframe tbody tr th:only-of-type {\n",
       "        vertical-align: middle;\n",
       "    }\n",
       "\n",
       "    .dataframe tbody tr th {\n",
       "        vertical-align: top;\n",
       "    }\n",
       "\n",
       "    .dataframe thead th {\n",
       "        text-align: right;\n",
       "    }\n",
       "</style>\n",
       "<table border=\"1\" class=\"dataframe\">\n",
       "  <thead>\n",
       "    <tr style=\"text-align: right;\">\n",
       "      <th></th>\n",
       "      <th>peak_hour</th>\n",
       "      <th>std_normalization</th>\n",
       "      <th>mean_normalization</th>\n",
       "      <th>normalized_peak_hour</th>\n",
       "    </tr>\n",
       "    <tr>\n",
       "      <th>days</th>\n",
       "      <th></th>\n",
       "      <th></th>\n",
       "      <th></th>\n",
       "      <th></th>\n",
       "    </tr>\n",
       "  </thead>\n",
       "  <tbody>\n",
       "    <tr>\n",
       "      <th>2024-07-30</th>\n",
       "      <td>11</td>\n",
       "      <td>2.228843</td>\n",
       "      <td>14.666667</td>\n",
       "      <td>-1.645099</td>\n",
       "    </tr>\n",
       "    <tr>\n",
       "      <th>2024-07-31</th>\n",
       "      <td>15</td>\n",
       "      <td>2.228843</td>\n",
       "      <td>14.666667</td>\n",
       "      <td>0.149554</td>\n",
       "    </tr>\n",
       "  </tbody>\n",
       "</table>\n",
       "</div>"
      ],
      "text/plain": [
       "            peak_hour  std_normalization  mean_normalization  \\\n",
       "days                                                           \n",
       "2024-07-30         11           2.228843           14.666667   \n",
       "2024-07-31         15           2.228843           14.666667   \n",
       "\n",
       "            normalized_peak_hour  \n",
       "days                              \n",
       "2024-07-30             -1.645099  \n",
       "2024-07-31              0.149554  "
      ]
     },
     "execution_count": 28,
     "metadata": {},
     "output_type": "execute_result"
    }
   ],
   "source": [
    "featured_df.tail(2)"
   ]
  },
  {
   "cell_type": "markdown",
   "id": "859d4683-c64f-4066-8c7c-9937cfc32781",
   "metadata": {},
   "source": [
    "We can have infinity and missing values after normalization in target."
   ]
  },
  {
   "cell_type": "code",
   "execution_count": 29,
   "id": "f2e25dd2-48e3-43b9-9cfd-bf9a2f2636e7",
   "metadata": {
    "scrolled": true
   },
   "outputs": [
    {
     "name": "stdout",
     "output_type": "stream",
     "text": [
      "<class 'pandas.core.frame.DataFrame'>\n",
      "DatetimeIndex: 3033 entries, 2012-04-02 to 2024-07-31\n",
      "Data columns (total 4 columns):\n",
      " #   Column                Non-Null Count  Dtype  \n",
      "---  ------                --------------  -----  \n",
      " 0   peak_hour             3033 non-null   int64  \n",
      " 1   std_normalization     2970 non-null   float64\n",
      " 2   mean_normalization    2970 non-null   float64\n",
      " 3   normalized_peak_hour  2970 non-null   float64\n",
      "dtypes: float64(3), int64(1)\n",
      "memory usage: 183.0 KB\n"
     ]
    }
   ],
   "source": [
    "featured_df.info()"
   ]
  },
  {
   "cell_type": "code",
   "execution_count": 30,
   "id": "6bba223d-e5f0-4b1a-9d62-a4be1f29181b",
   "metadata": {},
   "outputs": [
    {
     "data": {
      "text/plain": [
       "array(['2012-04-02T00:00:00.000000000', '2012-04-03T00:00:00.000000000',\n",
       "       '2012-04-04T00:00:00.000000000', '2012-04-05T00:00:00.000000000',\n",
       "       '2012-04-06T00:00:00.000000000', '2012-04-09T00:00:00.000000000',\n",
       "       '2012-04-10T00:00:00.000000000', '2012-04-11T00:00:00.000000000',\n",
       "       '2012-04-12T00:00:00.000000000', '2012-04-13T00:00:00.000000000',\n",
       "       '2012-04-16T00:00:00.000000000', '2012-04-17T00:00:00.000000000',\n",
       "       '2012-04-18T00:00:00.000000000', '2012-04-19T00:00:00.000000000',\n",
       "       '2012-04-20T00:00:00.000000000'], dtype='datetime64[ns]')"
      ]
     },
     "execution_count": 30,
     "metadata": {},
     "output_type": "execute_result"
    }
   ],
   "source": [
    "featured_df[featured_df[\"normalized_peak_hour\"].isna()].index.values[: 15]"
   ]
  },
  {
   "cell_type": "markdown",
   "id": "c6642bde-99e0-4df6-8b66-002f194c9fa7",
   "metadata": {},
   "source": [
    "As we can see we have missing target only at the beginning of data.\n",
    "\n",
    "This is because we use moving average window, it's ok.\n",
    "\n",
    "How many infinity values do we have in the data?"
   ]
  },
  {
   "cell_type": "code",
   "execution_count": 31,
   "id": "194365b0-1488-42de-a7dc-f33c4ea51147",
   "metadata": {},
   "outputs": [
    {
     "name": "stdout",
     "output_type": "stream",
     "text": [
      "Answer: 0.\n"
     ]
    }
   ],
   "source": [
    "print(\"Answer:\", str(sum(featured_df[\"normalized_peak_hour\"].apply(isinf))) + '.')"
   ]
  },
  {
   "cell_type": "markdown",
   "id": "9009b5df-f2b3-43c5-bce3-132addad3bf4",
   "metadata": {},
   "source": [
    "The last one, let's check up our normalized target:"
   ]
  },
  {
   "cell_type": "code",
   "execution_count": 32,
   "id": "a5da6cc7-e988-46c4-aa22-7179b332bc17",
   "metadata": {},
   "outputs": [],
   "source": [
    "featured_df[\"time_dummie\"] = create_time_dummie_feature(featured_df)"
   ]
  },
  {
   "cell_type": "code",
   "execution_count": 33,
   "id": "7b5b489f-e256-4ac9-b9ad-3d02a8fb20fc",
   "metadata": {},
   "outputs": [],
   "source": [
    "featured_df[\"mean\"] = create_rolling_window_feature(featured_df, \"normalized_peak_hour\", \"mean\", 22)"
   ]
  },
  {
   "cell_type": "code",
   "execution_count": 34,
   "id": "eb4948ca-6a2a-48c0-9cd2-827e1c862316",
   "metadata": {
    "scrolled": true
   },
   "outputs": [
    {
     "data": {
      "image/png": "[encoded data removed]",
      "text/plain": [
       "<Figure size 1500x300 with 1 Axes>"
      ]
     },
     "metadata": {},
     "output_type": "display_data"
    }
   ],
   "source": [
    "plt.figure(figsize=(15, 3))\n",
    "sns.lineplot(data=featured_df, x=\"time_dummie\", y=\"mean\")\n",
    "plt.xlabel(\"Time dummie\")\n",
    "plt.ylabel(\"Normalized peak hour\")\n",
    "plt.title(\"Normalized Peak Hours (Lineplot)\")\n",
    "plt.grid(color='r', linestyle='-');"
   ]
  },
  {
   "cell_type": "code",
   "execution_count": 35,
   "id": "88b4172d-29c4-44e2-87c2-c9d4774e5ff4",
   "metadata": {},
   "outputs": [
    {
     "ename": "NameError",
     "evalue": "name 'dsa' is not defined",
     "output_type": "error",
     "traceback": [
      "\u001B[1;31m---------------------------------------------------------------------------\u001B[0m",
      "\u001B[1;31mNameError\u001B[0m                                 Traceback (most recent call last)",
      "Cell \u001B[1;32mIn[35], line 1\u001B[0m\n\u001B[1;32m----> 1\u001B[0m \u001B[43mdsa\u001B[49m\n",
      "\u001B[1;31mNameError\u001B[0m: name 'dsa' is not defined"
     ]
    }
   ],
   "source": [
    "dsa"
   ]
  },
  {
   "cell_type": "code",
   "execution_count": null,
   "id": "75582f14-3b34-49b1-a380-457ef877db81",
   "metadata": {},
   "outputs": [],
   "source": [
    "featured_df[\"normalized_peak_hour\"].describe()"
   ]
  },
  {
   "cell_type": "markdown",
   "id": "86c204ca-e986-4c16-9d00-61b7b5240ebf",
   "metadata": {},
   "source": [
    "1) We have the significant deviation of the target - 2023 % of the average value\n",
    "2) Many target values are in the first quartile\n",
    "3) Few target values are in the third quartile\n",
    "4) The minium target value is smaller in 4.35 times than the maximum target valu\n",
    "\n",
    "Df doesn't have missing and infinity target values, but it has outliers."
   ]
  },
  {
   "cell_type": "markdown",
   "id": "c8239d33-1ed3-42f1-9f05-909e6b9253b2",
   "metadata": {},
   "source": [
    "________________________________________________________________________________________________________________________________________________________"
   ]
  },
  {
   "cell_type": "markdown",
   "id": "11181dc7-0f3b-43d9-a593-7aea651df302",
   "metadata": {},
   "source": [
    "* Normalized target distribution:"
   ]
  },
  {
   "cell_type": "code",
   "execution_count": null,
   "id": "df2931ac-b381-4fc0-9430-8bb6af39181c",
   "metadata": {},
   "outputs": [],
   "source": [
    "analyt_df = featured_df[\"normalized_peak_hour\"][\"2012-08\":].copy().dropna().to_frame()"
   ]
  },
  {
   "cell_type": "markdown",
   "id": "cfb681cd-bd2a-43f0-af6d-81452edbb098",
   "metadata": {},
   "source": [
    "Does the normalized target has a normal distribution?"
   ]
  },
  {
   "cell_type": "code",
   "execution_count": null,
   "id": "b3fbc9cf-a318-4307-871f-bbdc441dfa1d",
   "metadata": {},
   "outputs": [],
   "source": [
    "print(\"Answer:\", str(shapiro(analyt_df[\"normalized_peak_hour\"])[1] > 0.05) + '.')"
   ]
  },
  {
   "cell_type": "markdown",
   "id": "d470cc98-248c-4312-bd42-c2bfadd1a0d0",
   "metadata": {},
   "source": [
    "Visualise our suggest:"
   ]
  },
  {
   "cell_type": "code",
   "execution_count": null,
   "id": "d4f0d13e-5515-4084-b4e6-da2539d17775",
   "metadata": {},
   "outputs": [],
   "source": [
    "plt.figure(figsize=(12, 4))\n",
    "sm.qqplot(analyt_df[\"normalized_peak_hour\"], line=\"45\")\n",
    "plt.title(\"Normalized Peak Hour Distribution (QQplot)\");"
   ]
  },
  {
   "cell_type": "code",
   "execution_count": null,
   "id": "354aa8c1-a922-4e5c-92a0-ba9a54de5513",
   "metadata": {},
   "outputs": [],
   "source": [
    "plt.figure(figsize=(15, 3))\n",
    "sns.distplot(analyt_df[\"normalized_peak_hour\"], bins=8, hist=True)\n",
    "plt.xlabel(\"Normalized peak hour\")\n",
    "plt.ylabel(\"Frequency of occurrence\")\n",
    "plt.title(\"Normalized Peak Hour Distribution (Distplot)\")\n",
    "plt.grid(color='r', linestyle='-');"
   ]
  },
  {
   "cell_type": "markdown",
   "id": "e4906990-580c-4f09-ac43-40ee58a72d4d",
   "metadata": {},
   "source": [
    "The target distribution is not normal, but is close to normal."
   ]
  },
  {
   "cell_type": "markdown",
   "id": "dca74a2d-5e41-43e1-8bf4-4d771f70aa85",
   "metadata": {},
   "source": [
    "_________________________________________________________________________________________________________________________________________________________"
   ]
  },
  {
   "cell_type": "markdown",
   "id": "0b0b17ec-9af3-473f-b81e-2ac00e8de344",
   "metadata": {},
   "source": [
    "* Normalized target trend:"
   ]
  },
  {
   "cell_type": "code",
   "execution_count": null,
   "id": "b848a356-f46a-4a90-ad2d-56f7d8beb9f5",
   "metadata": {},
   "outputs": [],
   "source": [
    "analyt_df = featured_df[\"normalized_peak_hour\"][\"2012-08\":].copy().dropna().to_frame()"
   ]
  },
  {
   "cell_type": "code",
   "execution_count": null,
   "id": "73aa0750-3929-4c13-a3b6-b64b4eb0a51c",
   "metadata": {},
   "outputs": [],
   "source": [
    "plt.figure(figsize=(15, 3))\n",
    "sns.lineplot(analyt_df)\n",
    "plt.xlabel(\"Datetime\")\n",
    "plt.ylabel(\"Normalized peak hour\")\n",
    "plt.title(\"Normalized Peak Hours (Lineplot)\")\n",
    "plt.grid(color='r', linestyle='-');"
   ]
  },
  {
   "cell_type": "markdown",
   "id": "808bdbe3-f086-45c1-9580-91d1d966c900",
   "metadata": {},
   "source": [
    "Let's check half year windows to avoid big dispersion and noise.\n",
    "\n",
    "Does the normalized target has a trend?"
   ]
  },
  {
   "cell_type": "code",
   "execution_count": null,
   "id": "8c22d338-402e-4912-8d4e-bc09c4d80b14",
   "metadata": {},
   "outputs": [],
   "source": [
    "print(\"Answer:\", mk.original_test(\n",
    "    create_rolling_window_feature(analyt_df, \"normalized_peak_hour\", \"mean\", get_average_months_length(analyt_df, 2013,\n",
    "                                                                                                       2023) * 6)).trend + \".\")"
   ]
  },
  {
   "cell_type": "markdown",
   "id": "4f463d47-387b-4df2-afc7-9d29824e6a12",
   "metadata": {},
   "source": [
    "Visualise our suggest:"
   ]
  },
  {
   "cell_type": "code",
   "execution_count": null,
   "id": "2af0d97e-9e2b-4e99-9979-54eb3ce88b1d",
   "metadata": {},
   "outputs": [],
   "source": [
    "plt.figure(figsize=(15, 3))\n",
    "sns.lineplot(create_rolling_window_feature(analyt_df, \"normalized_peak_hour\", \"mean\",\n",
    "                                           get_average_months_length(analyt_df, 2013, 2023) * 6))\n",
    "plt.xlabel(\"Datetime\")\n",
    "plt.ylabel(\"Normalized peak hour\")\n",
    "plt.title(\"Smooth Normalized Peak Hours (Lineplot)\")\n",
    "plt.grid(color='r', linestyle='-');"
   ]
  },
  {
   "cell_type": "markdown",
   "id": "b070f361-f939-4ccc-a83a-f4b997e9bd98",
   "metadata": {},
   "source": [
    "Let's take a closer look:"
   ]
  },
  {
   "cell_type": "code",
   "execution_count": null,
   "id": "136dcbba-8bff-49a7-9249-e71c8ae9af00",
   "metadata": {},
   "outputs": [],
   "source": [
    "analyt_df[\"time_dummie\"] = create_time_dummie_feature(analyt_df)\n",
    "analyt_df[\"semiannual_rolling_window\"] = create_rolling_window_feature(analyt_df, \"normalized_peak_hour\", \"mean\",\n",
    "                                                                       get_average_months_length(analyt_df,\n",
    "                                                                                                 2013, 2023) * 6)\n",
    "\n",
    "analyt_df.dropna(inplace=True)"
   ]
  },
  {
   "cell_type": "code",
   "execution_count": null,
   "id": "10e339a5-9db2-4309-98a9-70fda63328e5",
   "metadata": {},
   "outputs": [],
   "source": [
    "plt.figure(figsize=(15, 3))\n",
    "figure = sns.regplot(x=\"time_dummie\", y=\"semiannual_rolling_window\", data=analyt_df, scatter_kws=dict(color=\"0.75\"));\n",
    "figure.set_xticks([_ for _ in range(0, 3000, 200)])\n",
    "plt.xlabel(\"Time dummie\")\n",
    "plt.ylabel(\"Normalized peak hour\")\n",
    "plt.title(\"Smooth Normalized Peak Hours (Regplot)\")\n",
    "plt.grid(color='r', linestyle='-');"
   ]
  },
  {
   "cell_type": "markdown",
   "id": "2034e487-a1ac-49c9-940d-8ffb07a617ed",
   "metadata": {},
   "source": [
    "The normalized target has a trend."
   ]
  },
  {
   "cell_type": "markdown",
   "id": "7f7146a9-5b0f-4d7c-8333-df079be395cb",
   "metadata": {},
   "source": [
    "_________________________________________________________________________________________________________________________________________________________"
   ]
  },
  {
   "cell_type": "markdown",
   "id": "49cf8d08-43ee-4fb2-92d6-7fc7c32a7e99",
   "metadata": {},
   "source": [
    "* The normalized target trend model:\n",
    "\n",
    "The normalized target has a decreasing trend.\n",
    "\n",
    "Let's cut a data from beginning, because we have leap at the first time.\n",
    "\n",
    "This leap is exists because in 2014 year was a political problems which effect on economic and electro consumption.\n",
    "\n",
    "Let's watch trend plots with difference windows size:"
   ]
  },
  {
   "cell_type": "code",
   "execution_count": null,
   "id": "f121b054-f40a-428e-94c6-e9a8f51251bd",
   "metadata": {},
   "outputs": [],
   "source": [
    "analyt_df = featured_df[\"normalized_peak_hour\"][\"2014-04\":].copy().dropna().to_frame()"
   ]
  },
  {
   "cell_type": "code",
   "execution_count": null,
   "id": "b9d6da26-fc92-4ada-9066-57a69235653f",
   "metadata": {},
   "outputs": [],
   "source": [
    "analyt_df[\"time_dummie\"] = create_time_dummie_feature(analyt_df)\n",
    "analyt_df[\"quarter_rolling_window\"] = create_rolling_window_feature(analyt_df, \"normalized_peak_hour\", \"mean\",\n",
    "                                                                    get_average_months_length(analyt_df, 2015,\n",
    "                                                                                              2023) * 3)\n",
    "\n",
    "analyt_df.dropna(inplace=True)"
   ]
  },
  {
   "cell_type": "code",
   "execution_count": null,
   "id": "e60a1ba0-e34c-46a9-8299-254ac8ddba46",
   "metadata": {},
   "outputs": [],
   "source": [
    "plt.figure(figsize=(15, 3))\n",
    "figure = sns.regplot(x=\"time_dummie\", y=\"quarter_rolling_window\", data=analyt_df, scatter_kws=dict(color=\"0.75\"));\n",
    "figure.set_xticks([_ for _ in range(0, 2600, 200)])\n",
    "plt.xlabel(\"Time dummie\")\n",
    "plt.ylabel(\"Normalized peak hour\")\n",
    "plt.title(\"Smooth Normalized Peak Hours (Regplot)\")\n",
    "plt.grid(color='r', linestyle='-');"
   ]
  },
  {
   "cell_type": "code",
   "execution_count": null,
   "id": "f43cd7df-c6b3-4695-9f28-399649f2275d",
   "metadata": {},
   "outputs": [],
   "source": [
    "analyt_df = featured_df[\"normalized_peak_hour\"][\"2014-04\":].copy().dropna().to_frame()"
   ]
  },
  {
   "cell_type": "code",
   "execution_count": null,
   "id": "30df4be3-e83c-4d8a-a8d7-0560cff03738",
   "metadata": {},
   "outputs": [],
   "source": [
    "analyt_df[\"time_dummie\"] = create_time_dummie_feature(analyt_df)\n",
    "analyt_df[\"semiannual_rolling_window\"] = create_rolling_window_feature(analyt_df, \"normalized_peak_hour\", \"mean\",\n",
    "                                                                       get_average_months_length(analyt_df,\n",
    "                                                                                                 2015, 2023) * 6)\n",
    "\n",
    "analyt_df.dropna(inplace=True)"
   ]
  },
  {
   "cell_type": "code",
   "execution_count": null,
   "id": "9a99e46a-1061-4cf9-b644-3a0b44814087",
   "metadata": {},
   "outputs": [],
   "source": [
    "plt.figure(figsize=(15, 3))\n",
    "figure = sns.regplot(x=\"time_dummie\", y=\"semiannual_rolling_window\", data=analyt_df, scatter_kws=dict(color=\"0.75\"));\n",
    "figure.set_xticks([_ for _ in range(0, 2600, 200)])\n",
    "plt.xlabel(\"Time dummie\")\n",
    "plt.ylabel(\"Normalized peak hour\")\n",
    "plt.title(\"Smooth Normalized Peak Hours (Regplot)\")\n",
    "plt.grid(color='r', linestyle='-');"
   ]
  },
  {
   "cell_type": "code",
   "execution_count": null,
   "id": "4867c567-1627-4155-b57a-c621dfd5e421",
   "metadata": {},
   "outputs": [],
   "source": [
    "analyt_df = featured_df[\"normalized_peak_hour\"][\"2014-04\":].copy().dropna().to_frame()"
   ]
  },
  {
   "cell_type": "code",
   "execution_count": null,
   "id": "1747b6b7-bb79-4e54-9db9-4e080e9b6518",
   "metadata": {},
   "outputs": [],
   "source": [
    "analyt_df[\"time_dummie\"] = create_time_dummie_feature(analyt_df)\n",
    "analyt_df[\"annual_rolling_window\"] = create_rolling_window_feature(analyt_df, \"normalized_peak_hour\", \"mean\",\n",
    "                                                                   get_average_months_length(analyt_df, 2015,\n",
    "                                                                                             2023) * 12)\n",
    "\n",
    "analyt_df.dropna(inplace=True)"
   ]
  },
  {
   "cell_type": "code",
   "execution_count": null,
   "id": "853a42c7-ea99-4e1f-b127-9b1a2847e60c",
   "metadata": {},
   "outputs": [],
   "source": [
    "plt.figure(figsize=(15, 3))\n",
    "figure = sns.regplot(x=\"time_dummie\", y=\"annual_rolling_window\", data=analyt_df, scatter_kws=dict(color=\"0.75\"));\n",
    "figure.set_xticks([_ for _ in range(200, 2500, 200)])\n",
    "plt.xlabel(\"Time dummie\")\n",
    "plt.ylabel(\"Normalized peak hour\")\n",
    "plt.title(\"Smooth Normalized Peak Hours (Regplot)\")\n",
    "plt.grid(color='r', linestyle='-');"
   ]
  },
  {
   "cell_type": "markdown",
   "id": "e116082a-0b24-43af-b07c-44137de675b8",
   "metadata": {},
   "source": [
    "Definitely, we have the linear trend.\n",
    "\n",
    "At first, delete target data before `2014-04`:"
   ]
  },
  {
   "cell_type": "code",
   "execution_count": null,
   "id": "941f8524-c484-4c06-ba83-c04f45ab5b66",
   "metadata": {},
   "outputs": [],
   "source": [
    "featured_df = featured_df[\"2014-04\":]"
   ]
  },
  {
   "cell_type": "markdown",
   "id": "c28b54bf-fa31-49ad-9be0-bddce188e104",
   "metadata": {},
   "source": [
    "Let's create a trend model:"
   ]
  },
  {
   "cell_type": "code",
   "execution_count": null,
   "id": "68778153-4cfa-49f7-a416-102e13933a1a",
   "metadata": {},
   "outputs": [],
   "source": [
    "analyt_df = featured_df[\"normalized_peak_hour\"].copy().dropna().to_frame()"
   ]
  },
  {
   "cell_type": "code",
   "execution_count": null,
   "id": "d06ec841-60dd-478f-83df-c6a03ef7db47",
   "metadata": {},
   "outputs": [],
   "source": [
    "y = analyt_df[\"normalized_peak_hour\"]"
   ]
  },
  {
   "cell_type": "code",
   "execution_count": null,
   "id": "2f5c6772-f9cd-4d17-a20a-b5446a519f57",
   "metadata": {},
   "outputs": [],
   "source": [
    "y.head(2)"
   ]
  },
  {
   "cell_type": "code",
   "execution_count": null,
   "id": "419defc6-cf5b-40b7-b966-ccd77db88874",
   "metadata": {},
   "outputs": [],
   "source": [
    "y.tail(2)"
   ]
  },
  {
   "cell_type": "code",
   "execution_count": null,
   "id": "d6339bac-93dd-4860-a9fd-2e808137e423",
   "metadata": {},
   "outputs": [],
   "source": [
    "dp = DP(index=y.index, order=1)\n",
    "x = dp.in_sample()"
   ]
  },
  {
   "cell_type": "code",
   "execution_count": null,
   "id": "d1766f43-8223-4276-a477-3c1aaa648da6",
   "metadata": {},
   "outputs": [],
   "source": [
    "x.head(2)"
   ]
  },
  {
   "cell_type": "code",
   "execution_count": null,
   "id": "f11ad369-ddd5-44a7-8780-7d207081ef0b",
   "metadata": {},
   "outputs": [],
   "source": [
    "x.tail(2)"
   ]
  },
  {
   "cell_type": "code",
   "execution_count": null,
   "id": "050ac11f-a64d-4832-9b74-37512a38cb41",
   "metadata": {},
   "outputs": [],
   "source": [
    "trend_model = LinRegr()"
   ]
  },
  {
   "cell_type": "code",
   "execution_count": null,
   "id": "8ece7862-f794-42ba-b20b-2bb0230d49dc",
   "metadata": {},
   "outputs": [],
   "source": [
    "trend_model.fit(x, y)"
   ]
  },
  {
   "cell_type": "markdown",
   "id": "945fd243-0e50-407b-b40d-ea4daf9e76f7",
   "metadata": {},
   "source": [
    "We will make prediction to subtract trend from trend (detrending):"
   ]
  },
  {
   "cell_type": "code",
   "execution_count": null,
   "id": "310596b5-fcc8-4f2b-9369-d4c632e443f4",
   "metadata": {},
   "outputs": [],
   "source": [
    "y_pred = pd.Series(trend_model.predict(x), index=x.index)"
   ]
  },
  {
   "cell_type": "markdown",
   "id": "897d61d1-d4fc-4bd5-b129-d70fa932880b",
   "metadata": {},
   "source": [
    "Let's detrending our time series:"
   ]
  },
  {
   "cell_type": "code",
   "execution_count": null,
   "id": "e3f14eae-07ce-4366-bead-9648f0b62459",
   "metadata": {},
   "outputs": [],
   "source": [
    "featured_df[\"normalized_peak_hour\"] = featured_df[\"normalized_peak_hour\"] - y_pred"
   ]
  },
  {
   "cell_type": "markdown",
   "id": "1fe685e5-0234-4dd3-9828-fc926421f9d4",
   "metadata": {},
   "source": [
    "And check up updated normalized target:"
   ]
  },
  {
   "cell_type": "code",
   "execution_count": null,
   "id": "0c52e478-ff84-4121-9831-815564fc82ee",
   "metadata": {},
   "outputs": [],
   "source": [
    "analyt_df = featured_df[\"normalized_peak_hour\"].copy().to_frame()"
   ]
  },
  {
   "cell_type": "code",
   "execution_count": null,
   "id": "49111b3e-c92d-49d6-8dad-879d524eccc1",
   "metadata": {},
   "outputs": [],
   "source": [
    "analyt_df[\"time_dummie\"] = create_time_dummie_feature(analyt_df)\n",
    "analyt_df[\"semiannual_rolling_window\"] = create_rolling_window_feature(analyt_df, \"normalized_peak_hour\", \"mean\",\n",
    "                                                                       get_average_months_length(analyt_df,\n",
    "                                                                                                 2015, 2023) * 6)\n",
    "\n",
    "analyt_df.dropna(inplace=True)"
   ]
  },
  {
   "cell_type": "code",
   "execution_count": null,
   "id": "38896b58-f03c-4a2f-aa24-a5949700baf6",
   "metadata": {},
   "outputs": [],
   "source": [
    "plt.figure(figsize=(15, 3))\n",
    "figure = sns.regplot(x=\"time_dummie\", y=\"semiannual_rolling_window\", data=analyt_df, scatter_kws=dict(color=\"0.75\"));\n",
    "figure.set_xticks([_ for _ in range(100, 2350, 200)])\n",
    "plt.xlabel(\"Time dummie\")\n",
    "plt.ylabel(\"Normalized peak hour\")\n",
    "plt.title(\"Smooth Normalized Peak Hours (Regplot)\")\n",
    "plt.grid(color='r', linestyle='-');"
   ]
  },
  {
   "cell_type": "markdown",
   "id": "94a46bd0-c4e3-4d23-a574-41a0e6740ff5",
   "metadata": {},
   "source": [
    "Detrending works.\n",
    "\n",
    "Let's save our trend model:"
   ]
  },
  {
   "cell_type": "code",
   "execution_count": null,
   "id": "32fefe1d-8fd1-4efd-a3b2-a1a6ac29093a",
   "metadata": {},
   "outputs": [],
   "source": [
    "model_name = \"trend_model.sav\"\n",
    "model_path = \"../../../models/Московская область/\""
   ]
  },
  {
   "cell_type": "code",
   "execution_count": null,
   "id": "e2bee6af-1f93-429e-9f64-128e318ba6af",
   "metadata": {},
   "outputs": [],
   "source": [
    "dump(trend_model, open(model_path + model_name, \"wb\"))"
   ]
  },
  {
   "cell_type": "markdown",
   "id": "b61af6c9-84af-4fd8-a2aa-f3039559e1d0",
   "metadata": {},
   "source": [
    "So let's check up the updated target data:"
   ]
  },
  {
   "cell_type": "code",
   "execution_count": null,
   "id": "04442b65-e3fc-436e-bd7f-516a029a433c",
   "metadata": {},
   "outputs": [],
   "source": [
    "featured_df[\"normalized_peak_hour\"].to_frame().info()"
   ]
  },
  {
   "cell_type": "code",
   "execution_count": null,
   "id": "478b7693-06d7-4ad5-9dfa-92e7f622c4a8",
   "metadata": {},
   "outputs": [],
   "source": [
    "featured_df[\"normalized_peak_hour\"].to_frame().describe()"
   ]
  },
  {
   "cell_type": "markdown",
   "id": "1854690c-b085-41c8-b618-bc07fdbee250",
   "metadata": {},
   "source": [
    "Most of the data is biased in the negative direction."
   ]
  },
  {
   "cell_type": "markdown",
   "id": "0c5f2957-9026-4315-911f-215ea7a97320",
   "metadata": {},
   "source": [
    "________________________________________________________________________________________________________________________________________________________"
   ]
  },
  {
   "cell_type": "markdown",
   "id": "2487cec3-87fc-4437-aff1-4038adea7a3f",
   "metadata": {},
   "source": [
    "* Detrended normalized target distribution:"
   ]
  },
  {
   "cell_type": "code",
   "execution_count": null,
   "id": "0a2ded1b-c039-4d88-a523-f32b86d31509",
   "metadata": {},
   "outputs": [],
   "source": [
    "analyt_df = featured_df[\"normalized_peak_hour\"].copy().to_frame()"
   ]
  },
  {
   "cell_type": "markdown",
   "id": "2c6a2280-3a3f-46c3-b245-97684d5b6f8f",
   "metadata": {},
   "source": [
    "Does the detrended normalized target has a normal distribution?"
   ]
  },
  {
   "cell_type": "code",
   "execution_count": null,
   "id": "744ef15c-0eb9-4d39-a8e8-b84523afc5cf",
   "metadata": {},
   "outputs": [],
   "source": [
    "print(\"Answer:\", str(shapiro(analyt_df[\"normalized_peak_hour\"])[1] > 0.05) + '.')"
   ]
  },
  {
   "cell_type": "markdown",
   "id": "a011f13e-65dc-4ef9-858d-a05ee558530e",
   "metadata": {},
   "source": [
    "Visualise our suggest:"
   ]
  },
  {
   "cell_type": "code",
   "execution_count": null,
   "id": "68119066-5b88-49f4-9833-273af5f1d6c9",
   "metadata": {},
   "outputs": [],
   "source": [
    "plt.figure(figsize=(12, 4))\n",
    "sm.qqplot(analyt_df[\"normalized_peak_hour\"], line=\"45\")\n",
    "plt.title(\"Detrended Normalized Peak Hour Distribution (QQplot)\");"
   ]
  },
  {
   "cell_type": "code",
   "execution_count": null,
   "id": "f05e21c6-80ce-4a92-89fb-46ffe097b7ac",
   "metadata": {},
   "outputs": [],
   "source": [
    "plt.figure(figsize=(15, 3))\n",
    "sns.distplot(analyt_df[\"normalized_peak_hour\"], bins=8, hist=True)\n",
    "plt.xlabel(\"Detrended normalized peak hour\")\n",
    "plt.ylabel(\"Frequency of hour occurrence\")\n",
    "plt.title(\"Detrended Normalized Peak Hour Distribution (Distplot)\")\n",
    "plt.grid(color='r', linestyle='-');"
   ]
  },
  {
   "cell_type": "markdown",
   "id": "28ae78fa-52de-4773-8ea5-f67083612f85",
   "metadata": {},
   "source": [
    "The distribution is still not normal."
   ]
  },
  {
   "cell_type": "markdown",
   "id": "bd6cc1a3-71cc-4799-b56c-9b5d082ec749",
   "metadata": {},
   "source": [
    "________________________________________________________________________________________________________________________________________________________"
   ]
  },
  {
   "cell_type": "markdown",
   "id": "981da8f3-7d34-4a2e-8c21-26e5543ba99c",
   "metadata": {},
   "source": [
    "* The detrended normalized target trend:"
   ]
  },
  {
   "cell_type": "code",
   "execution_count": null,
   "id": "0ad93bb2-55c4-4f2c-8e0c-1702bc5451d4",
   "metadata": {},
   "outputs": [],
   "source": [
    "analyt_df = featured_df[\"normalized_peak_hour\"].copy().to_frame()"
   ]
  },
  {
   "cell_type": "code",
   "execution_count": null,
   "id": "9148e934-ba46-4939-ae12-fe2904140a91",
   "metadata": {},
   "outputs": [],
   "source": [
    "plt.figure(figsize=(15, 3))\n",
    "figure = sns.lineplot(analyt_df[\"normalized_peak_hour\"])\n",
    "plt.xlabel(\"Datetime\")\n",
    "plt.ylabel(\"Detrended normalized peak hour\")\n",
    "plt.title(\"Detrended Normalized Peak Hours (Lineplot)\")\n",
    "plt.grid(color='r', linestyle='-');"
   ]
  },
  {
   "cell_type": "markdown",
   "id": "f060fe26-5fec-4c0f-b325-97f394827363",
   "metadata": {},
   "source": [
    "Let's check half year windows to avoid big dispersion and noise.\n",
    "\n",
    "Does target has a trend?"
   ]
  },
  {
   "cell_type": "code",
   "execution_count": null,
   "id": "0d4732e5-3afe-470b-bc65-8cf0b45c8dec",
   "metadata": {},
   "outputs": [],
   "source": [
    "print(\"Answer:\", mk.original_test(\n",
    "    create_rolling_window_feature(analyt_df, \"normalized_peak_hour\", \"mean\", get_average_months_length(analyt_df, 2015,\n",
    "                                                                                                       2023) * 6)).trend + \".\")"
   ]
  },
  {
   "cell_type": "markdown",
   "id": "5bed774f-9b8e-4f2e-8519-fbcb036efb21",
   "metadata": {},
   "source": [
    "Visualise our suggest:"
   ]
  },
  {
   "cell_type": "code",
   "execution_count": null,
   "id": "e6a199ca-0300-4c7e-a350-e9970d3abe16",
   "metadata": {},
   "outputs": [],
   "source": [
    "plt.figure(figsize=(15, 3))\n",
    "sns.lineplot(create_rolling_window_feature(analyt_df, \"normalized_peak_hour\", \"mean\",\n",
    "                                           get_average_months_length(analyt_df, 2015, 2023) * 6))\n",
    "plt.xlabel(\"Datetime\")\n",
    "plt.ylabel(\"Detrended normalized peak hour\")\n",
    "plt.title(\"Smooth Detrended Normalized Peak Hours (Lineplot)\")\n",
    "plt.grid(color='r', linestyle='-');"
   ]
  },
  {
   "cell_type": "markdown",
   "id": "1bb20b91-35b0-4dbd-a3ea-711fc151c55e",
   "metadata": {},
   "source": [
    "Let's take a closer look:"
   ]
  },
  {
   "cell_type": "code",
   "execution_count": null,
   "id": "ca0a6695-f419-4a3d-b39a-bdec51b01d6d",
   "metadata": {},
   "outputs": [],
   "source": [
    "analyt_df = featured_df[\"normalized_peak_hour\"].copy().to_frame()"
   ]
  },
  {
   "cell_type": "code",
   "execution_count": null,
   "id": "26db2b3a-3fc4-40cc-9dd6-301760150cdf",
   "metadata": {},
   "outputs": [],
   "source": [
    "analyt_df[\"time_dummie\"] = create_time_dummie_feature(analyt_df)\n",
    "analyt_df[\"semiannual_rolling_window\"] = create_rolling_window_feature(analyt_df, \"normalized_peak_hour\", \"mean\",\n",
    "                                                                       get_average_months_length(analyt_df,\n",
    "                                                                                                 2015, 2023) * 6)\n",
    "\n",
    "analyt_df.dropna(inplace=True)"
   ]
  },
  {
   "cell_type": "code",
   "execution_count": null,
   "id": "c70007e4-9a27-47f2-9364-d2ff7f35652e",
   "metadata": {},
   "outputs": [],
   "source": [
    "plt.figure(figsize=(15, 3))\n",
    "figure = sns.regplot(x=\"time_dummie\", y=\"semiannual_rolling_window\", data=analyt_df, scatter_kws=dict(color=\"0.3\"));\n",
    "figure.set_xticks([_ for _ in range(50, 2600, 200)])\n",
    "plt.xlabel(\"Time dummie\")\n",
    "plt.ylabel(\"Detrended normalized peak hour\")\n",
    "plt.title(\"Smooth Detrended Normalized Peak Hours (Regplot)\")\n",
    "plt.grid(color='r', linestyle='-');"
   ]
  },
  {
   "cell_type": "code",
   "execution_count": null,
   "id": "37de7641-aa74-4b68-b9be-6c9a3e1988fc",
   "metadata": {},
   "outputs": [],
   "source": [
    "analyt_df = featured_df[\"normalized_peak_hour\"].copy().to_frame()"
   ]
  },
  {
   "cell_type": "code",
   "execution_count": null,
   "id": "97ae7f9a-fa07-4a56-9481-b862fe604096",
   "metadata": {},
   "outputs": [],
   "source": [
    "analyt_df[\"time_dummie\"] = create_time_dummie_feature(analyt_df)\n",
    "analyt_df[\"annual_rolling_window\"] = create_rolling_window_feature(analyt_df, \"normalized_peak_hour\", \"mean\",\n",
    "                                                                   get_average_months_length(analyt_df, 2015,\n",
    "                                                                                             2023) * 12)\n",
    "\n",
    "analyt_df.dropna(inplace=True)"
   ]
  },
  {
   "cell_type": "code",
   "execution_count": null,
   "id": "3f33b426-de3d-4a15-bf31-5392b366536b",
   "metadata": {},
   "outputs": [],
   "source": [
    "plt.figure(figsize=(15, 3))\n",
    "figure = sns.regplot(x=\"time_dummie\", y=\"annual_rolling_window\", data=analyt_df, scatter_kws=dict(color=\"0.3\"));\n",
    "figure.set_xticks([_ for _ in range(200, 2500, 200)])\n",
    "plt.xlabel(\"Time dummie\")\n",
    "plt.ylabel(\"Detrended normalized peak hour\")\n",
    "plt.title(\"Smooth Detrended Normalized Peak Hours (Regplot)\")\n",
    "plt.grid(color='r', linestyle='-');"
   ]
  },
  {
   "cell_type": "markdown",
   "id": "bb988e3d-4cba-4e9f-8cbd-4aafcbf619dd",
   "metadata": {},
   "source": [
    "We have a very little trend.\n",
    "\n",
    "It will be better to ignore it."
   ]
  },
  {
   "cell_type": "markdown",
   "id": "bfc78d5f-fac7-482a-ab88-c547a2fa5d99",
   "metadata": {},
   "source": [
    "_________________________________________________________________________________________________________________________________________________________"
   ]
  },
  {
   "cell_type": "markdown",
   "id": "bc9b0763-8377-4e4c-90a8-258c395c9b82",
   "metadata": {},
   "source": [
    "* The detrended normalized target periods:"
   ]
  },
  {
   "cell_type": "code",
   "execution_count": null,
   "id": "f833aa55-d15c-443a-9392-b5272f3d08b1",
   "metadata": {},
   "outputs": [],
   "source": [
    "zxc_index = featured_df[\"normalized_peak_hour\"]\n",
    "freq = 245"
   ]
  },
  {
   "cell_type": "code",
   "execution_count": null,
   "id": "4e3a24c6-eea5-4865-bd96-4df9ec556c58",
   "metadata": {},
   "outputs": [],
   "source": [
    "time = np.arange(len(zxc_index), dtype=np.float32)\n",
    "k = 2 * np.pi * (1 / freq) * time\n",
    "features = {}\n",
    "\n",
    "for i in [1, 2, 5]:\n",
    "    features.update({\n",
    "        f\"sin_{freq}_{i}\": np.sin(i * k),\n",
    "        f\"cos_{freq}_{i}\": np.cos(i * k),\n",
    "    })\n",
    "\n",
    "    zxc = pd.DataFrame(features, index=zxc_index)"
   ]
  },
  {
   "cell_type": "code",
   "execution_count": null,
   "id": "2750efc3-6a0c-473f-b55e-3fd493fd4d90",
   "metadata": {},
   "outputs": [],
   "source": [
    "# plot_periodogram(featured_df[\"peak_hour\"][\"2015\": ])"
   ]
  },
  {
   "cell_type": "code",
   "execution_count": null,
   "id": "19974dba-360a-49bc-91a6-fe1bee6170d1",
   "metadata": {},
   "outputs": [],
   "source": [
    "plot_periodogram(featured_df[\"normalized_peak_hour\"])"
   ]
  },
  {
   "cell_type": "code",
   "execution_count": null,
   "id": "2e71f59a-9f27-45cc-9fce-747e8de77d72",
   "metadata": {},
   "outputs": [],
   "source": [
    "sm = 0\n",
    "cnt = 0\n",
    "\n",
    "for year in range(2015, 2023):\n",
    "    sm += analyt_df[analyt_df.index.year == year].shape[0]\n",
    "    cnt += 1\n",
    "\n",
    "year_days_count = sm / cnt"
   ]
  },
  {
   "cell_type": "code",
   "execution_count": null,
   "id": "03d92296-da83-407e-83dc-8b867267afd6",
   "metadata": {},
   "outputs": [],
   "source": [
    "# X = analyt_df[\"normalized_peak_hour\"].copy().to_frame()\n",
    "# X[\"day\"] = X.index.dayofweek + 1\n",
    "# X[\"week\"] = X.index.isocalendar().week\n",
    "# X[\"dayofyear\"] = X.index.dayofyear\n",
    "# X[\"year\"] = X.index.year"
   ]
  },
  {
   "cell_type": "code",
   "execution_count": null,
   "id": "332534ed-3496-4b75-9967-d6721012f5ef",
   "metadata": {},
   "outputs": [],
   "source": [
    "# seasonal_plot(X[\"2019-04\": \"2020-04\"], y=\"normalized_peak_hour\", period=\"week\", freq=\"day\")"
   ]
  },
  {
   "cell_type": "markdown",
   "id": "ca41a669-a33d-444b-97a8-5377c4bb3069",
   "metadata": {},
   "source": [
    "паттерна нет"
   ]
  },
  {
   "cell_type": "code",
   "execution_count": null,
   "id": "85c16c62-8ac7-45dc-af95-ac281eaef1b7",
   "metadata": {},
   "outputs": [],
   "source": [
    "# seasonal_plot(X, y=\"normalized_peak_hour\", period=\"year\", freq=\"dayofyear\");"
   ]
  },
  {
   "cell_type": "markdown",
   "id": "178e71d2-0e9b-4548-afd9-0456d43ecc83",
   "metadata": {},
   "source": [
    "есть паттерн годовой"
   ]
  },
  {
   "cell_type": "markdown",
   "id": "c7e1ed27-b16c-44f2-8bb3-faad83115f19",
   "metadata": {},
   "source": [
    "Год, пол года, квартал, 5 месяцев"
   ]
  },
  {
   "cell_type": "markdown",
   "id": "3693237b-e357-40fb-b6be-b893e6686cbe",
   "metadata": {},
   "source": [
    "Недельной нет."
   ]
  },
  {
   "cell_type": "code",
   "execution_count": null,
   "id": "a974f282-79da-4c38-9caa-fecd67824974",
   "metadata": {},
   "outputs": [],
   "source": [
    "days = np.arange(len(featured_df[\"normalized_peak_hour\"])) + 1"
   ]
  },
  {
   "cell_type": "code",
   "execution_count": null,
   "id": "0dcbc0a5-760e-4223-86ca-86a8a152a8d7",
   "metadata": {},
   "outputs": [],
   "source": [
    "# # res1 = create_fourier_features(days, year_days_count)\n",
    "# # res2 = create_fourier_features(days, (year_days_count + 1) // 2)\n",
    "# # res3 = create_fourier_features(days, (year_days_count + 1) // 5)\n",
    "\n",
    "# year_sin = pd.Series(np.sin(2 * np.pi * days / 247 * 2.02))\n",
    "# year_cos = pd.Series(np.cos(2 * np.pi * days / 247 * 2.02))\n",
    "\n",
    "# res = pd.concat({\"year_cos\": year_cos, \"year_sin\": year_sin}, axis=1)\n",
    "\n",
    "# # res = pd.concat([res1, res2, res3], axis=1)"
   ]
  },
  {
   "cell_type": "code",
   "execution_count": null,
   "id": "3ef3c7cd-9022-4934-8d86-e7e0a5159386",
   "metadata": {},
   "outputs": [],
   "source": [
    "season_model = LinRegr(fit_intercept=False)\n",
    "_ = season_model.fit(zxc, featured_df[\"normalized_peak_hour\"])"
   ]
  },
  {
   "cell_type": "code",
   "execution_count": null,
   "id": "75e5dd2a-9751-4b98-bb8a-d1134925dcfd",
   "metadata": {},
   "outputs": [],
   "source": [
    "y_pred = pd.Series(season_model.predict(zxc), index=featured_df[\"normalized_peak_hour\"].index)"
   ]
  },
  {
   "cell_type": "code",
   "execution_count": null,
   "id": "5f902f85-c305-43c8-85fc-258143fb06c7",
   "metadata": {},
   "outputs": [],
   "source": [
    "y_pred"
   ]
  },
  {
   "cell_type": "code",
   "execution_count": null,
   "id": "2bb43a9d-78d9-42cf-87b7-a995fe7f7808",
   "metadata": {},
   "outputs": [],
   "source": [
    "plot_periodogram(featured_df[\"normalized_peak_hour\"] - y_pred)"
   ]
  },
  {
   "cell_type": "code",
   "execution_count": null,
   "id": "1979355b-cd6e-4fb9-9ca3-c66da4ef913d",
   "metadata": {},
   "outputs": [],
   "source": [
    "featured_df[\"normalized_peak_hour\"] = featured_df[\"normalized_peak_hour\"] - y_pred"
   ]
  },
  {
   "cell_type": "code",
   "execution_count": null,
   "id": "4008ec3e-9ed2-477b-a63a-6119c8288696",
   "metadata": {},
   "outputs": [],
   "source": [
    "model_name = \"season_model.sav\"\n",
    "model_path = \"../../../models/Московская область/\"\n",
    "dump(trend_model, open(model_path + model_name, \"wb\"))"
   ]
  },
  {
   "cell_type": "markdown",
   "id": "3145d9ef-ac75-458c-911c-8df0ed368038",
   "metadata": {},
   "source": [
    "_________________________________________________________________________________________________________________________________________________________"
   ]
  },
  {
   "cell_type": "markdown",
   "id": "2e7d115f-7cf8-4fb9-8d6f-3eb4198033ab",
   "metadata": {},
   "source": [
    "* Check normalize target correlation:"
   ]
  },
  {
   "cell_type": "code",
   "execution_count": null,
   "id": "b7d5c478-d11c-4c53-8e49-bfbecf170198",
   "metadata": {},
   "outputs": [],
   "source": [
    "analyt_df = featured_df[\"normalized_peak_hour\"].copy().dropna().to_frame()"
   ]
  },
  {
   "cell_type": "code",
   "execution_count": null,
   "id": "a6b66564-2380-44db-9eb5-d72cbefba7c0",
   "metadata": {},
   "outputs": [],
   "source": [
    "# print(\"Does normalized data a autocorrelation?\")\n",
    "# print(\"Answer:\", f'{max(sm.tsa.acf(analyt_df[\"normalized_peak_hour\"])[1:]) > 0.4}.')\n",
    "# print(\"Visualise our suggest.\")"
   ]
  },
  {
   "cell_type": "code",
   "execution_count": null,
   "id": "a2a24f3d-3ef6-44bf-9160-3b57692c4d43",
   "metadata": {},
   "outputs": [],
   "source": [
    "plt.figure(figsize=(20, 4))\n",
    "autocorr_plot(analyt_df[\"normalized_peak_hour\"], lags=get_average_months_length(analyt_df, 2015, 2023) * 12)\n",
    "plt.axis(\"tight\")\n",
    "plt.ylabel(\"Correlation coefficient\", fontsize=14)\n",
    "plt.xlabel(\"The order of the peak hour\", fontsize=14)\n",
    "plt.title(\"Peak hour autocorrelation\", fontsize=16)\n",
    "plt.show();"
   ]
  },
  {
   "cell_type": "code",
   "execution_count": null,
   "id": "f6dfb645-b10c-4ad0-b69f-8889722b28ae",
   "metadata": {},
   "outputs": [],
   "source": [
    "print(\"Let's see a separated cases:\")"
   ]
  },
  {
   "cell_type": "code",
   "execution_count": null,
   "id": "4e6b70d9-2b5d-46fd-aad6-6b9871a449a5",
   "metadata": {},
   "outputs": [],
   "source": []
  },
  {
   "cell_type": "code",
   "execution_count": null,
   "id": "ded7613c-400b-408c-b342-a59278dd5ed6",
   "metadata": {},
   "outputs": [],
   "source": [
    "# analyt_df[\"day_lag\"] = create_lag_feature(analyt_df, \"normalized_peak_hour\", 1)\n",
    "# analyt_df[\"week_lag\"] = create_lag_feature(analyt_df, \"normalized_peak_hour\", 5)\n",
    "# analyt_df[\"two_weeks_lag\"] = create_lag_feature(analyt_df, \"normalized_peak_hour\", 10)"
   ]
  },
  {
   "cell_type": "code",
   "execution_count": null,
   "id": "123402e8-5076-41dd-8a10-e6c178f015b0",
   "metadata": {},
   "outputs": [],
   "source": [
    "# plt.figure(figsize=(20, 4))\n",
    "# fig, ax = plt.subplots()\n",
    "# ax = sns.regplot(x=\"day_lag\", y=\"normalized_peak_hour\", data=analyt_df.dropna(), ci=None,\n",
    "#                  scatter_kws=dict(color=\"0.25\"))\n",
    "# ax.set_aspect(\"equal\")\n",
    "# plt.ylabel(\"Current normalized peak hour\", fontsize=14)\n",
    "# plt.xlabel(\"Day lag normalized peak hour\", fontsize=14)\n",
    "# ax.set_title(\"Lag plot of normalized peak hour\")"
   ]
  },
  {
   "cell_type": "code",
   "execution_count": null,
   "id": "342a85b3-3dcf-444e-8bc9-75a7dfe315e6",
   "metadata": {},
   "outputs": [],
   "source": [
    "# plt.figure(figsize=(20, 4))\n",
    "# autocorr_plot(analyt_df[\"normalized_peak_hour\"], lags=get_average_months_length(analyt_df, 2012, 2023) * 30)\n",
    "# plt.axis(\"tight\")\n",
    "# plt.ylabel(\"Correlation coefficient\", fontsize=14)\n",
    "# plt.xlabel(\"The order of the peak hour\", fontsize=14)\n",
    "# plt.title(\"Autocorrelation\", fontsize=16)\n",
    "# plt.show();"
   ]
  },
  {
   "cell_type": "code",
   "execution_count": null,
   "id": "65161a81-bed9-4371-b060-4a65de6a4d3e",
   "metadata": {},
   "outputs": [],
   "source": [
    "# print(\"There is a strong changing correlation.\")"
   ]
  },
  {
   "cell_type": "code",
   "execution_count": null,
   "id": "f164a18f-cf16-4516-bf39-8cf57902c7d0",
   "metadata": {},
   "outputs": [],
   "source": [
    "featured_df[\"lag_1\"] = create_lag_feature(featured_df, \"normalized_peak_hour\", 1)\n",
    "featured_df[\"lag_2\"] = create_lag_feature(featured_df, \"normalized_peak_hour\", 2)\n",
    "featured_df[\"lag_5\"] = create_lag_feature(featured_df, \"normalized_peak_hour\", 5)\n",
    "featured_df[\"lag_7\"] = create_lag_feature(featured_df, \"normalized_peak_hour\", 7)\n",
    "featured_df[\"lag_10\"] = create_lag_feature(featured_df, \"normalized_peak_hour\", 10)\n",
    "featured_df[\"lag_28\"] = create_lag_feature(featured_df, \"normalized_peak_hour\", 28)\n",
    "featured_df[\"lag_59\"] = create_lag_feature(featured_df, \"normalized_peak_hour\", 59)\n",
    "featured_df[\"lag_245\"] = create_lag_feature(featured_df, \"normalized_peak_hour\", 245)\n",
    "featured_df[\"lag_247\"] = create_lag_feature(featured_df, \"normalized_peak_hour\", 247)"
   ]
  },
  {
   "cell_type": "markdown",
   "id": "67025531-7f50-4318-bbd6-62bf2073a693",
   "metadata": {},
   "source": [
    "________________________________________________________________________________________________________________________________________________________"
   ]
  },
  {
   "cell_type": "markdown",
   "id": "a551ea7e-b283-4b30-91a1-f0b884fecca5",
   "metadata": {},
   "source": [
    "#### WORKING WITH FEATURES"
   ]
  },
  {
   "cell_type": "markdown",
   "id": "a8654580-d0b8-4f60-8977-336c9af1e899",
   "metadata": {},
   "source": [
    "* TIME DUMMIE FEATURE"
   ]
  },
  {
   "cell_type": "code",
   "execution_count": null,
   "id": "135b6868-4ce4-4ace-9fee-a2ac3e811739",
   "metadata": {},
   "outputs": [],
   "source": [
    "# featured_df[\"time_dummie\"] = create_time_dummie_feature(featured_df)"
   ]
  },
  {
   "cell_type": "code",
   "execution_count": null,
   "id": "abe53372-c28b-4c5f-8d17-607d2a40c41b",
   "metadata": {},
   "outputs": [],
   "source": [
    "# featured_df.head(2)"
   ]
  },
  {
   "cell_type": "code",
   "execution_count": null,
   "id": "a726f469-0df9-4697-aa05-998d42828e70",
   "metadata": {},
   "outputs": [],
   "source": [
    "# featured_df.tail(2)"
   ]
  },
  {
   "cell_type": "markdown",
   "id": "3e40dd34-9d0a-4dd4-ac4d-741feb704d8e",
   "metadata": {},
   "source": [
    "* DATETIME FEATURE"
   ]
  },
  {
   "cell_type": "code",
   "execution_count": null,
   "id": "1b4ce488-2bc2-4b25-b1a5-141805c1a8de",
   "metadata": {},
   "outputs": [],
   "source": [
    "# featured_df = pd.concat([featured_df, create_dayofweek_features(featured_df)[\n",
    "#     [\"monday\", \"tuesday\", \"wednesday\", \"thursday\", \"friday\", \"saturday\"]]],\n",
    "#                         axis=1)"
   ]
  },
  {
   "cell_type": "code",
   "execution_count": null,
   "id": "e3a7238c-e2b9-4117-badb-2188ee73d7f8",
   "metadata": {},
   "outputs": [],
   "source": [
    "# featured_df.head(2)"
   ]
  },
  {
   "cell_type": "code",
   "execution_count": null,
   "id": "e78efe24-3c71-46b8-aff2-1572e09d4e5b",
   "metadata": {},
   "outputs": [],
   "source": [
    "featured_df[\"day_of_month\"] = featured_df.index.day\n",
    "featured_df[\"day_of_year\"] = featured_df.index.dayofyear\n",
    "featured_df[\"week_of_year\"] = featured_df.index.isocalendar().week\n",
    "featured_df[\"month\"] = featured_df.index.month\n",
    "featured_df[\"quarter\"] = featured_df.index.quarter\n",
    "featured_df[\"year\"] = featured_df.index.year"
   ]
  },
  {
   "cell_type": "code",
   "execution_count": null,
   "id": "f29e4f5a-3e20-43ff-8a8b-1d72d3f3436b",
   "metadata": {},
   "outputs": [],
   "source": [
    "# featured_df.head(2)"
   ]
  },
  {
   "cell_type": "markdown",
   "id": "4bc81095-0b4f-43a1-95fb-736fc826bf3c",
   "metadata": {},
   "source": [
    "* HOLIDAYS FEATURE"
   ]
  },
  {
   "cell_type": "code",
   "execution_count": null,
   "id": "b4f5b560-6dd2-404a-894a-733bbaa7da02",
   "metadata": {},
   "outputs": [],
   "source": [
    "# print(\"Current dataframe has a holidays?\", f\"Answer: {sum(create_holiday_feature(df)) > 0}.\")"
   ]
  },
  {
   "cell_type": "markdown",
   "id": "5c36c722-db4b-4de1-851d-8dcf2214ee8a",
   "metadata": {},
   "source": [
    "* ROLLING MEAN WINDOW FEATURES"
   ]
  },
  {
   "cell_type": "code",
   "execution_count": null,
   "id": "64934c1e-3c9e-4c7e-a2a0-698a1b613e31",
   "metadata": {},
   "outputs": [],
   "source": [
    "# featured_df[\"rolling_mean_week\"] = create_rolling_window_feature(featured_df, \"normalized_peak_hour\", \"mean\", 5).shift(\n",
    "#     1)"
   ]
  },
  {
   "cell_type": "code",
   "execution_count": null,
   "id": "72d81f04-55e5-42ae-9523-d050f4eeb8ca",
   "metadata": {
    "scrolled": true
   },
   "outputs": [],
   "source": [
    "# plt.figure(figsize=(18, 4))\n",
    "# sns.lineplot(featured_df, x=featured_df.index, y=\"rolling_mean_week\")\n",
    "# plt.ylabel(\"Hour\")\n",
    "# plt.xlabel(\"Datetime\")\n",
    "# plt.title(\"Mean week\")\n",
    "# plt.grid(color='r', linestyle='-');"
   ]
  },
  {
   "cell_type": "code",
   "execution_count": null,
   "id": "877ecc60-d76a-4ac4-9fb0-df853791c10e",
   "metadata": {},
   "outputs": [],
   "source": [
    "# featured_df[\"rolling_mean_month\"] = create_rolling_window_feature(featured_df, \"normalized_peak_hour\", \"mean\",\n",
    "#                                                                   get_average_months_length(featured_df, 2012,\n",
    "#                                                                                             2023)).shift(1)"
   ]
  },
  {
   "cell_type": "code",
   "execution_count": null,
   "id": "c3b5297c-7de5-420b-b756-9ec7053d9057",
   "metadata": {},
   "outputs": [],
   "source": [
    "# plt.figure(figsize=(18, 4))\n",
    "# sns.lineplot(featured_df, x=featured_df.index, y=\"rolling_mean_month\")\n",
    "# plt.title(\"Mean month\")\n",
    "# plt.ylabel(\"Hour\")\n",
    "# plt.xlabel(\"Datetime\")\n",
    "# plt.grid(color='r', linestyle='-');"
   ]
  },
  {
   "cell_type": "code",
   "execution_count": null,
   "id": "a572ca1b-bb6f-4f06-aa1b-dfb0d3333096",
   "metadata": {},
   "outputs": [],
   "source": [
    "# featured_df[\"rolling_mean_quarter\"] = create_rolling_window_feature(\n",
    "#     featured_df,\n",
    "#     \"normalized_peak_hour\",\n",
    "#     \"mean\",\n",
    "#     get_average_months_length(featured_df, 2012, 2023) * 3\n",
    "# ).shift(1)"
   ]
  },
  {
   "cell_type": "code",
   "execution_count": null,
   "id": "4a7ef12b-b1e8-4d5e-a54e-7c1e9483a2e9",
   "metadata": {},
   "outputs": [],
   "source": [
    "# plt.figure(figsize=(18, 4))\n",
    "# sns.lineplot(featured_df, x=featured_df.index, y=\"rolling_mean_quarter\")\n",
    "# plt.title(\"Mean quarter\")\n",
    "# plt.ylabel(\"Hour\")\n",
    "# plt.xlabel(\"Datetime\")\n",
    "# plt.grid(color='r', linestyle='-');"
   ]
  },
  {
   "cell_type": "code",
   "execution_count": null,
   "id": "87a3b2e1-e9b8-4f99-9942-c225084f86d5",
   "metadata": {},
   "outputs": [],
   "source": [
    "# featured_df[\"rolling_mean_semiannual\"] = create_rolling_window_feature(\n",
    "#     featured_df,\n",
    "#     \"normalized_peak_hour\",\n",
    "#     \"mean\",\n",
    "#     get_average_months_length(featured_df, 2012, 2023) * 6\n",
    "# ).shift(1)"
   ]
  },
  {
   "cell_type": "code",
   "execution_count": null,
   "id": "0c63513d-cb1e-47f4-900a-76c84e1537d3",
   "metadata": {},
   "outputs": [],
   "source": [
    "# plt.figure(figsize=(18, 4))\n",
    "# sns.lineplot(featured_df, x=featured_df.index, y=\"rolling_mean_semiannual\")\n",
    "# plt.title(\"Mean semiannual\")\n",
    "# plt.ylabel(\"Hour\")\n",
    "# plt.xlabel(\"Datetime\")\n",
    "# plt.grid(color='r', linestyle='-');"
   ]
  },
  {
   "cell_type": "code",
   "execution_count": null,
   "id": "38569cce-cfad-4d71-9b63-92215e4cae27",
   "metadata": {},
   "outputs": [],
   "source": [
    "# featured_df[\"rolling_mean_annual\"] = create_rolling_window_feature(\n",
    "#     featured_df,\n",
    "#     \"normalized_peak_hour\",\n",
    "#     \"mean\",\n",
    "#     get_average_months_length(featured_df, 2012, 2023) * 12\n",
    "# ).shift(1)"
   ]
  },
  {
   "cell_type": "code",
   "execution_count": null,
   "id": "4934a338-05a3-417f-9c69-532b446adbd4",
   "metadata": {},
   "outputs": [],
   "source": [
    "# plt.figure(figsize=(18, 4))\n",
    "# sns.lineplot(featured_df, x=featured_df.index, y=\"rolling_mean_annual\")\n",
    "# plt.title(\"Mean annual\")\n",
    "# plt.ylabel(\"Hour\")\n",
    "# plt.xlabel(\"Datetime\")\n",
    "# plt.grid(color='r', linestyle='-');"
   ]
  },
  {
   "cell_type": "code",
   "execution_count": null,
   "id": "1f23458b-bf53-4c47-b18c-de34674b1fda",
   "metadata": {},
   "outputs": [],
   "source": [
    "# featured_df[\"rolling_mean_quinquennial\"] = create_rolling_window_feature(\n",
    "#     featured_df,\n",
    "#     \"normalized_peak_hour\",\n",
    "#     \"mean\",\n",
    "#     get_average_months_length(featured_df, 2012, 2023) * 60\n",
    "# ).shift(1)"
   ]
  },
  {
   "cell_type": "code",
   "execution_count": null,
   "id": "38b91ec2-f17c-49dc-9dec-34532329c988",
   "metadata": {
    "scrolled": true
   },
   "outputs": [],
   "source": [
    "# plt.figure(figsize=(18, 4))\n",
    "# sns.lineplot(featured_df, x=featured_df.index, y=\"rolling_mean_quinquennial\")\n",
    "# plt.title(\"Mean quinquennial\")\n",
    "# plt.ylabel(\"Hour\")\n",
    "# plt.xlabel(\"Datetime\")\n",
    "# plt.grid(color='r', linestyle='-');"
   ]
  },
  {
   "cell_type": "code",
   "execution_count": null,
   "id": "f7b9910a-c538-4d24-8a6f-5ade2e5fe271",
   "metadata": {},
   "outputs": [],
   "source": [
    "# featured_df[\"rolling_mean_decennial\"] = create_rolling_window_feature(\n",
    "#     featured_df,\n",
    "#     \"normalized_peak_hour\",\n",
    "#     \"mean\",\n",
    "#     get_average_months_length(featured_df, 2012, 2023) * 120\n",
    "# ).shift(1)"
   ]
  },
  {
   "cell_type": "code",
   "execution_count": null,
   "id": "b3686831-c082-43d4-bd35-22f0290ed907",
   "metadata": {},
   "outputs": [],
   "source": [
    "# plt.figure(figsize=(18, 4))\n",
    "# sns.lineplot(featured_df, x=featured_df.index, y=\"rolling_mean_decennial\")\n",
    "# plt.title(\"Mean decennial\")\n",
    "# plt.ylabel(\"Hour\")\n",
    "# plt.xlabel(\"Datetime\")\n",
    "# plt.grid(color='r', linestyle='-');"
   ]
  },
  {
   "cell_type": "markdown",
   "id": "c3e4966f-8c01-45d2-ae02-6d76ff305164",
   "metadata": {},
   "source": [
    "* ROLLING MEDIAN WINDOW FEATURES"
   ]
  },
  {
   "cell_type": "code",
   "execution_count": null,
   "id": "f0fbb538-2fd9-4b40-9006-f1185d0c8261",
   "metadata": {},
   "outputs": [],
   "source": [
    "# featured_df[\"rolling_median_week\"] = create_rolling_window_feature(featured_df, \"normalized_peak_hour\", \"median\",\n",
    "#                                                                    5).shift(1)"
   ]
  },
  {
   "cell_type": "code",
   "execution_count": null,
   "id": "2c4031ae-c61f-4ce1-907a-3251a17b3242",
   "metadata": {},
   "outputs": [],
   "source": [
    "# plt.figure(figsize=(18, 4))\n",
    "# sns.lineplot(featured_df, x=featured_df.index, y=\"rolling_median_week\")\n",
    "# plt.title(\"Median week\")\n",
    "# plt.ylabel(\"Hour\")\n",
    "# plt.xlabel(\"Datetime\")\n",
    "# plt.grid(color='r', linestyle='-');"
   ]
  },
  {
   "cell_type": "code",
   "execution_count": null,
   "id": "07de211a-0250-4e82-9fc0-dd8cfc30cf86",
   "metadata": {},
   "outputs": [],
   "source": [
    "# featured_df[\"rolling_median_month\"] = create_rolling_window_feature(\n",
    "#     featured_df,\n",
    "#     \"normalized_peak_hour\",\n",
    "#     \"median\",\n",
    "#     get_average_months_length(featured_df, 2012, 2023)\n",
    "# ).shift(1)"
   ]
  },
  {
   "cell_type": "code",
   "execution_count": null,
   "id": "f4af41e4-c826-4ab7-aacd-642867ac8683",
   "metadata": {},
   "outputs": [],
   "source": [
    "# plt.figure(figsize=(18, 4))\n",
    "# sns.lineplot(featured_df, x=featured_df.index, y=\"rolling_median_month\")\n",
    "# plt.title(\"Median month\")\n",
    "# plt.ylabel(\"Hour\")\n",
    "# plt.xlabel(\"Datetime\")\n",
    "# plt.grid(color='r', linestyle='-');"
   ]
  },
  {
   "cell_type": "code",
   "execution_count": null,
   "id": "513d77c3-2080-4634-926c-3e37d287cf26",
   "metadata": {},
   "outputs": [],
   "source": [
    "# featured_df[\"rolling_median_quarter\"] = create_rolling_window_feature(\n",
    "#     featured_df,\n",
    "#     \"normalized_peak_hour\",\n",
    "#     \"median\",\n",
    "#     get_average_months_length(featured_df, 2012, 2023) * 3\n",
    "# ).shift(1)"
   ]
  },
  {
   "cell_type": "code",
   "execution_count": null,
   "id": "d50ab4e0-15da-4b41-8e1d-3131b921f843",
   "metadata": {},
   "outputs": [],
   "source": [
    "# plt.figure(figsize=(18, 4))\n",
    "# sns.lineplot(featured_df, x=featured_df.index, y=\"rolling_median_quarter\")\n",
    "# plt.title(\"Median quarter\")\n",
    "# plt.ylabel(\"Hour\")\n",
    "# plt.xlabel(\"Datetime\")\n",
    "# plt.grid(color='r', linestyle='-');"
   ]
  },
  {
   "cell_type": "code",
   "execution_count": null,
   "id": "9a84b4bc-fecb-4b19-99cc-36797a86b6ea",
   "metadata": {},
   "outputs": [],
   "source": [
    "# featured_df[\"rolling_median_semiannual\"] = create_rolling_window_feature(\n",
    "#     featured_df,\n",
    "#     \"normalized_peak_hour\",\n",
    "#     \"median\",\n",
    "#     get_average_months_length(featured_df, 2012, 2023) * 6\n",
    "# ).shift(1)"
   ]
  },
  {
   "cell_type": "code",
   "execution_count": null,
   "id": "6817233f-c0b3-46a3-937b-ff43f9fccb39",
   "metadata": {},
   "outputs": [],
   "source": [
    "# plt.figure(figsize=(18, 4))\n",
    "# sns.lineplot(featured_df, x=featured_df.index, y=\"rolling_median_semiannual\")\n",
    "# plt.title(\"Median semiannual\")\n",
    "# plt.ylabel(\"Hour\")\n",
    "# plt.xlabel(\"Datetime\")\n",
    "# plt.grid(color='r', linestyle='-');"
   ]
  },
  {
   "cell_type": "markdown",
   "id": "9b5d8695-9d8d-471c-a111-6016cd6867fd",
   "metadata": {},
   "source": [
    "* ROLLING MAX WINDOW FEATURES"
   ]
  },
  {
   "cell_type": "code",
   "execution_count": null,
   "id": "e81cf5ee-d115-414c-99b0-d5eebd475ea9",
   "metadata": {},
   "outputs": [],
   "source": [
    "# featured_df[\"rolling_max_week\"] = create_rolling_window_feature(featured_df, \"normalized_peak_hour\", \"max\", 5).shift(1)"
   ]
  },
  {
   "cell_type": "code",
   "execution_count": null,
   "id": "b8939f27-c3ee-45d2-b65d-d60b1d801692",
   "metadata": {},
   "outputs": [],
   "source": [
    "# plt.figure(figsize=(18, 4))\n",
    "# sns.lineplot(featured_df, x=featured_df.index, y=\"rolling_max_week\")\n",
    "# plt.title(\"Max week\")\n",
    "# plt.ylabel(\"Hour\")\n",
    "# plt.xlabel(\"Datetime\")\n",
    "# plt.grid(color='r', linestyle='-');"
   ]
  },
  {
   "cell_type": "code",
   "execution_count": null,
   "id": "b5b4981e-b127-4231-be93-6b4f9a5521a2",
   "metadata": {},
   "outputs": [],
   "source": [
    "# featured_df[\"rolling_max_month\"] = create_rolling_window_feature(featured_df, \"normalized_peak_hour\", \"max\",\n",
    "#                                                                  get_average_months_length(featured_df, 2012,\n",
    "#                                                                                            2023)).shift(1)"
   ]
  },
  {
   "cell_type": "code",
   "execution_count": null,
   "id": "fb1ccc04-f1b2-4ee3-97c1-f86bd8a875c8",
   "metadata": {},
   "outputs": [],
   "source": [
    "# plt.figure(figsize=(18, 4))\n",
    "# sns.lineplot(featured_df, x=featured_df.index, y=\"rolling_max_month\")\n",
    "# plt.title(\"Max month\")\n",
    "# plt.ylabel(\"Hour\")\n",
    "# plt.xlabel(\"Datetime\")\n",
    "# plt.grid(color='r', linestyle='-');"
   ]
  },
  {
   "cell_type": "code",
   "execution_count": null,
   "id": "dd855c1f-100e-4ca9-8d65-88bef3f1bcbf",
   "metadata": {},
   "outputs": [],
   "source": [
    "# featured_df[\"rolling_max_quarter\"] = create_rolling_window_feature(\n",
    "#     featured_df,\n",
    "#     \"normalized_peak_hour\",\n",
    "#     \"max\",\n",
    "#     get_average_months_length(featured_df, 2012, 2023) * 3\n",
    "# ).shift(1)"
   ]
  },
  {
   "cell_type": "code",
   "execution_count": null,
   "id": "ce3a3a0f-52dd-4a76-97ac-22c1f7278307",
   "metadata": {},
   "outputs": [],
   "source": [
    "# plt.figure(figsize=(18, 4))\n",
    "# sns.lineplot(featured_df, x=featured_df.index, y=\"rolling_max_quarter\")\n",
    "# plt.title(\"Max quarter\")\n",
    "# plt.ylabel(\"Hour\")\n",
    "# plt.xlabel(\"Datetime\")\n",
    "# plt.grid(color='r', linestyle='-');"
   ]
  },
  {
   "cell_type": "markdown",
   "id": "93b292be-a974-4f34-89f1-beb00fb860f4",
   "metadata": {},
   "source": [
    "* ROLLING MIN WINDOW FEATURES"
   ]
  },
  {
   "cell_type": "code",
   "execution_count": null,
   "id": "fee15c4a-2606-45b6-bf5a-a8e4ae32ad90",
   "metadata": {},
   "outputs": [],
   "source": [
    "# featured_df[\"rolling_min_week\"] = create_rolling_window_feature(featured_df, \"normalized_peak_hour\", \"min\", 5).shift(1)"
   ]
  },
  {
   "cell_type": "code",
   "execution_count": null,
   "id": "33d9958e-7946-47ab-b4f3-5fe5457d16e0",
   "metadata": {},
   "outputs": [],
   "source": [
    "# plt.figure(figsize=(18, 4))\n",
    "# sns.lineplot(featured_df, x=featured_df.index, y=\"rolling_min_week\")\n",
    "# plt.title(\"Min week\")\n",
    "# plt.ylabel(\"Hour\")\n",
    "# plt.xlabel(\"Datetime\")\n",
    "# plt.grid(color='r', linestyle='-');"
   ]
  },
  {
   "cell_type": "code",
   "execution_count": null,
   "id": "495614b0-e5c7-408f-b192-e96cee3013df",
   "metadata": {},
   "outputs": [],
   "source": [
    "# featured_df[\"rolling_min_month\"] = create_rolling_window_feature(featured_df, \"normalized_peak_hour\", \"min\",\n",
    "#                                                                  get_average_months_length(featured_df, 2012,\n",
    "#                                                                                            2023)).shift(1)"
   ]
  },
  {
   "cell_type": "code",
   "execution_count": null,
   "id": "68dc1044-f29d-4380-8d3c-a978dbaaea4a",
   "metadata": {},
   "outputs": [],
   "source": [
    "# plt.figure(figsize=(18, 4))\n",
    "# sns.lineplot(featured_df, x=featured_df.index, y=\"rolling_min_month\")\n",
    "# plt.title(\"Min month\")\n",
    "# plt.ylabel(\"Hour\")\n",
    "# plt.xlabel(\"Datetime\")\n",
    "# plt.grid(color='r', linestyle='-');"
   ]
  },
  {
   "cell_type": "code",
   "execution_count": null,
   "id": "ba8f5000-b809-4461-892e-5e2b90b0f392",
   "metadata": {},
   "outputs": [],
   "source": [
    "# featured_df[\"rolling_min_quarter\"] = create_rolling_window_feature(\n",
    "#     featured_df,\n",
    "#     \"normalized_peak_hour\",\n",
    "#     \"min\",\n",
    "#     get_average_months_length(featured_df, 2012, 2023) * 3\n",
    "# ).shift(1)"
   ]
  },
  {
   "cell_type": "code",
   "execution_count": null,
   "id": "d90c3602-d95b-4bef-a10f-95fd7c91853f",
   "metadata": {
    "scrolled": true
   },
   "outputs": [],
   "source": [
    "# plt.figure(figsize=(18, 4))\n",
    "# sns.lineplot(featured_df, x=featured_df.index, y=\"rolling_min_quarter\")\n",
    "# plt.title(\"Min quarter\")\n",
    "# plt.ylabel(\"Hour\")\n",
    "# plt.xlabel(\"Datetime\")\n",
    "# plt.grid(color='r', linestyle='-');"
   ]
  },
  {
   "cell_type": "markdown",
   "id": "a96371db-c874-4f6e-b396-bb8e42c63d24",
   "metadata": {},
   "source": [
    "* ROLLING STD WINDOW FEATURES"
   ]
  },
  {
   "cell_type": "code",
   "execution_count": null,
   "id": "639baca0-e59b-4ecc-9c09-34e8715f0fe9",
   "metadata": {},
   "outputs": [],
   "source": [
    "# featured_df[\"rolling_std_week\"] = create_rolling_window_feature(featured_df, \"normalized_peak_hour\", \"std\", 5).shift(1)"
   ]
  },
  {
   "cell_type": "code",
   "execution_count": null,
   "id": "7184a1cc-bf1a-400d-84b3-14f70d51d3ba",
   "metadata": {},
   "outputs": [],
   "source": [
    "# plt.figure(figsize=(18, 4))\n",
    "# sns.lineplot(featured_df, x=featured_df.index, y=\"rolling_std_week\")\n",
    "# plt.title(\"Std week\")\n",
    "# plt.ylabel(\"Hour\")\n",
    "# plt.xlabel(\"Datetime\")\n",
    "# plt.grid(color='r', linestyle='-');"
   ]
  },
  {
   "cell_type": "code",
   "execution_count": null,
   "id": "eed2f66b-bd8b-48a8-95b3-9ab4c0f345b8",
   "metadata": {},
   "outputs": [],
   "source": [
    "# featured_df[\"rolling_std_month\"] = create_rolling_window_feature(featured_df, \"normalized_peak_hour\", \"std\",\n",
    "#                                                                  get_average_months_length(featured_df, 2012,\n",
    "#                                                                                            2023)).shift(1)"
   ]
  },
  {
   "cell_type": "code",
   "execution_count": null,
   "id": "c16606c1-70b5-4a41-a95c-eebce8f0bc22",
   "metadata": {},
   "outputs": [],
   "source": [
    "# plt.figure(figsize=(18, 4))\n",
    "# sns.lineplot(featured_df, x=featured_df.index, y=\"rolling_std_month\")\n",
    "# plt.title(\"Std month\")\n",
    "# plt.ylabel(\"Hour\")\n",
    "# plt.xlabel(\"Datetime\")\n",
    "# plt.grid(color='r', linestyle='-');"
   ]
  },
  {
   "cell_type": "code",
   "execution_count": null,
   "id": "7e1d50f3-d975-4d14-904a-a99b4e438331",
   "metadata": {},
   "outputs": [],
   "source": [
    "# featured_df[\"rolling_std_quarter\"] = create_rolling_window_feature(\n",
    "#     featured_df,\n",
    "#     \"normalized_peak_hour\",\n",
    "#     \"std\",\n",
    "#     get_average_months_length(featured_df, 2012, 2023) * 3\n",
    "# ).shift(1)"
   ]
  },
  {
   "cell_type": "code",
   "execution_count": null,
   "id": "bdbc0ae0-8c54-4635-be5f-e0447a85d346",
   "metadata": {},
   "outputs": [],
   "source": [
    "# plt.figure(figsize=(18, 4))\n",
    "# sns.lineplot(featured_df, x=featured_df.index, y=\"rolling_std_quarter\")\n",
    "# plt.title(\"Std quarter\")\n",
    "# plt.ylabel(\"Hour\")\n",
    "# plt.xlabel(\"Datetime\")\n",
    "# plt.grid(color='r', linestyle='-');"
   ]
  },
  {
   "cell_type": "code",
   "execution_count": null,
   "id": "de7881e2-a982-45be-8e0d-9522ee97ec1f",
   "metadata": {},
   "outputs": [],
   "source": [
    "# featured_df[\"rolling_std_semiannual\"] = create_rolling_window_feature(\n",
    "#     featured_df,\n",
    "#     \"normalized_peak_hour\",\n",
    "#     \"std\",\n",
    "#     get_average_months_length(featured_df, 2012, 2023) * 6\n",
    "# ).shift(1)"
   ]
  },
  {
   "cell_type": "code",
   "execution_count": null,
   "id": "f81bd427-6aa5-4bac-9763-4d442ed52bfd",
   "metadata": {},
   "outputs": [],
   "source": [
    "# plt.figure(figsize=(18, 4))\n",
    "# sns.lineplot(featured_df, x=featured_df.index, y=\"rolling_std_semiannual\")\n",
    "# plt.title(\"Std semiannual\")\n",
    "# plt.ylabel(\"Hour\")\n",
    "# plt.xlabel(\"Datetime\")\n",
    "# plt.grid(color='r', linestyle='-');"
   ]
  },
  {
   "cell_type": "code",
   "execution_count": null,
   "id": "9e65f677-df7c-4a3e-99f8-233549bf758a",
   "metadata": {},
   "outputs": [],
   "source": [
    "# featured_df[\"rolling_std_annual\"] = create_rolling_window_feature(\n",
    "#     featured_df,\n",
    "#     \"normalized_peak_hour\",\n",
    "#     \"std\",\n",
    "#     get_average_months_length(featured_df, 2012, 2023) * 12\n",
    "# ).shift(1)"
   ]
  },
  {
   "cell_type": "code",
   "execution_count": null,
   "id": "08247a22-60ec-4238-8400-49c76cbea5ab",
   "metadata": {},
   "outputs": [],
   "source": [
    "# plt.figure(figsize=(18, 4))\n",
    "# sns.lineplot(featured_df, x=featured_df.index, y=\"rolling_std_annual\")\n",
    "# plt.title(\"Std annual\")\n",
    "# plt.ylabel(\"Hour\")\n",
    "# plt.xlabel(\"Datetime\")\n",
    "# plt.grid(color='r', linestyle='-');"
   ]
  },
  {
   "cell_type": "code",
   "execution_count": null,
   "id": "30ec3a2f-9b39-42f4-8fae-4289b0a359ab",
   "metadata": {},
   "outputs": [],
   "source": [
    "# featured_df[\"rolling_std_quinquennial\"] = create_rolling_window_feature(\n",
    "#     featured_df,\n",
    "#     \"normalized_peak_hour\",\n",
    "#     \"std\",\n",
    "#     get_average_months_length(featured_df, 2012, 2023) * 60\n",
    "# ).shift(1)"
   ]
  },
  {
   "cell_type": "code",
   "execution_count": null,
   "id": "7194329f-0f86-42a7-827c-b640e147addd",
   "metadata": {},
   "outputs": [],
   "source": [
    "# plt.figure(figsize=(18, 4))\n",
    "# sns.lineplot(featured_df, x=featured_df.index, y=\"rolling_std_quinquennial\")\n",
    "# plt.title(\"Std quinquennial\")\n",
    "# plt.ylabel(\"Hour\")\n",
    "# plt.xlabel(\"Datetime\")\n",
    "# plt.grid(color='r', linestyle='-');"
   ]
  },
  {
   "cell_type": "markdown",
   "id": "cf777d4d-e711-47b8-ac52-abbbd8eb20e8",
   "metadata": {},
   "source": [
    "________________________________________________________________________________________________________________________________________________________"
   ]
  },
  {
   "cell_type": "markdown",
   "id": "706ce2ab-c413-4885-ab3c-4f53990dd994",
   "metadata": {},
   "source": [
    "#### WORKING WITH LAG FEATURES"
   ]
  },
  {
   "cell_type": "code",
   "execution_count": null,
   "id": "38d57eda-821a-469c-ae36-79b31ba9e356",
   "metadata": {},
   "outputs": [],
   "source": [
    "# featured_df"
   ]
  },
  {
   "cell_type": "code",
   "execution_count": null,
   "id": "a60b91c3-70d4-4db2-880f-b1137ef467a6",
   "metadata": {},
   "outputs": [],
   "source": [
    "# featured_df[\"day_lag\"] = create_lag_feature(featured_df, \"normalized_peak_hour\", 1)\n",
    "# featured_df[\"week_lag\"] = create_lag_feature(featured_df, \"normalized_peak_hour\", 5)\n",
    "# featured_df[\"month_lag\"] = create_lag_feature(featured_df, \"normalized_peak_hour\", 25)\n",
    "# featured_df[\"quarter_lag\"] = create_lag_feature(featured_df, \"normalized_peak_hour\", 75)\n",
    "# featured_df[\"half_year_lag\"] = create_lag_feature(featured_df, \"normalized_peak_hour\", 120)\n",
    "# featured_df[\"year_lag\"] = create_lag_feature(featured_df, \"normalized_peak_hour\", 240)"
   ]
  },
  {
   "cell_type": "markdown",
   "id": "ef23e53e-0b16-4da9-8f19-0160a3d0e2c9",
   "metadata": {},
   "source": [
    "________________________________________________________________________________________________________________________________________________________"
   ]
  },
  {
   "cell_type": "code",
   "execution_count": null,
   "id": "84a2043d-a2e7-4de8-88c8-6eae104a71cf",
   "metadata": {},
   "outputs": [],
   "source": [
    "# featured_df"
   ]
  },
  {
   "cell_type": "markdown",
   "id": "04f46fdc-3eca-4f7f-91b2-04c525503a65",
   "metadata": {},
   "source": [
    "MAKE PREDICTIONS:"
   ]
  },
  {
   "cell_type": "code",
   "execution_count": null,
   "id": "d5ba1aed-6977-49af-8713-c99cd050b685",
   "metadata": {},
   "outputs": [],
   "source": [
    "# featured_df = featured_df.drop(\"time_dummie\", axis=1)"
   ]
  },
  {
   "cell_type": "code",
   "execution_count": null,
   "id": "a201ba65-8873-44fb-8adf-e4e0060be83e",
   "metadata": {},
   "outputs": [],
   "source": [
    "# featured_df"
   ]
  },
  {
   "cell_type": "code",
   "execution_count": null,
   "id": "cb13a31e-4d19-4d2d-8146-269ed9bce2dc",
   "metadata": {},
   "outputs": [],
   "source": [
    "# std_norm = featured_df[\"std_norm\"]\n",
    "# mean_norm = featured_df[\"mean_norm\"]"
   ]
  },
  {
   "cell_type": "code",
   "execution_count": null,
   "id": "7469556f-371d-475b-b7db-10bf86dd1e0d",
   "metadata": {},
   "outputs": [],
   "source": [
    "featured_df.columns"
   ]
  },
  {
   "cell_type": "code",
   "execution_count": null,
   "id": "9e9f1d58-121a-4f3e-bff1-4ec1f5c6513b",
   "metadata": {},
   "outputs": [],
   "source": [
    "featured_df.dropna(inplace=True)"
   ]
  },
  {
   "cell_type": "code",
   "execution_count": null,
   "id": "4151e901-ef25-4ce3-bfae-5b8ce8d81f76",
   "metadata": {},
   "outputs": [],
   "source": [
    "featured_df"
   ]
  },
  {
   "cell_type": "code",
   "execution_count": null,
   "id": "9b34a357-3ae4-411e-b81b-43f2d0210216",
   "metadata": {},
   "outputs": [],
   "source": [
    "featured_df.to_parquet(\"../../model_development/feature_data.gzip\")"
   ]
  },
  {
   "cell_type": "code",
   "execution_count": null,
   "id": "c73e3aac-a3bb-4f3c-8a08-36fda97669ac",
   "metadata": {},
   "outputs": [],
   "source": [
    "zxc = featured_df.copy()"
   ]
  },
  {
   "cell_type": "code",
   "execution_count": null,
   "id": "1d9c1791-cca0-40cb-8dbe-69eecf2123c2",
   "metadata": {},
   "outputs": [],
   "source": [
    "y = featured_df[\"normalized_peak_hour\"].copy()"
   ]
  },
  {
   "cell_type": "code",
   "execution_count": null,
   "id": "f7806668-c0d8-4958-adbe-d0bc58e63c57",
   "metadata": {},
   "outputs": [],
   "source": [
    "featured_df = featured_df.drop(\n",
    "    columns=[\"peak_hour\", \"std_normalization\", \"mean_normalization\", \"time_dummie\"], axis=1)"
   ]
  },
  {
   "cell_type": "code",
   "execution_count": null,
   "id": "d785e137-74d6-4c0e-bcc4-64cfb9373fa4",
   "metadata": {},
   "outputs": [],
   "source": [
    "featured_df"
   ]
  },
  {
   "cell_type": "code",
   "execution_count": null,
   "id": "95355012-a89e-4c2d-b2cb-b4647d2d9315",
   "metadata": {},
   "outputs": [],
   "source": [
    "# true_val = featured_df[\"peak_hour\"]"
   ]
  },
  {
   "cell_type": "code",
   "execution_count": null,
   "id": "035a117a-693a-4c4d-9eaf-d5e1ae8d04dd",
   "metadata": {},
   "outputs": [],
   "source": [
    "# featured_df.drop(columns=[\"peak_hour\"], axis=1, inplace=True)"
   ]
  },
  {
   "cell_type": "code",
   "execution_count": null,
   "id": "8cf1c609-cbfb-4645-b560-df687578c650",
   "metadata": {},
   "outputs": [],
   "source": [
    "# featured_df"
   ]
  },
  {
   "cell_type": "code",
   "execution_count": null,
   "id": "fe4643bf-c587-405c-946d-70767bcb2d58",
   "metadata": {},
   "outputs": [],
   "source": []
  },
  {
   "cell_type": "code",
   "execution_count": null,
   "id": "8449283b-b54b-4890-945a-2a257649d26e",
   "metadata": {},
   "outputs": [],
   "source": [
    "# featured_df[\"time_dummie\"] = create_time_dummie_feature(featured_df)"
   ]
  },
  {
   "cell_type": "code",
   "execution_count": null,
   "id": "c29541ce-98a1-490f-ba80-891424eefc7f",
   "metadata": {},
   "outputs": [],
   "source": []
  },
  {
   "cell_type": "code",
   "execution_count": null,
   "id": "a59a8504-d694-4d8e-ab6b-7b2817e80458",
   "metadata": {},
   "outputs": [],
   "source": [
    "featured_df.info()"
   ]
  },
  {
   "cell_type": "code",
   "execution_count": null,
   "id": "cc696cb6-04ec-4a79-ac38-19c93fdf168f",
   "metadata": {},
   "outputs": [],
   "source": [
    "featured_df.drop(columns=[\"normalized_peak_hour\"], inplace=True)"
   ]
  },
  {
   "cell_type": "code",
   "execution_count": null,
   "id": "27569294-55bc-49c0-b88b-a47434154e59",
   "metadata": {},
   "outputs": [],
   "source": [
    "train_x = featured_df[: 1900]\n",
    "test_x = featured_df[1900:]"
   ]
  },
  {
   "cell_type": "code",
   "execution_count": null,
   "id": "56fca53a-bc5f-4037-80a5-fc5243206e63",
   "metadata": {},
   "outputs": [],
   "source": [
    "train_y = y[: 1900]\n",
    "test_y = y[1900:]"
   ]
  },
  {
   "cell_type": "code",
   "execution_count": null,
   "id": "9a355650-e1ed-4530-9203-01ae93c4111b",
   "metadata": {},
   "outputs": [],
   "source": [
    "from xgboost import XGBRegressor"
   ]
  },
  {
   "cell_type": "code",
   "execution_count": null,
   "id": "fd2413d3-3f51-43b6-9639-2df19586f5e0",
   "metadata": {},
   "outputs": [],
   "source": [
    "model = XGBRegressor(n_estimators=100, max_depth=3)"
   ]
  },
  {
   "cell_type": "code",
   "execution_count": null,
   "id": "78388bcf-e640-4c60-891f-5edadb27eb46",
   "metadata": {},
   "outputs": [],
   "source": [
    "# help(model)"
   ]
  },
  {
   "cell_type": "code",
   "execution_count": null,
   "id": "a3afb3d6-c2e0-46f0-9a5b-99a3aa950e3d",
   "metadata": {},
   "outputs": [],
   "source": [
    "# help(model.fit)"
   ]
  },
  {
   "cell_type": "code",
   "execution_count": null,
   "id": "ee382b00-a0e0-4184-95b4-707fc919ab1b",
   "metadata": {},
   "outputs": [],
   "source": [
    "model.fit(train_x, train_y, eval_set=[(train_x, train_y), (test_x, test_y)], eval_metric=\"mae\", verbose=10,\n",
    "          early_stopping_rounds=6)"
   ]
  },
  {
   "cell_type": "code",
   "execution_count": null,
   "id": "64a3eff4-1090-400f-98a2-8fb295ea0bd7",
   "metadata": {},
   "outputs": [],
   "source": [
    "data = pd.concat([train_x, test_x], axis=0)"
   ]
  },
  {
   "cell_type": "code",
   "execution_count": null,
   "id": "447a0d78-cf84-4ddd-820d-6691d0e5a2a8",
   "metadata": {},
   "outputs": [],
   "source": [
    "target = pd.concat([train_y, test_y], axis=0)"
   ]
  },
  {
   "cell_type": "code",
   "execution_count": null,
   "id": "84903d95-2fba-49c7-8456-f05476919bbb",
   "metadata": {},
   "outputs": [],
   "source": [
    "# model.fit(data, target)"
   ]
  },
  {
   "cell_type": "code",
   "execution_count": null,
   "id": "5f3e97f3-8d28-4bd7-8034-ab71c8e1ff77",
   "metadata": {},
   "outputs": [],
   "source": [
    "import pickle"
   ]
  },
  {
   "cell_type": "code",
   "execution_count": null,
   "id": "edca59dc-6e3e-4b39-8254-d6abc0371a9b",
   "metadata": {},
   "outputs": [],
   "source": [
    "file_name = \"xgb_reg.pkl\"\n",
    "\n",
    "pickle.dump(model, open(model_path + file_name, \"wb\"))"
   ]
  },
  {
   "cell_type": "markdown",
   "id": "dde40dff-6172-44ec-8ddf-3c0049f76144",
   "metadata": {},
   "source": [
    "_________________________________________________________________________________________________________________________________________________________"
   ]
  },
  {
   "cell_type": "code",
   "execution_count": null,
   "id": "02781a3d-8fd1-4e18-9bda-cda0b5986355",
   "metadata": {},
   "outputs": [],
   "source": [
    "zxc_index = zxc\n",
    "freq = 245\n",
    "\n",
    "time = np.arange(len(zxc), dtype=np.float32)\n",
    "k = 2 * np.pi * (1 / freq) * time\n",
    "features = {}\n",
    "\n",
    "for i in [1, 2, 5]:\n",
    "    features.update({\n",
    "        f\"sin_{freq}_{i}\": np.sin(i * k),\n",
    "        f\"cos_{freq}_{i}\": np.cos(i * k),\n",
    "    })\n",
    "\n",
    "    sincos = pd.DataFrame(features, index=zxc_index)"
   ]
  },
  {
   "cell_type": "code",
   "execution_count": null,
   "id": "2911f600-3490-4f41-bc7c-74342aab6b7a",
   "metadata": {},
   "outputs": [],
   "source": [
    "sincos.index = zxc.index"
   ]
  },
  {
   "cell_type": "code",
   "execution_count": null,
   "id": "c9373249-9671-47a4-ab45-d32020c633f1",
   "metadata": {},
   "outputs": [],
   "source": [
    "zxc = pd.concat([zxc, sincos], axis=1)"
   ]
  },
  {
   "cell_type": "code",
   "execution_count": null,
   "id": "9fbbc732-7ef8-4af6-8a5b-b3756f1b3ef1",
   "metadata": {},
   "outputs": [],
   "source": [
    "dp = DP(index=zxc.index, order=1)"
   ]
  },
  {
   "cell_type": "code",
   "execution_count": null,
   "id": "4fef91c8-517b-4790-9d0b-acb48e4480f5",
   "metadata": {},
   "outputs": [],
   "source": [
    "zxc[\"trend\"] = dp.in_sample()"
   ]
  },
  {
   "cell_type": "code",
   "execution_count": null,
   "id": "baf9bf0d-fed6-4359-ae72-1cdf7b5dc052",
   "metadata": {},
   "outputs": [],
   "source": [
    "zxc[\"trend\"] += 2537 - 2290"
   ]
  },
  {
   "cell_type": "code",
   "execution_count": null,
   "id": "e9f1a7ec-3d00-4237-8904-7729aec6c376",
   "metadata": {},
   "outputs": [],
   "source": [
    "pred = model.predict(zxc[model.feature_names_in_])"
   ]
  },
  {
   "cell_type": "code",
   "execution_count": null,
   "id": "908db88d-ab01-4f93-881a-8e996742aae8",
   "metadata": {},
   "outputs": [],
   "source": [
    "pred = pred + season_model.predict(zxc[season_model.feature_names_in_])"
   ]
  },
  {
   "cell_type": "code",
   "execution_count": null,
   "id": "393feccc-7b61-4728-bc62-912f237083be",
   "metadata": {},
   "outputs": [],
   "source": [
    "pred = pred + trend_model.predict(zxc[trend_model.feature_names_in_])"
   ]
  },
  {
   "cell_type": "code",
   "execution_count": null,
   "id": "cdc41899-32c8-41b7-b9a4-57d3a935b6a6",
   "metadata": {},
   "outputs": [],
   "source": [
    "res = pred * zxc[\"std_normalization\"] + zxc[\"mean_normalization\"]"
   ]
  },
  {
   "cell_type": "code",
   "execution_count": null,
   "id": "e4d46d00-3bac-4ad3-9386-39ca807b2082",
   "metadata": {},
   "outputs": [],
   "source": [
    "import datetime"
   ]
  },
  {
   "cell_type": "code",
   "execution_count": null,
   "id": "fa7f6442-bca7-438b-ae51-d9b1e8102e9b",
   "metadata": {},
   "outputs": [],
   "source": []
  },
  {
   "cell_type": "code",
   "execution_count": null,
   "id": "0058ec75-0a11-445d-9e04-5bd6075f8484",
   "metadata": {},
   "outputs": [],
   "source": [
    "model.feature_names_in_"
   ]
  },
  {
   "cell_type": "code",
   "execution_count": null,
   "id": "827080e6-7a78-4af7-9ef6-a5abf1e24b98",
   "metadata": {},
   "outputs": [],
   "source": [
    "main_df"
   ]
  },
  {
   "cell_type": "code",
   "execution_count": null,
   "id": "dfff01ac-6be1-41da-a113-b6a419fc42bf",
   "metadata": {},
   "outputs": [],
   "source": [
    "dd = 1\n",
    "lst = [1, 2, 5, 6, 7, 8, 9, 12, 13, 14, 15, 16, 19, 20, 21, 22, 23, 26, 27, 28, 29, 30]\n",
    "\n",
    "freq = 245"
   ]
  },
  {
   "cell_type": "code",
   "execution_count": null,
   "id": "dec85742-e2ba-4fe3-bb2a-8c392107dee3",
   "metadata": {
    "scrolled": true
   },
   "outputs": [],
   "source": [
    "for _ in range(31):\n",
    "    new_df = main_df.copy()\n",
    "\n",
    "    if (new_df.index[-1] + datetime.timedelta(days=dd)).day not in lst:\n",
    "        dd += 1\n",
    "        continue\n",
    "    else:\n",
    "        day_node = new_df.iloc[-1]\n",
    "        day_node.name += datetime.timedelta(days=dd)\n",
    "        day_node = pd.DataFrame({\"peak_hour\": np.nan}, index=[day_node.name])\n",
    "        new_df = pd.concat([new_df, day_node], axis=0)\n",
    "        # С НОВЫМ ДНЁМ DF\n",
    "\n",
    "        new_df[\"day_of_month\"] = new_df.index.day\n",
    "\n",
    "        new_df = normalization(new_df, \"peak_hour\")\n",
    "        # НСРМАЛИЗОВАННЫЙ DF\n",
    "\n",
    "        new_df = new_df[\"2014-04\":]\n",
    "\n",
    "        dp = DP(index=new_df.index, order=1)\n",
    "        x = dp.in_sample()\n",
    "        new_df[\"trend\"] = x\n",
    "\n",
    "        y_pred = pd.Series(trend_model.predict(x), index=new_df.index)\n",
    "        new_df[\"normalized_peak_hour\"] = new_df[\"normalized_peak_hour\"] - y_pred\n",
    "        # Detrended\n",
    "\n",
    "        indx = new_df[\"normalized_peak_hour\"]\n",
    "        freq = 245\n",
    "\n",
    "        time = np.arange(len(indx), dtype=np.float32)\n",
    "        k = 2 * np.pi * (1 / freq) * time\n",
    "        features = {}\n",
    "\n",
    "        for i in [1, 2, 5]:\n",
    "            features.update({\n",
    "                f\"sin_{freq}_{i}\": np.sin(i * k),\n",
    "                f\"cos_{freq}_{i}\": np.cos(i * k),\n",
    "            })\n",
    "\n",
    "        fourier_features = pd.DataFrame(features, index=indx)\n",
    "\n",
    "        y_pred = pd.Series(season_model.predict(fourier_features), index=new_df[\"normalized_peak_hour\"].index)\n",
    "        new_df[\"normalized_peak_hour\"] = new_df[\"normalized_peak_hour\"] - y_pred\n",
    "\n",
    "        new_df[\"lag_1\"] = create_lag_feature(new_df, \"normalized_peak_hour\", 1)\n",
    "        new_df[\"lag_2\"] = create_lag_feature(new_df, \"normalized_peak_hour\", 2)\n",
    "        new_df[\"lag_5\"] = create_lag_feature(new_df, \"normalized_peak_hour\", 5)\n",
    "        new_df[\"lag_7\"] = create_lag_feature(new_df, \"normalized_peak_hour\", 7)\n",
    "        new_df[\"lag_10\"] = create_lag_feature(new_df, \"normalized_peak_hour\", 10)\n",
    "        new_df[\"lag_28\"] = create_lag_feature(new_df, \"normalized_peak_hour\", 28)\n",
    "        new_df[\"lag_59\"] = create_lag_feature(new_df, \"normalized_peak_hour\", 59)\n",
    "        new_df[\"lag_245\"] = create_lag_feature(new_df, \"normalized_peak_hour\", 245)\n",
    "        new_df[\"lag_247\"] = create_lag_feature(new_df, \"normalized_peak_hour\", 247)\n",
    "\n",
    "        new_df[\"day_of_month\"] = new_df.index.day\n",
    "        new_df[\"day_of_year\"] = new_df.index.dayofyear\n",
    "        new_df[\"week_of_year\"] = new_df.index.isocalendar().week\n",
    "        new_df[\"month\"] = new_df.index.month\n",
    "        new_df[\"quarter\"] = new_df.index.quarter\n",
    "        new_df[\"year\"] = new_df.index.year\n",
    "\n",
    "        new_df[\"normalized_peak_hour\"] = pd.Series(model.predict(new_df[model.feature_names_in_]), index=new_df.index)\n",
    "\n",
    "        y_pred = pd.Series(season_model.predict(fourier_features), index=new_df[\"normalized_peak_hour\"].index)\n",
    "        new_df[\"normalized_peak_hour\"] = new_df[\"normalized_peak_hour\"] + y_pred\n",
    "\n",
    "        y_pred = pd.Series(trend_model.predict(x), index=new_df.index)\n",
    "        new_df[\"normalized_peak_hour\"] = new_df[\"normalized_peak_hour\"] + y_pred\n",
    "\n",
    "        new_df[\"peak_hour\"] = new_df[\"normalized_peak_hour\"] * new_df[\"std_normalization\"] + new_df[\n",
    "            \"mean_normalization\"]\n",
    "\n",
    "        day_node = main_df.iloc[-1]\n",
    "        day_node.name += datetime.timedelta(days=dd)\n",
    "        day_node = pd.DataFrame({\"peak_hour\": np.nan}, index=[day_node.name])\n",
    "        main_df = pd.concat([main_df, day_node], axis=0)\n",
    "        main_df[\"peak_hour\"][-1] = round(new_df[\"peak_hour\"][-1])\n",
    "        dd = 1"
   ]
  },
  {
   "cell_type": "code",
   "execution_count": null,
   "id": "efc58e6f-6fe5-4850-8cf1-8f8fda7cb7bc",
   "metadata": {},
   "outputs": [],
   "source": [
    "new_df[\"2024-08\":]"
   ]
  },
  {
   "cell_type": "code",
   "execution_count": null,
   "id": "e276643e-cf03-419c-829e-af95df73cd40",
   "metadata": {},
   "outputs": [],
   "source": []
  },
  {
   "cell_type": "code",
   "execution_count": null,
   "id": "65baf73b-d9c9-4d85-9457-9db515a22640",
   "metadata": {},
   "outputs": [],
   "source": []
  }
 ],
 "metadata": {
  "kernelspec": {
   "display_name": "Python 3 (ipykernel)",
   "language": "python",
   "name": "python3"
  },
  "language_info": {
   "codemirror_mode": {
    "name": "ipython",
    "version": 3
   },
   "file_extension": ".py",
   "mimetype": "text/x-python",
   "name": "python",
   "nbconvert_exporter": "python",
   "pygments_lexer": "ipython3",
   "version": "3.11.6"
  }
 },
 "nbformat": 4,
 "nbformat_minor": 5
}