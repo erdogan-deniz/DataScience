{
 "cells": [
  {
   "cell_type": "markdown",
   "id": "eade124f-cbab-4d0c-b9c0-cfe16f087ea0",
   "metadata": {},
   "source": [
    "#### PREPARING PROJECT"
   ]
  },
  {
   "cell_type": "code",
   "execution_count": 1,
   "id": "80736e6d-222e-412f-ad36-2ef35b79c057",
   "metadata": {},
   "outputs": [],
   "source": [
    "import warnings\n",
    "\n",
    "import seaborn as sns\n",
    "import matplotlib.pyplot as plt\n",
    "\n",
    "from sys import path\n",
    "from os import getcwd"
   ]
  },
  {
   "cell_type": "code",
   "execution_count": 2,
   "id": "faea73f2-3948-4f15-91a3-8cbc5ece4991",
   "metadata": {},
   "outputs": [],
   "source": [
    "path.append(\"../../../src/\")\n",
    "warnings.simplefilter(action=\"ignore\", category=FutureWarning)"
   ]
  },
  {
   "cell_type": "code",
   "execution_count": 3,
   "id": "4a46e36a-16b5-4156-be05-48672137fa69",
   "metadata": {},
   "outputs": [],
   "source": [
    "from parsing import *\n",
    "from preprocessing import *"
   ]
  },
  {
   "cell_type": "markdown",
   "id": "5dd37260-bbfd-458e-8a7d-62e04d3eafe9",
   "metadata": {},
   "source": [
    "#### PREPARING DATAFRAME"
   ]
  },
  {
   "cell_type": "code",
   "execution_count": 4,
   "id": "7f0d550f-70e4-476e-9eae-36b375d2b12c",
   "metadata": {},
   "outputs": [],
   "source": [
    "df = create_subj_df(\"../../\" + raw_data_path + preproc_subj_paths[getcwd().split(\"\\\\\")[-1]])"
   ]
  },
  {
   "cell_type": "code",
   "execution_count": 5,
   "id": "009abde6-7247-4aad-9e66-4677751a6b5b",
   "metadata": {},
   "outputs": [
    {
     "data": {
      "text/html": [
       "<div>\n",
       "<style scoped>\n",
       "    .dataframe tbody tr th:only-of-type {\n",
       "        vertical-align: middle;\n",
       "    }\n",
       "\n",
       "    .dataframe tbody tr th {\n",
       "        vertical-align: top;\n",
       "    }\n",
       "\n",
       "    .dataframe thead th {\n",
       "        text-align: right;\n",
       "    }\n",
       "</style>\n",
       "<table border=\"1\" class=\"dataframe\">\n",
       "  <thead>\n",
       "    <tr style=\"text-align: right;\">\n",
       "      <th></th>\n",
       "      <th>date</th>\n",
       "      <th>peak_hour</th>\n",
       "      <th>code_dpg</th>\n",
       "    </tr>\n",
       "  </thead>\n",
       "  <tbody>\n",
       "    <tr>\n",
       "      <th>0</th>\n",
       "      <td>2012-04-02</td>\n",
       "      <td>10</td>\n",
       "      <td>PCHUVENE</td>\n",
       "    </tr>\n",
       "    <tr>\n",
       "      <th>1</th>\n",
       "      <td>2012-04-03</td>\n",
       "      <td>10</td>\n",
       "      <td>PCHUVENE</td>\n",
       "    </tr>\n",
       "    <tr>\n",
       "      <th>2</th>\n",
       "      <td>2012-04-04</td>\n",
       "      <td>10</td>\n",
       "      <td>PCHUVENE</td>\n",
       "    </tr>\n",
       "  </tbody>\n",
       "</table>\n",
       "</div>"
      ],
      "text/plain": [
       "        date peak_hour  code_dpg\n",
       "0 2012-04-02        10  PCHUVENE\n",
       "1 2012-04-03        10  PCHUVENE\n",
       "2 2012-04-04        10  PCHUVENE"
      ]
     },
     "execution_count": 5,
     "metadata": {},
     "output_type": "execute_result"
    }
   ],
   "source": [
    "df.head(3)"
   ]
  },
  {
   "cell_type": "code",
   "execution_count": 6,
   "id": "fe030c79-9b94-447b-9aa3-4619e1f7409c",
   "metadata": {},
   "outputs": [
    {
     "data": {
      "text/html": [
       "<div>\n",
       "<style scoped>\n",
       "    .dataframe tbody tr th:only-of-type {\n",
       "        vertical-align: middle;\n",
       "    }\n",
       "\n",
       "    .dataframe tbody tr th {\n",
       "        vertical-align: top;\n",
       "    }\n",
       "\n",
       "    .dataframe thead th {\n",
       "        text-align: right;\n",
       "    }\n",
       "</style>\n",
       "<table border=\"1\" class=\"dataframe\">\n",
       "  <thead>\n",
       "    <tr style=\"text-align: right;\">\n",
       "      <th></th>\n",
       "      <th>date</th>\n",
       "      <th>peak_hour</th>\n",
       "      <th>code_dpg</th>\n",
       "    </tr>\n",
       "  </thead>\n",
       "  <tbody>\n",
       "    <tr>\n",
       "      <th>3052</th>\n",
       "      <td>2024-08-28</td>\n",
       "      <td>14</td>\n",
       "      <td>PCHUVENE</td>\n",
       "    </tr>\n",
       "    <tr>\n",
       "      <th>3053</th>\n",
       "      <td>2024-08-29</td>\n",
       "      <td>11</td>\n",
       "      <td>PCHUVENE</td>\n",
       "    </tr>\n",
       "    <tr>\n",
       "      <th>3054</th>\n",
       "      <td>2024-08-30</td>\n",
       "      <td>11</td>\n",
       "      <td>PCHUVENE</td>\n",
       "    </tr>\n",
       "  </tbody>\n",
       "</table>\n",
       "</div>"
      ],
      "text/plain": [
       "           date peak_hour  code_dpg\n",
       "3052 2024-08-28        14  PCHUVENE\n",
       "3053 2024-08-29        11  PCHUVENE\n",
       "3054 2024-08-30        11  PCHUVENE"
      ]
     },
     "execution_count": 6,
     "metadata": {},
     "output_type": "execute_result"
    }
   ],
   "source": [
    "df.tail(3)"
   ]
  },
  {
   "cell_type": "code",
   "execution_count": 7,
   "id": "0a530a6a-7142-4101-8942-8fead256232e",
   "metadata": {},
   "outputs": [
    {
     "name": "stdout",
     "output_type": "stream",
     "text": [
      "<class 'pandas.core.frame.DataFrame'>\n",
      "RangeIndex: 3055 entries, 0 to 3054\n",
      "Data columns (total 3 columns):\n",
      " #   Column     Non-Null Count  Dtype         \n",
      "---  ------     --------------  -----         \n",
      " 0   date       3055 non-null   datetime64[ns]\n",
      " 1   peak_hour  3055 non-null   object        \n",
      " 2   code_dpg   3055 non-null   object        \n",
      "dtypes: datetime64[ns](1), object(2)\n",
      "memory usage: 71.7+ KB\n"
     ]
    }
   ],
   "source": [
    "df.info()"
   ]
  },
  {
   "cell_type": "markdown",
   "id": "c7ab2513-ad0e-41fb-9874-6a7aec3829fa",
   "metadata": {},
   "source": [
    "#### DATA PROCESSING"
   ]
  },
  {
   "cell_type": "markdown",
   "id": "5f8ba67f-6a2e-4ffa-b302-dde57ed1c55a",
   "metadata": {},
   "source": [
    "* CONVERTING TYPE"
   ]
  },
  {
   "cell_type": "code",
   "execution_count": 8,
   "id": "a78995f5-02c9-49b6-815b-24235811d374",
   "metadata": {},
   "outputs": [],
   "source": [
    "df[\"peak_hour\"] = df[\"peak_hour\"].astype(\"int\")\n",
    "df[\"code_dpg\"] = df[\"code_dpg\"].astype(\"category\")"
   ]
  },
  {
   "cell_type": "code",
   "execution_count": 9,
   "id": "52c593bd-dbab-4299-9291-f0d80a061ffa",
   "metadata": {},
   "outputs": [
    {
     "name": "stdout",
     "output_type": "stream",
     "text": [
      "<class 'pandas.core.frame.DataFrame'>\n",
      "RangeIndex: 3055 entries, 0 to 3054\n",
      "Data columns (total 3 columns):\n",
      " #   Column     Non-Null Count  Dtype         \n",
      "---  ------     --------------  -----         \n",
      " 0   date       3055 non-null   datetime64[ns]\n",
      " 1   peak_hour  3055 non-null   int64         \n",
      " 2   code_dpg   3055 non-null   category      \n",
      "dtypes: category(1), datetime64[ns](1), int64(1)\n",
      "memory usage: 51.0 KB\n"
     ]
    }
   ],
   "source": [
    "df.info()"
   ]
  },
  {
   "cell_type": "code",
   "execution_count": 10,
   "id": "8187d373-bb18-40c3-ac1b-8d6124a53723",
   "metadata": {},
   "outputs": [],
   "source": [
    "df[\"code_dpg\"] = df[\"code_dpg\"].apply(str.upper)"
   ]
  },
  {
   "cell_type": "code",
   "execution_count": 11,
   "id": "d8dff0a6-9078-4627-8fb9-97a23d275351",
   "metadata": {},
   "outputs": [
    {
     "data": {
      "text/html": [
       "<div>\n",
       "<style scoped>\n",
       "    .dataframe tbody tr th:only-of-type {\n",
       "        vertical-align: middle;\n",
       "    }\n",
       "\n",
       "    .dataframe tbody tr th {\n",
       "        vertical-align: top;\n",
       "    }\n",
       "\n",
       "    .dataframe thead th {\n",
       "        text-align: right;\n",
       "    }\n",
       "</style>\n",
       "<table border=\"1\" class=\"dataframe\">\n",
       "  <thead>\n",
       "    <tr style=\"text-align: right;\">\n",
       "      <th></th>\n",
       "      <th>date</th>\n",
       "      <th>peak_hour</th>\n",
       "      <th>code_dpg</th>\n",
       "    </tr>\n",
       "  </thead>\n",
       "  <tbody>\n",
       "    <tr>\n",
       "      <th>0</th>\n",
       "      <td>2012-04-02</td>\n",
       "      <td>10</td>\n",
       "      <td>PCHUVENE</td>\n",
       "    </tr>\n",
       "    <tr>\n",
       "      <th>1</th>\n",
       "      <td>2012-04-03</td>\n",
       "      <td>10</td>\n",
       "      <td>PCHUVENE</td>\n",
       "    </tr>\n",
       "    <tr>\n",
       "      <th>2</th>\n",
       "      <td>2012-04-04</td>\n",
       "      <td>10</td>\n",
       "      <td>PCHUVENE</td>\n",
       "    </tr>\n",
       "    <tr>\n",
       "      <th>3</th>\n",
       "      <td>2012-04-05</td>\n",
       "      <td>10</td>\n",
       "      <td>PCHUVENE</td>\n",
       "    </tr>\n",
       "    <tr>\n",
       "      <th>4</th>\n",
       "      <td>2012-04-06</td>\n",
       "      <td>10</td>\n",
       "      <td>PCHUVENE</td>\n",
       "    </tr>\n",
       "    <tr>\n",
       "      <th>...</th>\n",
       "      <td>...</td>\n",
       "      <td>...</td>\n",
       "      <td>...</td>\n",
       "    </tr>\n",
       "    <tr>\n",
       "      <th>3050</th>\n",
       "      <td>2024-08-26</td>\n",
       "      <td>14</td>\n",
       "      <td>PCHUVENE</td>\n",
       "    </tr>\n",
       "    <tr>\n",
       "      <th>3051</th>\n",
       "      <td>2024-08-27</td>\n",
       "      <td>14</td>\n",
       "      <td>PCHUVENE</td>\n",
       "    </tr>\n",
       "    <tr>\n",
       "      <th>3052</th>\n",
       "      <td>2024-08-28</td>\n",
       "      <td>14</td>\n",
       "      <td>PCHUVENE</td>\n",
       "    </tr>\n",
       "    <tr>\n",
       "      <th>3053</th>\n",
       "      <td>2024-08-29</td>\n",
       "      <td>11</td>\n",
       "      <td>PCHUVENE</td>\n",
       "    </tr>\n",
       "    <tr>\n",
       "      <th>3054</th>\n",
       "      <td>2024-08-30</td>\n",
       "      <td>11</td>\n",
       "      <td>PCHUVENE</td>\n",
       "    </tr>\n",
       "  </tbody>\n",
       "</table>\n",
       "<p>3055 rows × 3 columns</p>\n",
       "</div>"
      ],
      "text/plain": [
       "           date  peak_hour  code_dpg\n",
       "0    2012-04-02         10  PCHUVENE\n",
       "1    2012-04-03         10  PCHUVENE\n",
       "2    2012-04-04         10  PCHUVENE\n",
       "3    2012-04-05         10  PCHUVENE\n",
       "4    2012-04-06         10  PCHUVENE\n",
       "...         ...        ...       ...\n",
       "3050 2024-08-26         14  PCHUVENE\n",
       "3051 2024-08-27         14  PCHUVENE\n",
       "3052 2024-08-28         14  PCHUVENE\n",
       "3053 2024-08-29         11  PCHUVENE\n",
       "3054 2024-08-30         11  PCHUVENE\n",
       "\n",
       "[3055 rows x 3 columns]"
      ]
     },
     "execution_count": 11,
     "metadata": {},
     "output_type": "execute_result"
    }
   ],
   "source": [
    "df"
   ]
  },
  {
   "cell_type": "markdown",
   "id": "3afd534b-6da3-4d20-b44d-334c0c4a5056",
   "metadata": {},
   "source": [
    "* WORKING WITH MISSING VALUES"
   ]
  },
  {
   "cell_type": "code",
   "execution_count": 12,
   "id": "7cd70ad1-9f06-4519-93e6-1759f889b4b3",
   "metadata": {},
   "outputs": [],
   "source": [
    "df.drop_duplicates(inplace=True)"
   ]
  },
  {
   "cell_type": "code",
   "execution_count": 13,
   "id": "9013f08d-f937-4fe9-bebb-f2dcae675b48",
   "metadata": {
    "scrolled": true
   },
   "outputs": [
    {
     "name": "stdout",
     "output_type": "stream",
     "text": [
      "<class 'pandas.core.frame.DataFrame'>\n",
      "RangeIndex: 3055 entries, 0 to 3054\n",
      "Data columns (total 3 columns):\n",
      " #   Column     Non-Null Count  Dtype         \n",
      "---  ------     --------------  -----         \n",
      " 0   date       3055 non-null   datetime64[ns]\n",
      " 1   peak_hour  3055 non-null   int64         \n",
      " 2   code_dpg   3055 non-null   category      \n",
      "dtypes: category(1), datetime64[ns](1), int64(1)\n",
      "memory usage: 51.0 KB\n"
     ]
    }
   ],
   "source": [
    "df.info()"
   ]
  },
  {
   "cell_type": "code",
   "execution_count": 14,
   "id": "232e0a4b-f687-401e-877a-8016060e5803",
   "metadata": {},
   "outputs": [
    {
     "data": {
      "text/plain": [
       "date         3055\n",
       "peak_hour      14\n",
       "code_dpg        1\n",
       "dtype: int64"
      ]
     },
     "execution_count": 14,
     "metadata": {},
     "output_type": "execute_result"
    }
   ],
   "source": [
    "df.nunique()"
   ]
  },
  {
   "cell_type": "code",
   "execution_count": 15,
   "id": "d475e4e8-451f-4ea8-a41e-1879d7ce0385",
   "metadata": {},
   "outputs": [],
   "source": [
    "uniq_codes_dpg = df[\"code_dpg\"].unique()"
   ]
  },
  {
   "cell_type": "markdown",
   "id": "2813093b-f217-4db8-8f8d-79a8489e9786",
   "metadata": {},
   "source": [
    "* WORKING WITH EMISSIONS"
   ]
  },
  {
   "cell_type": "markdown",
   "id": "b859a230-22cf-413e-a3b9-6f7dff524909",
   "metadata": {},
   "source": [
    "________________________________________________________________________________________________________________________________________________________"
   ]
  },
  {
   "cell_type": "code",
   "execution_count": 16,
   "id": "a0ccea1e-b17e-4236-abd4-e5eb227197c3",
   "metadata": {},
   "outputs": [],
   "source": [
    "def dpg_boxplot(x_size, y_size, dgp_code, feature_name, df):\n",
    "    \"\"\"\"\"\"\n",
    "\n",
    "    plt.figure(figsize=(x_size, y_size))\n",
    "    plt.title(uniq_codes_dpg[dgp_code])\n",
    "    sns.boxplot(data=df[df[feature_name] == uniq_codes_dpg[dgp_code]], y=\"peak_hour\");"
   ]
  },
  {
   "cell_type": "code",
   "execution_count": 17,
   "id": "befd4f60-49ce-4606-ab71-aa837c01a2ab",
   "metadata": {},
   "outputs": [
    {
     "data": {
      "image/png": "[encoded data removed]",
      "text/plain": [
       "<Figure size 1400x400 with 1 Axes>"
      ]
     },
     "metadata": {},
     "output_type": "display_data"
    }
   ],
   "source": [
    "dpg_boxplot(14, 4, 0, \"code_dpg\", df)"
   ]
  },
  {
   "cell_type": "markdown",
   "id": "4e131b6a-e77c-4a7b-a19a-19f2776da104",
   "metadata": {},
   "source": [
    "________________________________________________________________________________________________________________________________________________________"
   ]
  },
  {
   "cell_type": "code",
   "execution_count": 18,
   "id": "f08d1f36-e8c3-4d00-b7cd-048aeace0da0",
   "metadata": {},
   "outputs": [
    {
     "name": "stdout",
     "output_type": "stream",
     "text": [
      "<class 'pandas.core.frame.DataFrame'>\n",
      "RangeIndex: 3055 entries, 0 to 3054\n",
      "Data columns (total 3 columns):\n",
      " #   Column     Non-Null Count  Dtype         \n",
      "---  ------     --------------  -----         \n",
      " 0   date       3055 non-null   datetime64[ns]\n",
      " 1   peak_hour  3055 non-null   int64         \n",
      " 2   code_dpg   3055 non-null   category      \n",
      "dtypes: category(1), datetime64[ns](1), int64(1)\n",
      "memory usage: 51.0 KB\n"
     ]
    }
   ],
   "source": [
    "df.info()"
   ]
  },
  {
   "cell_type": "markdown",
   "id": "abaeda27-ac23-49b4-b503-84bb42232f9f",
   "metadata": {},
   "source": [
    "* AGGREGATING DATA"
   ]
  },
  {
   "cell_type": "code",
   "execution_count": 19,
   "id": "4215691f-537c-4e95-b2b9-067f0b49c889",
   "metadata": {},
   "outputs": [],
   "source": [
    "grouped_df = df.drop([\"code_dpg\"], axis=1).groupby(pd.Grouper(key=\"date\", axis=0, freq=\"1D\", sort=True)).mean()"
   ]
  },
  {
   "cell_type": "code",
   "execution_count": 20,
   "id": "afc905df-73ad-4028-b9ad-a31dee7fa67a",
   "metadata": {},
   "outputs": [
    {
     "data": {
      "text/html": [
       "<div>\n",
       "<style scoped>\n",
       "    .dataframe tbody tr th:only-of-type {\n",
       "        vertical-align: middle;\n",
       "    }\n",
       "\n",
       "    .dataframe tbody tr th {\n",
       "        vertical-align: top;\n",
       "    }\n",
       "\n",
       "    .dataframe thead th {\n",
       "        text-align: right;\n",
       "    }\n",
       "</style>\n",
       "<table border=\"1\" class=\"dataframe\">\n",
       "  <thead>\n",
       "    <tr style=\"text-align: right;\">\n",
       "      <th></th>\n",
       "      <th>peak_hour</th>\n",
       "    </tr>\n",
       "    <tr>\n",
       "      <th>date</th>\n",
       "      <th></th>\n",
       "    </tr>\n",
       "  </thead>\n",
       "  <tbody>\n",
       "    <tr>\n",
       "      <th>2012-04-02</th>\n",
       "      <td>10.0</td>\n",
       "    </tr>\n",
       "    <tr>\n",
       "      <th>2012-04-03</th>\n",
       "      <td>10.0</td>\n",
       "    </tr>\n",
       "    <tr>\n",
       "      <th>2012-04-04</th>\n",
       "      <td>10.0</td>\n",
       "    </tr>\n",
       "    <tr>\n",
       "      <th>2012-04-05</th>\n",
       "      <td>10.0</td>\n",
       "    </tr>\n",
       "    <tr>\n",
       "      <th>2012-04-06</th>\n",
       "      <td>10.0</td>\n",
       "    </tr>\n",
       "    <tr>\n",
       "      <th>...</th>\n",
       "      <td>...</td>\n",
       "    </tr>\n",
       "    <tr>\n",
       "      <th>2024-08-26</th>\n",
       "      <td>14.0</td>\n",
       "    </tr>\n",
       "    <tr>\n",
       "      <th>2024-08-27</th>\n",
       "      <td>14.0</td>\n",
       "    </tr>\n",
       "    <tr>\n",
       "      <th>2024-08-28</th>\n",
       "      <td>14.0</td>\n",
       "    </tr>\n",
       "    <tr>\n",
       "      <th>2024-08-29</th>\n",
       "      <td>11.0</td>\n",
       "    </tr>\n",
       "    <tr>\n",
       "      <th>2024-08-30</th>\n",
       "      <td>11.0</td>\n",
       "    </tr>\n",
       "  </tbody>\n",
       "</table>\n",
       "<p>4534 rows × 1 columns</p>\n",
       "</div>"
      ],
      "text/plain": [
       "            peak_hour\n",
       "date                 \n",
       "2012-04-02       10.0\n",
       "2012-04-03       10.0\n",
       "2012-04-04       10.0\n",
       "2012-04-05       10.0\n",
       "2012-04-06       10.0\n",
       "...               ...\n",
       "2024-08-26       14.0\n",
       "2024-08-27       14.0\n",
       "2024-08-28       14.0\n",
       "2024-08-29       11.0\n",
       "2024-08-30       11.0\n",
       "\n",
       "[4534 rows x 1 columns]"
      ]
     },
     "execution_count": 20,
     "metadata": {},
     "output_type": "execute_result"
    }
   ],
   "source": [
    "grouped_df"
   ]
  },
  {
   "cell_type": "markdown",
   "id": "0abd7293-9561-4407-a110-53d1fc3c2d19",
   "metadata": {},
   "source": [
    "* HANDLE MISSING DATA OF AGG DATA"
   ]
  },
  {
   "cell_type": "code",
   "execution_count": 21,
   "id": "b3d15d85-60a2-42aa-9fbe-3fa63b586188",
   "metadata": {},
   "outputs": [],
   "source": [
    "grouped_df.dropna(inplace=True)"
   ]
  },
  {
   "cell_type": "code",
   "execution_count": 22,
   "id": "39edc9bb-8233-4678-8ade-cfd09a6f01c1",
   "metadata": {},
   "outputs": [
    {
     "data": {
      "text/html": [
       "<div>\n",
       "<style scoped>\n",
       "    .dataframe tbody tr th:only-of-type {\n",
       "        vertical-align: middle;\n",
       "    }\n",
       "\n",
       "    .dataframe tbody tr th {\n",
       "        vertical-align: top;\n",
       "    }\n",
       "\n",
       "    .dataframe thead th {\n",
       "        text-align: right;\n",
       "    }\n",
       "</style>\n",
       "<table border=\"1\" class=\"dataframe\">\n",
       "  <thead>\n",
       "    <tr style=\"text-align: right;\">\n",
       "      <th></th>\n",
       "      <th>peak_hour</th>\n",
       "    </tr>\n",
       "    <tr>\n",
       "      <th>date</th>\n",
       "      <th></th>\n",
       "    </tr>\n",
       "  </thead>\n",
       "  <tbody>\n",
       "    <tr>\n",
       "      <th>2012-04-02</th>\n",
       "      <td>10.0</td>\n",
       "    </tr>\n",
       "    <tr>\n",
       "      <th>2012-04-03</th>\n",
       "      <td>10.0</td>\n",
       "    </tr>\n",
       "    <tr>\n",
       "      <th>2012-04-04</th>\n",
       "      <td>10.0</td>\n",
       "    </tr>\n",
       "    <tr>\n",
       "      <th>2012-04-05</th>\n",
       "      <td>10.0</td>\n",
       "    </tr>\n",
       "    <tr>\n",
       "      <th>2012-04-06</th>\n",
       "      <td>10.0</td>\n",
       "    </tr>\n",
       "    <tr>\n",
       "      <th>...</th>\n",
       "      <td>...</td>\n",
       "    </tr>\n",
       "    <tr>\n",
       "      <th>2024-08-26</th>\n",
       "      <td>14.0</td>\n",
       "    </tr>\n",
       "    <tr>\n",
       "      <th>2024-08-27</th>\n",
       "      <td>14.0</td>\n",
       "    </tr>\n",
       "    <tr>\n",
       "      <th>2024-08-28</th>\n",
       "      <td>14.0</td>\n",
       "    </tr>\n",
       "    <tr>\n",
       "      <th>2024-08-29</th>\n",
       "      <td>11.0</td>\n",
       "    </tr>\n",
       "    <tr>\n",
       "      <th>2024-08-30</th>\n",
       "      <td>11.0</td>\n",
       "    </tr>\n",
       "  </tbody>\n",
       "</table>\n",
       "<p>3055 rows × 1 columns</p>\n",
       "</div>"
      ],
      "text/plain": [
       "            peak_hour\n",
       "date                 \n",
       "2012-04-02       10.0\n",
       "2012-04-03       10.0\n",
       "2012-04-04       10.0\n",
       "2012-04-05       10.0\n",
       "2012-04-06       10.0\n",
       "...               ...\n",
       "2024-08-26       14.0\n",
       "2024-08-27       14.0\n",
       "2024-08-28       14.0\n",
       "2024-08-29       11.0\n",
       "2024-08-30       11.0\n",
       "\n",
       "[3055 rows x 1 columns]"
      ]
     },
     "execution_count": 22,
     "metadata": {},
     "output_type": "execute_result"
    }
   ],
   "source": [
    "grouped_df"
   ]
  },
  {
   "cell_type": "code",
   "execution_count": 23,
   "id": "8e937d26-ee52-474b-9e43-45fea2de4ed7",
   "metadata": {},
   "outputs": [],
   "source": [
    "grouped_df.sort_index(inplace=True)"
   ]
  },
  {
   "cell_type": "code",
   "execution_count": 24,
   "id": "27593ad6-c5ec-44ed-80c4-840730f8fc76",
   "metadata": {},
   "outputs": [
    {
     "data": {
      "text/html": [
       "<div>\n",
       "<style scoped>\n",
       "    .dataframe tbody tr th:only-of-type {\n",
       "        vertical-align: middle;\n",
       "    }\n",
       "\n",
       "    .dataframe tbody tr th {\n",
       "        vertical-align: top;\n",
       "    }\n",
       "\n",
       "    .dataframe thead th {\n",
       "        text-align: right;\n",
       "    }\n",
       "</style>\n",
       "<table border=\"1\" class=\"dataframe\">\n",
       "  <thead>\n",
       "    <tr style=\"text-align: right;\">\n",
       "      <th></th>\n",
       "      <th>peak_hour</th>\n",
       "    </tr>\n",
       "    <tr>\n",
       "      <th>date</th>\n",
       "      <th></th>\n",
       "    </tr>\n",
       "  </thead>\n",
       "  <tbody>\n",
       "    <tr>\n",
       "      <th>2012-04-02</th>\n",
       "      <td>10.0</td>\n",
       "    </tr>\n",
       "    <tr>\n",
       "      <th>2012-04-03</th>\n",
       "      <td>10.0</td>\n",
       "    </tr>\n",
       "    <tr>\n",
       "      <th>2012-04-04</th>\n",
       "      <td>10.0</td>\n",
       "    </tr>\n",
       "    <tr>\n",
       "      <th>2012-04-05</th>\n",
       "      <td>10.0</td>\n",
       "    </tr>\n",
       "    <tr>\n",
       "      <th>2012-04-06</th>\n",
       "      <td>10.0</td>\n",
       "    </tr>\n",
       "    <tr>\n",
       "      <th>...</th>\n",
       "      <td>...</td>\n",
       "    </tr>\n",
       "    <tr>\n",
       "      <th>2024-08-26</th>\n",
       "      <td>14.0</td>\n",
       "    </tr>\n",
       "    <tr>\n",
       "      <th>2024-08-27</th>\n",
       "      <td>14.0</td>\n",
       "    </tr>\n",
       "    <tr>\n",
       "      <th>2024-08-28</th>\n",
       "      <td>14.0</td>\n",
       "    </tr>\n",
       "    <tr>\n",
       "      <th>2024-08-29</th>\n",
       "      <td>11.0</td>\n",
       "    </tr>\n",
       "    <tr>\n",
       "      <th>2024-08-30</th>\n",
       "      <td>11.0</td>\n",
       "    </tr>\n",
       "  </tbody>\n",
       "</table>\n",
       "<p>3055 rows × 1 columns</p>\n",
       "</div>"
      ],
      "text/plain": [
       "            peak_hour\n",
       "date                 \n",
       "2012-04-02       10.0\n",
       "2012-04-03       10.0\n",
       "2012-04-04       10.0\n",
       "2012-04-05       10.0\n",
       "2012-04-06       10.0\n",
       "...               ...\n",
       "2024-08-26       14.0\n",
       "2024-08-27       14.0\n",
       "2024-08-28       14.0\n",
       "2024-08-29       11.0\n",
       "2024-08-30       11.0\n",
       "\n",
       "[3055 rows x 1 columns]"
      ]
     },
     "execution_count": 24,
     "metadata": {},
     "output_type": "execute_result"
    }
   ],
   "source": [
    "grouped_df"
   ]
  },
  {
   "cell_type": "code",
   "execution_count": 25,
   "id": "b6b9dd57-3576-4118-b64e-6cd9006dac4d",
   "metadata": {},
   "outputs": [
    {
     "name": "stdout",
     "output_type": "stream",
     "text": [
      "<class 'pandas.core.frame.DataFrame'>\n",
      "DatetimeIndex: 3055 entries, 2012-04-02 to 2024-08-30\n",
      "Data columns (total 1 columns):\n",
      " #   Column     Non-Null Count  Dtype  \n",
      "---  ------     --------------  -----  \n",
      " 0   peak_hour  3055 non-null   float64\n",
      "dtypes: float64(1)\n",
      "memory usage: 47.7 KB\n"
     ]
    }
   ],
   "source": [
    "grouped_df.info()"
   ]
  },
  {
   "cell_type": "markdown",
   "id": "9b903ac2-3321-42f1-b941-51657c055961",
   "metadata": {},
   "source": [
    "* HANDLE DATA TYPE OF AGG DATA"
   ]
  },
  {
   "cell_type": "code",
   "execution_count": 26,
   "id": "d75825a2-f4a4-4f95-8a90-1f69a88d498b",
   "metadata": {},
   "outputs": [],
   "source": [
    "grouped_df[\"peak_hour\"] = grouped_df[\"peak_hour\"].astype(\"int\")"
   ]
  },
  {
   "cell_type": "code",
   "execution_count": 27,
   "id": "4f51ab4f-265f-4e3b-a7bb-0865a1ae1bd6",
   "metadata": {},
   "outputs": [
    {
     "name": "stdout",
     "output_type": "stream",
     "text": [
      "<class 'pandas.core.frame.DataFrame'>\n",
      "DatetimeIndex: 3055 entries, 2012-04-02 to 2024-08-30\n",
      "Data columns (total 1 columns):\n",
      " #   Column     Non-Null Count  Dtype\n",
      "---  ------     --------------  -----\n",
      " 0   peak_hour  3055 non-null   int64\n",
      "dtypes: int64(1)\n",
      "memory usage: 47.7 KB\n"
     ]
    }
   ],
   "source": [
    "grouped_df.info()"
   ]
  },
  {
   "cell_type": "code",
   "execution_count": 28,
   "id": "a2773a98-ae6e-40a0-ad72-ab20dd178505",
   "metadata": {},
   "outputs": [
    {
     "data": {
      "text/plain": [
       "peak_hour    14\n",
       "dtype: int64"
      ]
     },
     "execution_count": 28,
     "metadata": {},
     "output_type": "execute_result"
    }
   ],
   "source": [
    "grouped_df.nunique()"
   ]
  },
  {
   "cell_type": "code",
   "execution_count": 29,
   "id": "9085460b-82b2-4b78-8631-9b0f08d5497e",
   "metadata": {},
   "outputs": [
    {
     "data": {
      "text/html": [
       "<div>\n",
       "<style scoped>\n",
       "    .dataframe tbody tr th:only-of-type {\n",
       "        vertical-align: middle;\n",
       "    }\n",
       "\n",
       "    .dataframe tbody tr th {\n",
       "        vertical-align: top;\n",
       "    }\n",
       "\n",
       "    .dataframe thead th {\n",
       "        text-align: right;\n",
       "    }\n",
       "</style>\n",
       "<table border=\"1\" class=\"dataframe\">\n",
       "  <thead>\n",
       "    <tr style=\"text-align: right;\">\n",
       "      <th></th>\n",
       "      <th>peak_hour</th>\n",
       "    </tr>\n",
       "  </thead>\n",
       "  <tbody>\n",
       "    <tr>\n",
       "      <th>count</th>\n",
       "      <td>3055.000000</td>\n",
       "    </tr>\n",
       "    <tr>\n",
       "      <th>mean</th>\n",
       "      <td>11.252700</td>\n",
       "    </tr>\n",
       "    <tr>\n",
       "      <th>std</th>\n",
       "      <td>2.395212</td>\n",
       "    </tr>\n",
       "    <tr>\n",
       "      <th>min</th>\n",
       "      <td>8.000000</td>\n",
       "    </tr>\n",
       "    <tr>\n",
       "      <th>25%</th>\n",
       "      <td>10.000000</td>\n",
       "    </tr>\n",
       "    <tr>\n",
       "      <th>50%</th>\n",
       "      <td>10.000000</td>\n",
       "    </tr>\n",
       "    <tr>\n",
       "      <th>75%</th>\n",
       "      <td>12.000000</td>\n",
       "    </tr>\n",
       "    <tr>\n",
       "      <th>max</th>\n",
       "      <td>21.000000</td>\n",
       "    </tr>\n",
       "  </tbody>\n",
       "</table>\n",
       "</div>"
      ],
      "text/plain": [
       "         peak_hour\n",
       "count  3055.000000\n",
       "mean     11.252700\n",
       "std       2.395212\n",
       "min       8.000000\n",
       "25%      10.000000\n",
       "50%      10.000000\n",
       "75%      12.000000\n",
       "max      21.000000"
      ]
     },
     "execution_count": 29,
     "metadata": {},
     "output_type": "execute_result"
    }
   ],
   "source": [
    "grouped_df.describe()"
   ]
  },
  {
   "cell_type": "code",
   "execution_count": 30,
   "id": "f397c14b-55e1-4d4b-bfeb-fd918c2ffab9",
   "metadata": {},
   "outputs": [
    {
     "data": {
      "text/html": [
       "<div>\n",
       "<style scoped>\n",
       "    .dataframe tbody tr th:only-of-type {\n",
       "        vertical-align: middle;\n",
       "    }\n",
       "\n",
       "    .dataframe tbody tr th {\n",
       "        vertical-align: top;\n",
       "    }\n",
       "\n",
       "    .dataframe thead th {\n",
       "        text-align: right;\n",
       "    }\n",
       "</style>\n",
       "<table border=\"1\" class=\"dataframe\">\n",
       "  <thead>\n",
       "    <tr style=\"text-align: right;\">\n",
       "      <th></th>\n",
       "      <th>peak_hour</th>\n",
       "    </tr>\n",
       "    <tr>\n",
       "      <th>date</th>\n",
       "      <th></th>\n",
       "    </tr>\n",
       "  </thead>\n",
       "  <tbody>\n",
       "    <tr>\n",
       "      <th>2012-04-02</th>\n",
       "      <td>10</td>\n",
       "    </tr>\n",
       "    <tr>\n",
       "      <th>2012-04-03</th>\n",
       "      <td>10</td>\n",
       "    </tr>\n",
       "    <tr>\n",
       "      <th>2012-04-04</th>\n",
       "      <td>10</td>\n",
       "    </tr>\n",
       "    <tr>\n",
       "      <th>2012-04-05</th>\n",
       "      <td>10</td>\n",
       "    </tr>\n",
       "    <tr>\n",
       "      <th>2012-04-06</th>\n",
       "      <td>10</td>\n",
       "    </tr>\n",
       "    <tr>\n",
       "      <th>...</th>\n",
       "      <td>...</td>\n",
       "    </tr>\n",
       "    <tr>\n",
       "      <th>2024-08-26</th>\n",
       "      <td>14</td>\n",
       "    </tr>\n",
       "    <tr>\n",
       "      <th>2024-08-27</th>\n",
       "      <td>14</td>\n",
       "    </tr>\n",
       "    <tr>\n",
       "      <th>2024-08-28</th>\n",
       "      <td>14</td>\n",
       "    </tr>\n",
       "    <tr>\n",
       "      <th>2024-08-29</th>\n",
       "      <td>11</td>\n",
       "    </tr>\n",
       "    <tr>\n",
       "      <th>2024-08-30</th>\n",
       "      <td>11</td>\n",
       "    </tr>\n",
       "  </tbody>\n",
       "</table>\n",
       "<p>3055 rows × 1 columns</p>\n",
       "</div>"
      ],
      "text/plain": [
       "            peak_hour\n",
       "date                 \n",
       "2012-04-02         10\n",
       "2012-04-03         10\n",
       "2012-04-04         10\n",
       "2012-04-05         10\n",
       "2012-04-06         10\n",
       "...               ...\n",
       "2024-08-26         14\n",
       "2024-08-27         14\n",
       "2024-08-28         14\n",
       "2024-08-29         11\n",
       "2024-08-30         11\n",
       "\n",
       "[3055 rows x 1 columns]"
      ]
     },
     "execution_count": 30,
     "metadata": {},
     "output_type": "execute_result"
    }
   ],
   "source": [
    "grouped_df"
   ]
  },
  {
   "cell_type": "code",
   "execution_count": 31,
   "id": "61b9c8b3-5d1f-4bd3-960d-876f004a81d3",
   "metadata": {},
   "outputs": [],
   "source": [
    "grouped_df.index.names = [\"days\"]"
   ]
  },
  {
   "cell_type": "code",
   "execution_count": 32,
   "id": "331687d2-a325-4bcd-80de-1324442ceb49",
   "metadata": {},
   "outputs": [
    {
     "data": {
      "text/html": [
       "<div>\n",
       "<style scoped>\n",
       "    .dataframe tbody tr th:only-of-type {\n",
       "        vertical-align: middle;\n",
       "    }\n",
       "\n",
       "    .dataframe tbody tr th {\n",
       "        vertical-align: top;\n",
       "    }\n",
       "\n",
       "    .dataframe thead th {\n",
       "        text-align: right;\n",
       "    }\n",
       "</style>\n",
       "<table border=\"1\" class=\"dataframe\">\n",
       "  <thead>\n",
       "    <tr style=\"text-align: right;\">\n",
       "      <th></th>\n",
       "      <th>peak_hour</th>\n",
       "    </tr>\n",
       "    <tr>\n",
       "      <th>days</th>\n",
       "      <th></th>\n",
       "    </tr>\n",
       "  </thead>\n",
       "  <tbody>\n",
       "    <tr>\n",
       "      <th>2012-04-02</th>\n",
       "      <td>10</td>\n",
       "    </tr>\n",
       "    <tr>\n",
       "      <th>2012-04-03</th>\n",
       "      <td>10</td>\n",
       "    </tr>\n",
       "    <tr>\n",
       "      <th>2012-04-04</th>\n",
       "      <td>10</td>\n",
       "    </tr>\n",
       "    <tr>\n",
       "      <th>2012-04-05</th>\n",
       "      <td>10</td>\n",
       "    </tr>\n",
       "    <tr>\n",
       "      <th>2012-04-06</th>\n",
       "      <td>10</td>\n",
       "    </tr>\n",
       "    <tr>\n",
       "      <th>...</th>\n",
       "      <td>...</td>\n",
       "    </tr>\n",
       "    <tr>\n",
       "      <th>2024-08-26</th>\n",
       "      <td>14</td>\n",
       "    </tr>\n",
       "    <tr>\n",
       "      <th>2024-08-27</th>\n",
       "      <td>14</td>\n",
       "    </tr>\n",
       "    <tr>\n",
       "      <th>2024-08-28</th>\n",
       "      <td>14</td>\n",
       "    </tr>\n",
       "    <tr>\n",
       "      <th>2024-08-29</th>\n",
       "      <td>11</td>\n",
       "    </tr>\n",
       "    <tr>\n",
       "      <th>2024-08-30</th>\n",
       "      <td>11</td>\n",
       "    </tr>\n",
       "  </tbody>\n",
       "</table>\n",
       "<p>3055 rows × 1 columns</p>\n",
       "</div>"
      ],
      "text/plain": [
       "            peak_hour\n",
       "days                 \n",
       "2012-04-02         10\n",
       "2012-04-03         10\n",
       "2012-04-04         10\n",
       "2012-04-05         10\n",
       "2012-04-06         10\n",
       "...               ...\n",
       "2024-08-26         14\n",
       "2024-08-27         14\n",
       "2024-08-28         14\n",
       "2024-08-29         11\n",
       "2024-08-30         11\n",
       "\n",
       "[3055 rows x 1 columns]"
      ]
     },
     "execution_count": 32,
     "metadata": {},
     "output_type": "execute_result"
    }
   ],
   "source": [
    "grouped_df"
   ]
  },
  {
   "cell_type": "code",
   "execution_count": 33,
   "id": "6dcf019b-27d0-4d8b-b6f2-6f0841d591cb",
   "metadata": {},
   "outputs": [
    {
     "name": "stdout",
     "output_type": "stream",
     "text": [
      "Time step is: 1 days 00:00:00\n"
     ]
    }
   ],
   "source": [
    "print(\"Time step is:\", grouped_df.index[1] - grouped_df.index[0])"
   ]
  },
  {
   "cell_type": "markdown",
   "id": "329b9364-1a7b-4ca1-aea9-1b1a2765b41b",
   "metadata": {},
   "source": [
    "* SAVE DATA"
   ]
  },
  {
   "cell_type": "code",
   "execution_count": 34,
   "id": "e6e19813-9c4a-4af4-8889-e15f8f7c1543",
   "metadata": {},
   "outputs": [],
   "source": [
    "grouped_df.to_parquet(\"../../../data/processed/Чувашская Республика-Чувашия/data.gzip\")"
   ]
  }
 ],
 "metadata": {
  "kernelspec": {
   "display_name": "Python 3 (ipykernel)",
   "language": "python",
   "name": "python3"
  },
  "language_info": {
   "codemirror_mode": {
    "name": "ipython",
    "version": 3
   },
   "file_extension": ".py",
   "mimetype": "text/x-python",
   "name": "python",
   "nbconvert_exporter": "python",
   "pygments_lexer": "ipython3",
   "version": "3.11.6"
  }
 },
 "nbformat": 4,
 "nbformat_minor": 5
}
