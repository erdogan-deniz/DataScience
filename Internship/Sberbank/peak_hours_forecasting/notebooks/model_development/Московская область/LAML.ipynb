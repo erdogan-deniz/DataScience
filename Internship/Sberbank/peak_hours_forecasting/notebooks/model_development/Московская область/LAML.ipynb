{
 "cells": [
  {
   "cell_type": "code",
   "execution_count": 1,
   "id": "506a504e-8ad3-45fa-8688-0aef2d0955c3",
   "metadata": {},
   "outputs": [],
   "source": [
    "import os\n",
    "import warnings"
   ]
  },
  {
   "cell_type": "code",
   "execution_count": 2,
   "id": "cf90fcbb-b99e-4f64-80b1-57dbc2536db0",
   "metadata": {},
   "outputs": [],
   "source": [
    "import numpy as np\n",
    "import pandas as pd\n",
    "import seaborn as sns\n",
    "import matplotlib.pyplot as plt"
   ]
  },
  {
   "cell_type": "code",
   "execution_count": 3,
   "id": "ce258a29-3e2d-4c87-a39e-99f10ef974e5",
   "metadata": {},
   "outputs": [],
   "source": [
    "from datetime import datetime\n",
    "from sklearn.metrics import mean_absolute_error"
   ]
  },
  {
   "cell_type": "code",
   "execution_count": 4,
   "id": "26fce8ce-57e8-4d29-b362-f059e11c5c5e",
   "metadata": {},
   "outputs": [],
   "source": [
    "from lightautoml.tasks import Task\n",
    "from lightautoml.addons.autots.base import AutoTS\n",
    "from lightautoml.dataset.roles import DatetimeRole\n",
    "from lightautoml.automl.base import AutoML\n",
    "from lightautoml.ml_algo.boost_cb import BoostCB\n",
    "from lightautoml.ml_algo.linear_sklearn import LinearLBFGS\n",
    "from lightautoml.pipelines.features.lgb_pipeline import LGBSeqSimpleFeatures\n",
    "from lightautoml.pipelines.features.linear_pipeline import LinearTrendFeatures\n",
    "from lightautoml.pipelines.ml.base import MLPipeline\n",
    "from lightautoml.reader.base import DictToPandasSeqReader\n",
    "from lightautoml.automl.blend import WeightedBlender\n",
    "from lightautoml.ml_algo.random_forest import RandomForestSklearn"
   ]
  },
  {
   "cell_type": "code",
   "execution_count": 5,
   "id": "8303c3a8-fe20-4f93-b79d-3bfa65512eed",
   "metadata": {},
   "outputs": [],
   "source": [
    "warnings.filterwarnings(\"ignore\")"
   ]
  },
  {
   "cell_type": "code",
   "execution_count": 6,
   "id": "38ed4b56-2b89-4e11-8909-e210fd5ec2f4",
   "metadata": {},
   "outputs": [],
   "source": [
    "df = pd.read_parquet(\"../../../data/interim/Московская область/peak_hours.gzip\")"
   ]
  },
  {
   "cell_type": "code",
   "execution_count": 7,
   "id": "56919bda-52cb-42cd-8af9-867df1498b25",
   "metadata": {},
   "outputs": [
    {
     "data": {
      "text/html": [
       "<div>\n",
       "<style scoped>\n",
       "    .dataframe tbody tr th:only-of-type {\n",
       "        vertical-align: middle;\n",
       "    }\n",
       "\n",
       "    .dataframe tbody tr th {\n",
       "        vertical-align: top;\n",
       "    }\n",
       "\n",
       "    .dataframe thead th {\n",
       "        text-align: right;\n",
       "    }\n",
       "</style>\n",
       "<table border=\"1\" class=\"dataframe\">\n",
       "  <thead>\n",
       "    <tr style=\"text-align: right;\">\n",
       "      <th></th>\n",
       "      <th>date</th>\n",
       "      <th>peak_hour</th>\n",
       "      <th>code_dpg</th>\n",
       "    </tr>\n",
       "  </thead>\n",
       "  <tbody>\n",
       "    <tr>\n",
       "      <th>0</th>\n",
       "      <td>2012-04-02</td>\n",
       "      <td>11</td>\n",
       "      <td>PBALEST1</td>\n",
       "    </tr>\n",
       "    <tr>\n",
       "      <th>1</th>\n",
       "      <td>2012-04-03</td>\n",
       "      <td>11</td>\n",
       "      <td>PBALEST1</td>\n",
       "    </tr>\n",
       "    <tr>\n",
       "      <th>2</th>\n",
       "      <td>2012-04-04</td>\n",
       "      <td>11</td>\n",
       "      <td>PBALEST1</td>\n",
       "    </tr>\n",
       "  </tbody>\n",
       "</table>\n",
       "</div>"
      ],
      "text/plain": [
       "        date  peak_hour  code_dpg\n",
       "0 2012-04-02         11  PBALEST1\n",
       "1 2012-04-03         11  PBALEST1\n",
       "2 2012-04-04         11  PBALEST1"
      ]
     },
     "execution_count": 7,
     "metadata": {},
     "output_type": "execute_result"
    }
   ],
   "source": [
    "df.head(3)"
   ]
  },
  {
   "cell_type": "code",
   "execution_count": 8,
   "id": "00fb0d8e-500e-48ae-a29d-a837d5eed4ee",
   "metadata": {},
   "outputs": [],
   "source": [
    "HORIZON = 31\n",
    "TARGET_COLUMN = \"peak_hour\"\n",
    "DATE_COLUMN = \"date\""
   ]
  },
  {
   "cell_type": "code",
   "execution_count": 9,
   "id": "9b7518b3-bc4c-40a3-90c5-86466420a4ef",
   "metadata": {},
   "outputs": [
    {
     "data": {
      "text/html": [
       "<div>\n",
       "<style scoped>\n",
       "    .dataframe tbody tr th:only-of-type {\n",
       "        vertical-align: middle;\n",
       "    }\n",
       "\n",
       "    .dataframe tbody tr th {\n",
       "        vertical-align: top;\n",
       "    }\n",
       "\n",
       "    .dataframe thead th {\n",
       "        text-align: right;\n",
       "    }\n",
       "</style>\n",
       "<table border=\"1\" class=\"dataframe\">\n",
       "  <thead>\n",
       "    <tr style=\"text-align: right;\">\n",
       "      <th></th>\n",
       "      <th>date</th>\n",
       "      <th>peak_hour</th>\n",
       "      <th>code_dpg</th>\n",
       "    </tr>\n",
       "  </thead>\n",
       "  <tbody>\n",
       "    <tr>\n",
       "      <th>0</th>\n",
       "      <td>2012-04-02</td>\n",
       "      <td>11</td>\n",
       "      <td>PBALEST1</td>\n",
       "    </tr>\n",
       "    <tr>\n",
       "      <th>1</th>\n",
       "      <td>2012-04-03</td>\n",
       "      <td>11</td>\n",
       "      <td>PBALEST1</td>\n",
       "    </tr>\n",
       "    <tr>\n",
       "      <th>2</th>\n",
       "      <td>2012-04-04</td>\n",
       "      <td>11</td>\n",
       "      <td>PBALEST1</td>\n",
       "    </tr>\n",
       "  </tbody>\n",
       "</table>\n",
       "</div>"
      ],
      "text/plain": [
       "        date  peak_hour  code_dpg\n",
       "0 2012-04-02         11  PBALEST1\n",
       "1 2012-04-03         11  PBALEST1\n",
       "2 2012-04-04         11  PBALEST1"
      ]
     },
     "execution_count": 9,
     "metadata": {},
     "output_type": "execute_result"
    }
   ],
   "source": [
    "df[DATE_COLUMN] = pd.to_datetime(df[DATE_COLUMN])\n",
    "df.head(3)"
   ]
  },
  {
   "cell_type": "code",
   "execution_count": 51,
   "id": "ca80677b-4255-4b10-a129-4549457dfadb",
   "metadata": {},
   "outputs": [
    {
     "data": {
      "text/html": [
       "<div>\n",
       "<style scoped>\n",
       "    .dataframe tbody tr th:only-of-type {\n",
       "        vertical-align: middle;\n",
       "    }\n",
       "\n",
       "    .dataframe tbody tr th {\n",
       "        vertical-align: top;\n",
       "    }\n",
       "\n",
       "    .dataframe thead th {\n",
       "        text-align: right;\n",
       "    }\n",
       "</style>\n",
       "<table border=\"1\" class=\"dataframe\">\n",
       "  <thead>\n",
       "    <tr style=\"text-align: right;\">\n",
       "      <th></th>\n",
       "      <th>date</th>\n",
       "      <th>peak_hour</th>\n",
       "    </tr>\n",
       "  </thead>\n",
       "  <tbody>\n",
       "    <tr>\n",
       "      <th>29602</th>\n",
       "      <td>2024-07-01</td>\n",
       "      <td>14</td>\n",
       "    </tr>\n",
       "    <tr>\n",
       "      <th>29603</th>\n",
       "      <td>2024-07-02</td>\n",
       "      <td>15</td>\n",
       "    </tr>\n",
       "    <tr>\n",
       "      <th>29604</th>\n",
       "      <td>2024-07-03</td>\n",
       "      <td>15</td>\n",
       "    </tr>\n",
       "    <tr>\n",
       "      <th>29605</th>\n",
       "      <td>2024-07-04</td>\n",
       "      <td>14</td>\n",
       "    </tr>\n",
       "    <tr>\n",
       "      <th>29606</th>\n",
       "      <td>2024-07-05</td>\n",
       "      <td>14</td>\n",
       "    </tr>\n",
       "    <tr>\n",
       "      <th>29607</th>\n",
       "      <td>2024-07-08</td>\n",
       "      <td>16</td>\n",
       "    </tr>\n",
       "    <tr>\n",
       "      <th>29608</th>\n",
       "      <td>2024-07-09</td>\n",
       "      <td>16</td>\n",
       "    </tr>\n",
       "    <tr>\n",
       "      <th>29609</th>\n",
       "      <td>2024-07-10</td>\n",
       "      <td>16</td>\n",
       "    </tr>\n",
       "    <tr>\n",
       "      <th>29610</th>\n",
       "      <td>2024-07-11</td>\n",
       "      <td>15</td>\n",
       "    </tr>\n",
       "    <tr>\n",
       "      <th>29611</th>\n",
       "      <td>2024-07-12</td>\n",
       "      <td>14</td>\n",
       "    </tr>\n",
       "    <tr>\n",
       "      <th>29612</th>\n",
       "      <td>2024-07-15</td>\n",
       "      <td>15</td>\n",
       "    </tr>\n",
       "    <tr>\n",
       "      <th>29613</th>\n",
       "      <td>2024-07-16</td>\n",
       "      <td>15</td>\n",
       "    </tr>\n",
       "    <tr>\n",
       "      <th>29614</th>\n",
       "      <td>2024-07-17</td>\n",
       "      <td>16</td>\n",
       "    </tr>\n",
       "    <tr>\n",
       "      <th>29615</th>\n",
       "      <td>2024-07-18</td>\n",
       "      <td>17</td>\n",
       "    </tr>\n",
       "    <tr>\n",
       "      <th>29616</th>\n",
       "      <td>2024-07-19</td>\n",
       "      <td>16</td>\n",
       "    </tr>\n",
       "    <tr>\n",
       "      <th>29617</th>\n",
       "      <td>2024-07-22</td>\n",
       "      <td>15</td>\n",
       "    </tr>\n",
       "    <tr>\n",
       "      <th>29618</th>\n",
       "      <td>2024-07-23</td>\n",
       "      <td>17</td>\n",
       "    </tr>\n",
       "    <tr>\n",
       "      <th>29619</th>\n",
       "      <td>2024-07-24</td>\n",
       "      <td>16</td>\n",
       "    </tr>\n",
       "    <tr>\n",
       "      <th>29620</th>\n",
       "      <td>2024-07-25</td>\n",
       "      <td>16</td>\n",
       "    </tr>\n",
       "    <tr>\n",
       "      <th>29621</th>\n",
       "      <td>2024-07-26</td>\n",
       "      <td>15</td>\n",
       "    </tr>\n",
       "    <tr>\n",
       "      <th>29622</th>\n",
       "      <td>2024-07-29</td>\n",
       "      <td>14</td>\n",
       "    </tr>\n",
       "    <tr>\n",
       "      <th>29623</th>\n",
       "      <td>2024-07-30</td>\n",
       "      <td>11</td>\n",
       "    </tr>\n",
       "    <tr>\n",
       "      <th>29624</th>\n",
       "      <td>2024-07-31</td>\n",
       "      <td>15</td>\n",
       "    </tr>\n",
       "  </tbody>\n",
       "</table>\n",
       "</div>"
      ],
      "text/plain": [
       "            date  peak_hour\n",
       "29602 2024-07-01         14\n",
       "29603 2024-07-02         15\n",
       "29604 2024-07-03         15\n",
       "29605 2024-07-04         14\n",
       "29606 2024-07-05         14\n",
       "29607 2024-07-08         16\n",
       "29608 2024-07-09         16\n",
       "29609 2024-07-10         16\n",
       "29610 2024-07-11         15\n",
       "29611 2024-07-12         14\n",
       "29612 2024-07-15         15\n",
       "29613 2024-07-16         15\n",
       "29614 2024-07-17         16\n",
       "29615 2024-07-18         17\n",
       "29616 2024-07-19         16\n",
       "29617 2024-07-22         15\n",
       "29618 2024-07-23         17\n",
       "29619 2024-07-24         16\n",
       "29620 2024-07-25         16\n",
       "29621 2024-07-26         15\n",
       "29622 2024-07-29         14\n",
       "29623 2024-07-30         11\n",
       "29624 2024-07-31         15"
      ]
     },
     "execution_count": 51,
     "metadata": {},
     "output_type": "execute_result"
    }
   ],
   "source": [
    "df"
   ]
  },
  {
   "cell_type": "code",
   "execution_count": 50,
   "id": "0e643306-b318-4596-9598-e61a1e4febb4",
   "metadata": {},
   "outputs": [
    {
     "data": {
      "text/plain": [
       "<Axes: xlabel='date', ylabel='peak_hour'>"
      ]
     },
     "execution_count": 50,
     "metadata": {},
     "output_type": "execute_result"
    },
    {
     "data": {
      "image/png": "[encoded data removed]",
      "text/plain": [
       "<Figure size 640x480 with 1 Axes>"
      ]
     },
     "metadata": {},
     "output_type": "display_data"
    }
   ],
   "source": [
    "sns.lineplot(data=df, x=\"date\", y=\"peak_hour\")"
   ]
  },
  {
   "cell_type": "code",
   "execution_count": null,
   "id": "5c8966a9-7d27-4ef7-a219-a042d70ada33",
   "metadata": {},
   "outputs": [],
   "source": []
  },
  {
   "cell_type": "code",
   "execution_count": null,
   "id": "024f9f45-0bdd-4079-801d-c8de543b7721",
   "metadata": {},
   "outputs": [],
   "source": []
  },
  {
   "cell_type": "code",
   "execution_count": 10,
   "id": "35600f07-176f-4adc-83cb-8a68eb73dbcc",
   "metadata": {},
   "outputs": [],
   "source": [
    "df.drop(columns=[\"code_dpg\"], inplace=True)"
   ]
  },
  {
   "cell_type": "code",
   "execution_count": 11,
   "id": "efac3b55-8571-4bd2-8e8b-4c3b37af1c59",
   "metadata": {},
   "outputs": [],
   "source": [
    "res = df.groupby(pd.Grouper(key=\"date\", axis=0, freq=\"1D\", sort=True)).mean()"
   ]
  },
  {
   "cell_type": "code",
   "execution_count": 12,
   "id": "d4d25eed-5753-470e-a363-26dc6d793acf",
   "metadata": {},
   "outputs": [
    {
     "data": {
      "text/html": [
       "<div>\n",
       "<style scoped>\n",
       "    .dataframe tbody tr th:only-of-type {\n",
       "        vertical-align: middle;\n",
       "    }\n",
       "\n",
       "    .dataframe tbody tr th {\n",
       "        vertical-align: top;\n",
       "    }\n",
       "\n",
       "    .dataframe thead th {\n",
       "        text-align: right;\n",
       "    }\n",
       "</style>\n",
       "<table border=\"1\" class=\"dataframe\">\n",
       "  <thead>\n",
       "    <tr style=\"text-align: right;\">\n",
       "      <th></th>\n",
       "      <th>peak_hour</th>\n",
       "    </tr>\n",
       "    <tr>\n",
       "      <th>date</th>\n",
       "      <th></th>\n",
       "    </tr>\n",
       "  </thead>\n",
       "  <tbody>\n",
       "    <tr>\n",
       "      <th>2024-07-29</th>\n",
       "      <td>14.0</td>\n",
       "    </tr>\n",
       "    <tr>\n",
       "      <th>2024-07-30</th>\n",
       "      <td>11.0</td>\n",
       "    </tr>\n",
       "    <tr>\n",
       "      <th>2024-07-31</th>\n",
       "      <td>15.0</td>\n",
       "    </tr>\n",
       "  </tbody>\n",
       "</table>\n",
       "</div>"
      ],
      "text/plain": [
       "            peak_hour\n",
       "date                 \n",
       "2024-07-29       14.0\n",
       "2024-07-30       11.0\n",
       "2024-07-31       15.0"
      ]
     },
     "execution_count": 12,
     "metadata": {},
     "output_type": "execute_result"
    }
   ],
   "source": [
    "res.tail(3)"
   ]
  },
  {
   "cell_type": "code",
   "execution_count": 13,
   "id": "18fee640-1d63-48ff-b5dd-ad3786061a2b",
   "metadata": {},
   "outputs": [],
   "source": [
    "# res.dropna(inplace=True)\n",
    "res.fillna(res[\"peak_hour\"].median(), inplace=True)"
   ]
  },
  {
   "cell_type": "code",
   "execution_count": 14,
   "id": "698e6bb9-0b19-4572-9d35-5f29c0f22cbb",
   "metadata": {},
   "outputs": [
    {
     "data": {
      "text/plain": [
       "DatetimeIndex(['2012-04-02', '2012-04-03', '2012-04-04', '2012-04-05',\n",
       "               '2012-04-06', '2012-04-07', '2012-04-08', '2012-04-09',\n",
       "               '2012-04-10', '2012-04-11',\n",
       "               ...\n",
       "               '2024-07-22', '2024-07-23', '2024-07-24', '2024-07-25',\n",
       "               '2024-07-26', '2024-07-27', '2024-07-28', '2024-07-29',\n",
       "               '2024-07-30', '2024-07-31'],\n",
       "              dtype='datetime64[ns]', name='date', length=4504, freq='D')"
      ]
     },
     "execution_count": 14,
     "metadata": {},
     "output_type": "execute_result"
    }
   ],
   "source": [
    "res.index"
   ]
  },
  {
   "cell_type": "code",
   "execution_count": 15,
   "id": "668fce26-317f-403d-a7db-98b7e687b05f",
   "metadata": {},
   "outputs": [
    {
     "data": {
      "image/png": "[encoded data removed]",
      "text/plain": [
       "<Figure size 3000x500 with 1 Axes>"
      ]
     },
     "metadata": {},
     "output_type": "display_data"
    }
   ],
   "source": [
    "plt.figure(figsize=(30, 5))\n",
    "sns.lineplot(data=res, x=\"date\", y=\"peak_hour\");"
   ]
  },
  {
   "cell_type": "code",
   "execution_count": 16,
   "id": "121b61a9-e575-4ad7-bb74-733b572df3bf",
   "metadata": {},
   "outputs": [],
   "source": [
    "node = datetime(year=2024, month=7, day=1)"
   ]
  },
  {
   "cell_type": "code",
   "execution_count": 17,
   "id": "c8c535aa-7517-4ec6-bbb6-bc98e0e1f5aa",
   "metadata": {},
   "outputs": [
    {
     "name": "stdout",
     "output_type": "stream",
     "text": [
      "<class 'pandas.core.frame.DataFrame'>\n",
      "DatetimeIndex: 4504 entries, 2012-04-02 to 2024-07-31\n",
      "Freq: D\n",
      "Data columns (total 1 columns):\n",
      " #   Column     Non-Null Count  Dtype  \n",
      "---  ------     --------------  -----  \n",
      " 0   peak_hour  4504 non-null   float64\n",
      "dtypes: float64(1)\n",
      "memory usage: 70.4 KB\n"
     ]
    }
   ],
   "source": [
    "res.info()"
   ]
  },
  {
   "cell_type": "code",
   "execution_count": 18,
   "id": "21b2a975-80ae-45ce-98e6-245e82ad879e",
   "metadata": {},
   "outputs": [],
   "source": [
    "res= res[res.index < node]"
   ]
  },
  {
   "cell_type": "code",
   "execution_count": 19,
   "id": "d8a624af-5c00-475b-b33d-36d50499a12e",
   "metadata": {},
   "outputs": [
    {
     "name": "stdout",
     "output_type": "stream",
     "text": [
      "<class 'pandas.core.frame.DataFrame'>\n",
      "DatetimeIndex: 4473 entries, 2012-04-02 to 2024-06-30\n",
      "Freq: D\n",
      "Data columns (total 1 columns):\n",
      " #   Column     Non-Null Count  Dtype  \n",
      "---  ------     --------------  -----  \n",
      " 0   peak_hour  4473 non-null   float64\n",
      "dtypes: float64(1)\n",
      "memory usage: 69.9 KB\n"
     ]
    }
   ],
   "source": [
    "res.info()"
   ]
  },
  {
   "cell_type": "code",
   "execution_count": 20,
   "id": "4889988e-1a06-4c13-bdff-8c2f54aa5b85",
   "metadata": {},
   "outputs": [],
   "source": [
    "res[\"date\"] = res.index"
   ]
  },
  {
   "cell_type": "code",
   "execution_count": 21,
   "id": "3d3242c7-bcd7-4c51-9550-de2f1cabc976",
   "metadata": {},
   "outputs": [],
   "source": [
    "res.reset_index(drop=True, inplace=True)"
   ]
  },
  {
   "cell_type": "code",
   "execution_count": 22,
   "id": "dc86d320-5be1-4f1a-9348-fb327c360196",
   "metadata": {},
   "outputs": [
    {
     "data": {
      "text/html": [
       "<div>\n",
       "<style scoped>\n",
       "    .dataframe tbody tr th:only-of-type {\n",
       "        vertical-align: middle;\n",
       "    }\n",
       "\n",
       "    .dataframe tbody tr th {\n",
       "        vertical-align: top;\n",
       "    }\n",
       "\n",
       "    .dataframe thead th {\n",
       "        text-align: right;\n",
       "    }\n",
       "</style>\n",
       "<table border=\"1\" class=\"dataframe\">\n",
       "  <thead>\n",
       "    <tr style=\"text-align: right;\">\n",
       "      <th></th>\n",
       "      <th>peak_hour</th>\n",
       "      <th>date</th>\n",
       "    </tr>\n",
       "  </thead>\n",
       "  <tbody>\n",
       "    <tr>\n",
       "      <th>4468</th>\n",
       "      <td>15.0</td>\n",
       "      <td>2024-06-26</td>\n",
       "    </tr>\n",
       "    <tr>\n",
       "      <th>4469</th>\n",
       "      <td>16.0</td>\n",
       "      <td>2024-06-27</td>\n",
       "    </tr>\n",
       "    <tr>\n",
       "      <th>4470</th>\n",
       "      <td>16.0</td>\n",
       "      <td>2024-06-28</td>\n",
       "    </tr>\n",
       "    <tr>\n",
       "      <th>4471</th>\n",
       "      <td>18.0</td>\n",
       "      <td>2024-06-29</td>\n",
       "    </tr>\n",
       "    <tr>\n",
       "      <th>4472</th>\n",
       "      <td>18.0</td>\n",
       "      <td>2024-06-30</td>\n",
       "    </tr>\n",
       "  </tbody>\n",
       "</table>\n",
       "</div>"
      ],
      "text/plain": [
       "      peak_hour       date\n",
       "4468       15.0 2024-06-26\n",
       "4469       16.0 2024-06-27\n",
       "4470       16.0 2024-06-28\n",
       "4471       18.0 2024-06-29\n",
       "4472       18.0 2024-06-30"
      ]
     },
     "execution_count": 22,
     "metadata": {},
     "output_type": "execute_result"
    }
   ],
   "source": [
    "res.tail()"
   ]
  },
  {
   "cell_type": "code",
   "execution_count": 23,
   "id": "9aa61626-19f1-4c09-810c-1d0dd0ef817c",
   "metadata": {},
   "outputs": [],
   "source": [
    "test_start = res[DATE_COLUMN].values[-HORIZON]\n",
    "\n",
    "train = res[res[DATE_COLUMN] < test_start].copy()\n",
    "test = res[res[DATE_COLUMN] >= test_start].copy()"
   ]
  },
  {
   "cell_type": "markdown",
   "id": "9e88742f-73d3-45c8-a235-cbd076f3ed22",
   "metadata": {},
   "source": [
    "# CREATE MODEL"
   ]
  },
  {
   "cell_type": "code",
   "execution_count": 24,
   "id": "35bdf90f-9481-44e1-89c7-4290f6891079",
   "metadata": {},
   "outputs": [
    {
     "name": "stdout",
     "output_type": "stream",
     "text": [
      "multi:reg isn`t supported in lgb\n"
     ]
    }
   ],
   "source": [
    "task = Task(\"multi:reg\", greater_is_better=False, metric=\"mae\", loss=\"mae\")"
   ]
  },
  {
   "cell_type": "code",
   "execution_count": 25,
   "id": "be2a93af-df25-426f-9560-f6f117246fcf",
   "metadata": {},
   "outputs": [],
   "source": [
    "univariate_roles = {\n",
    "    \"target\": TARGET_COLUMN,\n",
    "    DatetimeRole(seasonality=(\"d\", \"m\", \"wd\"), base_date=True): DATE_COLUMN,\n",
    "}"
   ]
  },
  {
   "cell_type": "code",
   "execution_count": 26,
   "id": "7029da4e-05ae-40ec-95c2-a0dc1f55e2d7",
   "metadata": {},
   "outputs": [],
   "source": [
    "seq_params = {\n",
    "    \"seq0\": {\n",
    "        \"case\": \"next_values\",\n",
    "        \"params\": {\n",
    "            \"n_target\": HORIZON,\n",
    "            \"history\": HORIZON,\n",
    "            \"step\": 1,\n",
    "            \"from_last\": True,\n",
    "            \"test_last\": True\n",
    "        }\n",
    "    }\n",
    "}"
   ]
  },
  {
   "cell_type": "code",
   "execution_count": 27,
   "id": "a9d8dc99-a4ae-4725-9cb5-2a3006c1c4aa",
   "metadata": {},
   "outputs": [],
   "source": [
    "transformers_params = {\n",
    "    \"lag_features\": 30,\n",
    "    \"lag_time_features\": 30,\n",
    "    \"diff_features\": [1, 2, 3, 4, 5, 6, 7, 14],\n",
    "}"
   ]
  },
  {
   "cell_type": "code",
   "execution_count": 28,
   "id": "c4158c39-54b7-4e6a-bddd-4d0062385c43",
   "metadata": {},
   "outputs": [],
   "source": [
    "automl = AutoTS(\n",
    "    task,\n",
    "    reader_params = {\n",
    "        \"seq_params\": seq_params\n",
    "    },\n",
    "    time_series_trend_params={\n",
    "        \"trend\": False,\n",
    "    },\n",
    "    time_series_pipeline_params=transformers_params\n",
    ")"
   ]
  },
  {
   "cell_type": "code",
   "execution_count": 29,
   "id": "356a2027-d4de-43dc-9e68-e06f489506f1",
   "metadata": {},
   "outputs": [],
   "source": [
    "os.environ[\"CUDA_DEVICE_ORDER\"] = \"PCI_BUS_ID\"\n",
    "os.environ[\"CUDA_VISIBLE_DEVICES\"] = \"1\""
   ]
  },
  {
   "cell_type": "code",
   "execution_count": 30,
   "id": "72eae0e1-42fb-495b-ad87-8d7d2498fc6a",
   "metadata": {},
   "outputs": [],
   "source": [
    "univariate_train = train\n",
    "univariate_test = test"
   ]
  },
  {
   "cell_type": "code",
   "execution_count": 31,
   "id": "8517f4d6-ed6a-4ac1-8ad0-ba8e7082e1d9",
   "metadata": {},
   "outputs": [],
   "source": [
    "univariate_train.sort_index(axis=1, inplace=True)\n",
    "univariate_test.sort_index(axis=1, inplace=True)"
   ]
  },
  {
   "cell_type": "code",
   "execution_count": 32,
   "id": "3e92062b-9bdc-4c08-be41-aec39288f01d",
   "metadata": {},
   "outputs": [
    {
     "data": {
      "text/html": [
       "<div>\n",
       "<style scoped>\n",
       "    .dataframe tbody tr th:only-of-type {\n",
       "        vertical-align: middle;\n",
       "    }\n",
       "\n",
       "    .dataframe tbody tr th {\n",
       "        vertical-align: top;\n",
       "    }\n",
       "\n",
       "    .dataframe thead th {\n",
       "        text-align: right;\n",
       "    }\n",
       "</style>\n",
       "<table border=\"1\" class=\"dataframe\">\n",
       "  <thead>\n",
       "    <tr style=\"text-align: right;\">\n",
       "      <th></th>\n",
       "      <th>date</th>\n",
       "      <th>peak_hour</th>\n",
       "    </tr>\n",
       "  </thead>\n",
       "  <tbody>\n",
       "    <tr>\n",
       "      <th>4442</th>\n",
       "      <td>2024-05-31</td>\n",
       "      <td>15.0</td>\n",
       "    </tr>\n",
       "    <tr>\n",
       "      <th>4443</th>\n",
       "      <td>2024-06-01</td>\n",
       "      <td>18.0</td>\n",
       "    </tr>\n",
       "    <tr>\n",
       "      <th>4444</th>\n",
       "      <td>2024-06-02</td>\n",
       "      <td>18.0</td>\n",
       "    </tr>\n",
       "  </tbody>\n",
       "</table>\n",
       "</div>"
      ],
      "text/plain": [
       "           date  peak_hour\n",
       "4442 2024-05-31       15.0\n",
       "4443 2024-06-01       18.0\n",
       "4444 2024-06-02       18.0"
      ]
     },
     "execution_count": 32,
     "metadata": {},
     "output_type": "execute_result"
    }
   ],
   "source": [
    "univariate_test.head(3)"
   ]
  },
  {
   "cell_type": "code",
   "execution_count": 33,
   "id": "3bbaf4e6-8732-468f-98e0-eb60ed47b51e",
   "metadata": {},
   "outputs": [
    {
     "data": {
      "text/html": [
       "<div>\n",
       "<style scoped>\n",
       "    .dataframe tbody tr th:only-of-type {\n",
       "        vertical-align: middle;\n",
       "    }\n",
       "\n",
       "    .dataframe tbody tr th {\n",
       "        vertical-align: top;\n",
       "    }\n",
       "\n",
       "    .dataframe thead th {\n",
       "        text-align: right;\n",
       "    }\n",
       "</style>\n",
       "<table border=\"1\" class=\"dataframe\">\n",
       "  <thead>\n",
       "    <tr style=\"text-align: right;\">\n",
       "      <th></th>\n",
       "      <th>date</th>\n",
       "      <th>peak_hour</th>\n",
       "    </tr>\n",
       "  </thead>\n",
       "  <tbody>\n",
       "    <tr>\n",
       "      <th>0</th>\n",
       "      <td>2012-04-02</td>\n",
       "      <td>11.0</td>\n",
       "    </tr>\n",
       "    <tr>\n",
       "      <th>1</th>\n",
       "      <td>2012-04-03</td>\n",
       "      <td>11.0</td>\n",
       "    </tr>\n",
       "    <tr>\n",
       "      <th>2</th>\n",
       "      <td>2012-04-04</td>\n",
       "      <td>11.0</td>\n",
       "    </tr>\n",
       "  </tbody>\n",
       "</table>\n",
       "</div>"
      ],
      "text/plain": [
       "        date  peak_hour\n",
       "0 2012-04-02       11.0\n",
       "1 2012-04-03       11.0\n",
       "2 2012-04-04       11.0"
      ]
     },
     "execution_count": 33,
     "metadata": {},
     "output_type": "execute_result"
    }
   ],
   "source": [
    "univariate_train.head(3)"
   ]
  },
  {
   "cell_type": "code",
   "execution_count": 34,
   "id": "b7459c28-43f0-4cd0-9d68-9ef77a401994",
   "metadata": {},
   "outputs": [
    {
     "data": {
      "text/html": [
       "<div>\n",
       "<style scoped>\n",
       "    .dataframe tbody tr th:only-of-type {\n",
       "        vertical-align: middle;\n",
       "    }\n",
       "\n",
       "    .dataframe tbody tr th {\n",
       "        vertical-align: top;\n",
       "    }\n",
       "\n",
       "    .dataframe thead th {\n",
       "        text-align: right;\n",
       "    }\n",
       "</style>\n",
       "<table border=\"1\" class=\"dataframe\">\n",
       "  <thead>\n",
       "    <tr style=\"text-align: right;\">\n",
       "      <th></th>\n",
       "      <th>date</th>\n",
       "      <th>peak_hour</th>\n",
       "    </tr>\n",
       "  </thead>\n",
       "  <tbody>\n",
       "    <tr>\n",
       "      <th>0</th>\n",
       "      <td>2012-04-02</td>\n",
       "      <td>11.0</td>\n",
       "    </tr>\n",
       "    <tr>\n",
       "      <th>1</th>\n",
       "      <td>2012-04-03</td>\n",
       "      <td>11.0</td>\n",
       "    </tr>\n",
       "    <tr>\n",
       "      <th>2</th>\n",
       "      <td>2012-04-04</td>\n",
       "      <td>11.0</td>\n",
       "    </tr>\n",
       "    <tr>\n",
       "      <th>3</th>\n",
       "      <td>2012-04-05</td>\n",
       "      <td>11.0</td>\n",
       "    </tr>\n",
       "    <tr>\n",
       "      <th>4</th>\n",
       "      <td>2012-04-06</td>\n",
       "      <td>11.0</td>\n",
       "    </tr>\n",
       "    <tr>\n",
       "      <th>...</th>\n",
       "      <td>...</td>\n",
       "      <td>...</td>\n",
       "    </tr>\n",
       "    <tr>\n",
       "      <th>4437</th>\n",
       "      <td>2024-05-26</td>\n",
       "      <td>18.0</td>\n",
       "    </tr>\n",
       "    <tr>\n",
       "      <th>4438</th>\n",
       "      <td>2024-05-27</td>\n",
       "      <td>15.0</td>\n",
       "    </tr>\n",
       "    <tr>\n",
       "      <th>4439</th>\n",
       "      <td>2024-05-28</td>\n",
       "      <td>15.0</td>\n",
       "    </tr>\n",
       "    <tr>\n",
       "      <th>4440</th>\n",
       "      <td>2024-05-29</td>\n",
       "      <td>15.0</td>\n",
       "    </tr>\n",
       "    <tr>\n",
       "      <th>4441</th>\n",
       "      <td>2024-05-30</td>\n",
       "      <td>15.0</td>\n",
       "    </tr>\n",
       "  </tbody>\n",
       "</table>\n",
       "<p>4442 rows × 2 columns</p>\n",
       "</div>"
      ],
      "text/plain": [
       "           date  peak_hour\n",
       "0    2012-04-02       11.0\n",
       "1    2012-04-03       11.0\n",
       "2    2012-04-04       11.0\n",
       "3    2012-04-05       11.0\n",
       "4    2012-04-06       11.0\n",
       "...         ...        ...\n",
       "4437 2024-05-26       18.0\n",
       "4438 2024-05-27       15.0\n",
       "4439 2024-05-28       15.0\n",
       "4440 2024-05-29       15.0\n",
       "4441 2024-05-30       15.0\n",
       "\n",
       "[4442 rows x 2 columns]"
      ]
     },
     "execution_count": 34,
     "metadata": {},
     "output_type": "execute_result"
    }
   ],
   "source": [
    "univariate_train"
   ]
  },
  {
   "cell_type": "code",
   "execution_count": 35,
   "id": "223e627e-7fe0-4b56-bd07-a843e0211f21",
   "metadata": {
    "scrolled": true
   },
   "outputs": [
    {
     "name": "stdout",
     "output_type": "stream",
     "text": [
      "[14:38:46] Stdout logging level is DEBUG.\n",
      "[14:38:46] Task: multi:reg\n",
      "\n",
      "[14:38:46] Start automl preset with listed constraints:\n",
      "[14:38:46] - time: 3600.00 seconds\n",
      "[14:38:46] - CPU: 4 cores\n",
      "[14:38:46] - memory: 16 GB\n",
      "\n",
      "[14:38:46] Layer \u001b[1m1\u001b[0m train process start. Time left 3599.95 secs\n",
      "[14:38:46] Start fitting \u001b[1mLvl_0_Pipe_0_Mod_0_RFSklearn\u001b[0m ...\n",
      "[14:38:46] Training params: {'bootstrap': True, 'ccp_alpha': 0.0, 'max_depth': None, 'max_features': 'sqrt', 'max_leaf_nodes': None, 'max_samples': None, 'min_samples_leaf': 32, 'min_samples_split': 2, 'min_weight_fraction_leaf': 0.0, 'n_estimators': 500, 'n_jobs': 4, 'oob_score': False, 'random_state': 42, 'warm_start': False, 'verbose': 0, 'criterion': 'squared_error'}\n",
      "[14:38:46] ===== Start working with \u001b[1mfold 0\u001b[0m for \u001b[1mLvl_0_Pipe_0_Mod_0_RFSklearn\u001b[0m =====\n",
      "[14:38:48] Score for RF model: -1.335110\n",
      "[14:38:48] ===== Start working with \u001b[1mfold 1\u001b[0m for \u001b[1mLvl_0_Pipe_0_Mod_0_RFSklearn\u001b[0m =====\n",
      "[14:38:49] Score for RF model: -1.263419\n",
      "[14:38:49] Fitting \u001b[1mLvl_0_Pipe_0_Mod_0_RFSklearn\u001b[0m finished. score = \u001b[1m-1.2992725148801971\u001b[0m\n",
      "[14:38:49] \u001b[1mLvl_0_Pipe_0_Mod_0_RFSklearn\u001b[0m fitting and predicting completed\n",
      "[14:38:49] Time left 3597.04 secs\n",
      "\n",
      "[14:38:49] Start fitting \u001b[1mLvl_0_Pipe_1_Mod_0_LinearL2\u001b[0m ...\n",
      "[14:38:49] Training params: {'tol': 1e-06, 'max_iter': 100, 'cs': [1e-05, 5e-05, 0.0001, 0.0005, 0.001, 0.005, 0.01, 0.05, 0.1, 0.5, 1, 5, 10, 50, 100, 500, 1000, 5000, 10000, 50000, 100000], 'early_stopping': 2, 'categorical_idx': [], 'embed_sizes': (), 'data_size': 188}\n",
      "[14:38:49] ===== Start working with \u001b[1mfold 0\u001b[0m for \u001b[1mLvl_0_Pipe_1_Mod_0_LinearL2\u001b[0m =====\n",
      "[14:38:51] Linear model: C = 1e-05 score = -17.250870832565347\n",
      "[14:38:51] Linear model: C = 5e-05 score = -17.250870832565347\n",
      "[14:38:51] Linear model: C = 0.0001 score = -17.250768911944935\n",
      "[14:38:51] Linear model: C = 0.0005 score = -17.250768911944935\n",
      "[14:38:51] Linear model: C = 0.001 score = -2.6709282330932695\n",
      "[14:38:51] Linear model: C = 0.005 score = -2.6709282330932695\n",
      "[14:38:51] Linear model: C = 0.01 score = -2.6701387565405996\n",
      "[14:38:51] Linear model: C = 0.05 score = -2.6701387565405996\n",
      "[14:38:51] Linear model: C = 0.1 score = -1.6787419270641404\n",
      "[14:38:51] Linear model: C = 0.5 score = -1.6784724795360768\n",
      "[14:38:51] Linear model: C = 1 score = -1.6784724795360768\n",
      "[14:38:51] Linear model: C = 5 score = -1.678444970003527\n",
      "[14:38:51] Linear model: C = 10 score = -1.678444970003527\n",
      "[14:38:51] Linear model: C = 50 score = -1.6781792208435864\n",
      "[14:38:51] Linear model: C = 100 score = -1.6781792206750952\n",
      "[14:38:51] Linear model: C = 500 score = -1.6781792206750952\n",
      "[14:38:51] Linear model: C = 1000 score = -1.6781792206750952\n",
      "[14:38:51] ===== Start working with \u001b[1mfold 1\u001b[0m for \u001b[1mLvl_0_Pipe_1_Mod_0_LinearL2\u001b[0m =====\n",
      "[14:38:51] Linear model: C = 1e-05 score = -17.29980844124988\n",
      "[14:38:51] Linear model: C = 5e-05 score = -1.7631796070289358\n",
      "[14:38:51] Linear model: C = 0.0001 score = -1.7631795633697849\n",
      "[14:38:52] Linear model: C = 0.0005 score = -1.762079004146403\n",
      "[14:38:52] Linear model: C = 0.001 score = -1.544477486269764\n",
      "[14:38:52] Linear model: C = 0.005 score = -1.5356869378976994\n",
      "[14:38:52] Linear model: C = 0.01 score = -1.53537244473664\n",
      "[14:38:52] Linear model: C = 0.05 score = -1.5348583525139166\n",
      "[14:38:52] Linear model: C = 0.1 score = -1.5327989066221313\n",
      "[14:38:52] Linear model: C = 0.5 score = -1.5327988429174173\n",
      "[14:38:52] Linear model: C = 1 score = -1.5327987626930244\n",
      "[14:38:52] Linear model: C = 5 score = -1.5325302705583561\n",
      "[14:38:52] Linear model: C = 10 score = -1.527820998717345\n",
      "[14:38:52] Linear model: C = 50 score = -1.5220655788815516\n",
      "[14:38:52] Linear model: C = 100 score = -1.5220655788815516\n",
      "[14:38:52] Linear model: C = 500 score = -1.5220655788815516\n",
      "[14:38:52] Fitting \u001b[1mLvl_0_Pipe_1_Mod_0_LinearL2\u001b[0m finished. score = \u001b[1m-1.6001402169024725\u001b[0m\n",
      "[14:38:52] \u001b[1mLvl_0_Pipe_1_Mod_0_LinearL2\u001b[0m fitting and predicting completed\n",
      "[14:38:52] Time left 3593.59 secs\n",
      "\n",
      "[14:38:53] Start fitting \u001b[1mLvl_0_Pipe_2_Mod_0_CatBoost\u001b[0m ...\n",
      "[14:38:53] Training params: {'task_type': 'CPU', 'thread_count': 4, 'random_seed': 42, 'num_trees': 3000, 'learning_rate': 0.03, 'l2_leaf_reg': 0.01, 'bootstrap_type': 'Bernoulli', 'grow_policy': 'SymmetricTree', 'max_depth': 5, 'min_data_in_leaf': 1, 'one_hot_max_size': 10, 'fold_permutation_block': 1, 'boosting_type': 'Plain', 'boost_from_average': True, 'od_type': 'Iter', 'od_wait': 100, 'max_bin': 32, 'feature_border_type': 'GreedyLogSum', 'nan_mode': 'Min', 'verbose': 100, 'allow_writing_files': False}\n",
      "[14:38:53] ===== Start working with \u001b[1mfold 0\u001b[0m for \u001b[1mLvl_0_Pipe_2_Mod_0_CatBoost\u001b[0m =====\n",
      "[14:38:53] 0:\tlearn: 15.7430538\ttest: 16.2242131\tbest: 16.2242131 (0)\ttotal: 234ms\tremaining: 11m 41s\n",
      "[14:39:00] 100:\tlearn: 10.9574324\ttest: 11.8441404\tbest: 11.8441404 (100)\ttotal: 6.85s\tremaining: 3m 16s\n",
      "[14:39:05] 200:\tlearn: 10.1625989\ttest: 11.4659611\tbest: 11.4659611 (200)\ttotal: 12.1s\tremaining: 2m 48s\n",
      "[14:39:10] 300:\tlearn: 9.6346097\ttest: 11.3298508\tbest: 11.3298508 (300)\ttotal: 17.4s\tremaining: 2m 35s\n",
      "[14:39:16] 400:\tlearn: 9.2264093\ttest: 11.2784763\tbest: 11.2784763 (400)\ttotal: 22.8s\tremaining: 2m 27s\n",
      "[14:39:21] 500:\tlearn: 8.8226259\ttest: 11.2581677\tbest: 11.2580268 (492)\ttotal: 28.4s\tremaining: 2m 21s\n",
      "[14:39:27] 600:\tlearn: 8.4669894\ttest: 11.2477005\tbest: 11.2471114 (597)\ttotal: 33.9s\tremaining: 2m 15s\n",
      "[14:39:32] 700:\tlearn: 8.1182849\ttest: 11.2390933\tbest: 11.2385777 (696)\ttotal: 39.6s\tremaining: 2m 9s\n",
      "[14:39:38] 800:\tlearn: 7.7996650\ttest: 11.2358967\tbest: 11.2346737 (740)\ttotal: 45.2s\tremaining: 2m 4s\n",
      "[14:39:40] Stopped by overfitting detector  (100 iterations wait)\n",
      "[14:39:40] bestTest = 11.23467374\n",
      "[14:39:40] bestIteration = 740\n",
      "[14:39:40] Shrink model to first 741 iterations.\n",
      "[14:39:40] ===== Start working with \u001b[1mfold 1\u001b[0m for \u001b[1mLvl_0_Pipe_2_Mod_0_CatBoost\u001b[0m =====\n",
      "[14:39:41] 0:\tlearn: 16.2108583\ttest: 15.7477508\tbest: 15.7477508 (0)\ttotal: 51ms\tremaining: 2m 32s\n",
      "[14:39:46] 100:\tlearn: 11.3278449\ttest: 11.4461256\tbest: 11.4461256 (100)\ttotal: 5.52s\tremaining: 2m 38s\n",
      "[14:39:52] 200:\tlearn: 10.5532755\ttest: 11.1109213\tbest: 11.1109213 (200)\ttotal: 11.1s\tremaining: 2m 34s\n",
      "[14:39:57] 300:\tlearn: 10.0644329\ttest: 10.9866470\tbest: 10.9866470 (300)\ttotal: 17s\tremaining: 2m 32s\n",
      "[14:40:04] 400:\tlearn: 9.6816562\ttest: 10.9320086\tbest: 10.9320086 (400)\ttotal: 23.5s\tremaining: 2m 32s\n",
      "[14:40:11] 500:\tlearn: 9.2732490\ttest: 10.9114579\tbest: 10.9114579 (500)\ttotal: 30.5s\tremaining: 2m 32s\n",
      "[14:40:18] 600:\tlearn: 8.9101412\ttest: 10.8983584\tbest: 10.8983131 (599)\ttotal: 37.5s\tremaining: 2m 29s\n",
      "[14:40:24] 700:\tlearn: 8.5712494\ttest: 10.8983019\tbest: 10.8978450 (674)\ttotal: 43.7s\tremaining: 2m 23s\n",
      "[14:40:30] 800:\tlearn: 8.2462722\ttest: 10.8942152\tbest: 10.8937857 (798)\ttotal: 49.3s\tremaining: 2m 15s\n",
      "[14:40:36] 900:\tlearn: 7.9485631\ttest: 10.8932411\tbest: 10.8932411 (900)\ttotal: 55s\tremaining: 2m 8s\n",
      "[14:40:41] 1000:\tlearn: 7.6683359\ttest: 10.8969076\tbest: 10.8932411 (900)\ttotal: 1m\tremaining: 2m\n",
      "[14:40:41] Stopped by overfitting detector  (100 iterations wait)\n",
      "[14:40:41] bestTest = 10.89324105\n",
      "[14:40:41] bestIteration = 900\n",
      "[14:40:41] Shrink model to first 901 iterations.\n",
      "[14:40:41] Fitting \u001b[1mLvl_0_Pipe_2_Mod_0_CatBoost\u001b[0m finished. score = \u001b[1m-1.2183102472769893\u001b[0m\n",
      "[14:40:41] \u001b[1mLvl_0_Pipe_2_Mod_0_CatBoost\u001b[0m fitting and predicting completed\n",
      "[14:40:41] Time left 3484.65 secs\n",
      "\n",
      "[14:40:41] \u001b[1mLayer 1 training completed.\u001b[0m\n",
      "\n",
      "[14:40:41] Blending: optimization starts with equal weights and score \u001b[1m-1.3019044578587584\u001b[0m\n",
      "[14:40:41] Blending: iteration \u001b[1m0\u001b[0m: score = \u001b[1m-1.2183102472769893\u001b[0m, weights = \u001b[1m[0. 0. 1.]\u001b[0m\n",
      "[14:40:41] Blending: iteration \u001b[1m1\u001b[0m: score = \u001b[1m-1.2183102472769893\u001b[0m, weights = \u001b[1m[0. 0. 1.]\u001b[0m\n",
      "[14:40:41] Blending: no score update. Terminated\n",
      "\n",
      "[14:40:41] \u001b[1mAutoml preset training completed in 115.61 seconds\u001b[0m\n",
      "\n",
      "[14:40:41] Model description:\n",
      "Final prediction for new objects (level 0) = \n",
      "\t 1.00000 * (2 averaged models Lvl_0_Pipe_2_Mod_0_CatBoost) \n",
      "\n"
     ]
    }
   ],
   "source": [
    "univariate_train_pred, _ = automl.fit_predict(univariate_train, univariate_roles, verbose=4)"
   ]
  },
  {
   "cell_type": "code",
   "execution_count": null,
   "id": "1fcc522a-86c0-4103-b749-75655317458e",
   "metadata": {},
   "outputs": [],
   "source": []
  },
  {
   "cell_type": "code",
   "execution_count": 36,
   "id": "abb56dc4-529d-415a-8b60-d90072854442",
   "metadata": {},
   "outputs": [
    {
     "data": {
      "text/html": [
       "<div>\n",
       "<style scoped>\n",
       "    .dataframe tbody tr th:only-of-type {\n",
       "        vertical-align: middle;\n",
       "    }\n",
       "\n",
       "    .dataframe tbody tr th {\n",
       "        vertical-align: top;\n",
       "    }\n",
       "\n",
       "    .dataframe thead th {\n",
       "        text-align: right;\n",
       "    }\n",
       "</style>\n",
       "<table border=\"1\" class=\"dataframe\">\n",
       "  <thead>\n",
       "    <tr style=\"text-align: right;\">\n",
       "      <th></th>\n",
       "      <th>date</th>\n",
       "      <th>peak_hour</th>\n",
       "    </tr>\n",
       "  </thead>\n",
       "  <tbody>\n",
       "    <tr>\n",
       "      <th>4442</th>\n",
       "      <td>2024-05-31</td>\n",
       "      <td>15.0</td>\n",
       "    </tr>\n",
       "    <tr>\n",
       "      <th>4443</th>\n",
       "      <td>2024-06-01</td>\n",
       "      <td>18.0</td>\n",
       "    </tr>\n",
       "    <tr>\n",
       "      <th>4444</th>\n",
       "      <td>2024-06-02</td>\n",
       "      <td>18.0</td>\n",
       "    </tr>\n",
       "    <tr>\n",
       "      <th>4445</th>\n",
       "      <td>2024-06-03</td>\n",
       "      <td>15.0</td>\n",
       "    </tr>\n",
       "    <tr>\n",
       "      <th>4446</th>\n",
       "      <td>2024-06-04</td>\n",
       "      <td>16.0</td>\n",
       "    </tr>\n",
       "    <tr>\n",
       "      <th>4447</th>\n",
       "      <td>2024-06-05</td>\n",
       "      <td>14.0</td>\n",
       "    </tr>\n",
       "    <tr>\n",
       "      <th>4448</th>\n",
       "      <td>2024-06-06</td>\n",
       "      <td>12.0</td>\n",
       "    </tr>\n",
       "    <tr>\n",
       "      <th>4449</th>\n",
       "      <td>2024-06-07</td>\n",
       "      <td>16.0</td>\n",
       "    </tr>\n",
       "    <tr>\n",
       "      <th>4450</th>\n",
       "      <td>2024-06-08</td>\n",
       "      <td>18.0</td>\n",
       "    </tr>\n",
       "    <tr>\n",
       "      <th>4451</th>\n",
       "      <td>2024-06-09</td>\n",
       "      <td>18.0</td>\n",
       "    </tr>\n",
       "    <tr>\n",
       "      <th>4452</th>\n",
       "      <td>2024-06-10</td>\n",
       "      <td>12.0</td>\n",
       "    </tr>\n",
       "    <tr>\n",
       "      <th>4453</th>\n",
       "      <td>2024-06-11</td>\n",
       "      <td>15.0</td>\n",
       "    </tr>\n",
       "    <tr>\n",
       "      <th>4454</th>\n",
       "      <td>2024-06-12</td>\n",
       "      <td>18.0</td>\n",
       "    </tr>\n",
       "    <tr>\n",
       "      <th>4455</th>\n",
       "      <td>2024-06-13</td>\n",
       "      <td>12.0</td>\n",
       "    </tr>\n",
       "    <tr>\n",
       "      <th>4456</th>\n",
       "      <td>2024-06-14</td>\n",
       "      <td>13.0</td>\n",
       "    </tr>\n",
       "    <tr>\n",
       "      <th>4457</th>\n",
       "      <td>2024-06-15</td>\n",
       "      <td>18.0</td>\n",
       "    </tr>\n",
       "    <tr>\n",
       "      <th>4458</th>\n",
       "      <td>2024-06-16</td>\n",
       "      <td>18.0</td>\n",
       "    </tr>\n",
       "    <tr>\n",
       "      <th>4459</th>\n",
       "      <td>2024-06-17</td>\n",
       "      <td>16.0</td>\n",
       "    </tr>\n",
       "    <tr>\n",
       "      <th>4460</th>\n",
       "      <td>2024-06-18</td>\n",
       "      <td>14.0</td>\n",
       "    </tr>\n",
       "    <tr>\n",
       "      <th>4461</th>\n",
       "      <td>2024-06-19</td>\n",
       "      <td>16.0</td>\n",
       "    </tr>\n",
       "    <tr>\n",
       "      <th>4462</th>\n",
       "      <td>2024-06-20</td>\n",
       "      <td>13.0</td>\n",
       "    </tr>\n",
       "    <tr>\n",
       "      <th>4463</th>\n",
       "      <td>2024-06-21</td>\n",
       "      <td>11.0</td>\n",
       "    </tr>\n",
       "    <tr>\n",
       "      <th>4464</th>\n",
       "      <td>2024-06-22</td>\n",
       "      <td>18.0</td>\n",
       "    </tr>\n",
       "    <tr>\n",
       "      <th>4465</th>\n",
       "      <td>2024-06-23</td>\n",
       "      <td>18.0</td>\n",
       "    </tr>\n",
       "    <tr>\n",
       "      <th>4466</th>\n",
       "      <td>2024-06-24</td>\n",
       "      <td>15.0</td>\n",
       "    </tr>\n",
       "    <tr>\n",
       "      <th>4467</th>\n",
       "      <td>2024-06-25</td>\n",
       "      <td>15.0</td>\n",
       "    </tr>\n",
       "    <tr>\n",
       "      <th>4468</th>\n",
       "      <td>2024-06-26</td>\n",
       "      <td>15.0</td>\n",
       "    </tr>\n",
       "    <tr>\n",
       "      <th>4469</th>\n",
       "      <td>2024-06-27</td>\n",
       "      <td>16.0</td>\n",
       "    </tr>\n",
       "    <tr>\n",
       "      <th>4470</th>\n",
       "      <td>2024-06-28</td>\n",
       "      <td>16.0</td>\n",
       "    </tr>\n",
       "    <tr>\n",
       "      <th>4471</th>\n",
       "      <td>2024-06-29</td>\n",
       "      <td>18.0</td>\n",
       "    </tr>\n",
       "    <tr>\n",
       "      <th>4472</th>\n",
       "      <td>2024-06-30</td>\n",
       "      <td>18.0</td>\n",
       "    </tr>\n",
       "  </tbody>\n",
       "</table>\n",
       "</div>"
      ],
      "text/plain": [
       "           date  peak_hour\n",
       "4442 2024-05-31       15.0\n",
       "4443 2024-06-01       18.0\n",
       "4444 2024-06-02       18.0\n",
       "4445 2024-06-03       15.0\n",
       "4446 2024-06-04       16.0\n",
       "4447 2024-06-05       14.0\n",
       "4448 2024-06-06       12.0\n",
       "4449 2024-06-07       16.0\n",
       "4450 2024-06-08       18.0\n",
       "4451 2024-06-09       18.0\n",
       "4452 2024-06-10       12.0\n",
       "4453 2024-06-11       15.0\n",
       "4454 2024-06-12       18.0\n",
       "4455 2024-06-13       12.0\n",
       "4456 2024-06-14       13.0\n",
       "4457 2024-06-15       18.0\n",
       "4458 2024-06-16       18.0\n",
       "4459 2024-06-17       16.0\n",
       "4460 2024-06-18       14.0\n",
       "4461 2024-06-19       16.0\n",
       "4462 2024-06-20       13.0\n",
       "4463 2024-06-21       11.0\n",
       "4464 2024-06-22       18.0\n",
       "4465 2024-06-23       18.0\n",
       "4466 2024-06-24       15.0\n",
       "4467 2024-06-25       15.0\n",
       "4468 2024-06-26       15.0\n",
       "4469 2024-06-27       16.0\n",
       "4470 2024-06-28       16.0\n",
       "4471 2024-06-29       18.0\n",
       "4472 2024-06-30       18.0"
      ]
     },
     "execution_count": 36,
     "metadata": {},
     "output_type": "execute_result"
    }
   ],
   "source": [
    "univariate_test"
   ]
  },
  {
   "cell_type": "code",
   "execution_count": 37,
   "id": "f7493822-e1e2-4436-967b-604d76434a44",
   "metadata": {
    "scrolled": true
   },
   "outputs": [],
   "source": [
    "univariate_forecast, _ = automl.predict(univariate_train)"
   ]
  },
  {
   "cell_type": "code",
   "execution_count": 38,
   "id": "32f0f58d-2c80-4390-98c7-4ca78bdfa889",
   "metadata": {},
   "outputs": [],
   "source": [
    "pred = [round(day) for day in univariate_forecast]"
   ]
  },
  {
   "cell_type": "code",
   "execution_count": 47,
   "id": "7d6f5494-21f1-4093-97cd-4aa69ed90e23",
   "metadata": {},
   "outputs": [
    {
     "data": {
      "text/plain": [
       "[13,\n",
       " 17,\n",
       " 18,\n",
       " 14,\n",
       " 13,\n",
       " 13,\n",
       " 13,\n",
       " 13,\n",
       " 17,\n",
       " 18,\n",
       " 14,\n",
       " 14,\n",
       " 14,\n",
       " 14,\n",
       " 13,\n",
       " 17,\n",
       " 17,\n",
       " 14,\n",
       " 14,\n",
       " 14,\n",
       " 14,\n",
       " 13,\n",
       " 17,\n",
       " 18,\n",
       " 15,\n",
       " 14,\n",
       " 14,\n",
       " 14,\n",
       " 13,\n",
       " 17,\n",
       " 17]"
      ]
     },
     "execution_count": 47,
     "metadata": {},
     "output_type": "execute_result"
    }
   ],
   "source": [
    "pred"
   ]
  },
  {
   "cell_type": "code",
   "execution_count": null,
   "id": "1ab1b804-cb80-435b-bec2-d1c4f505aeef",
   "metadata": {},
   "outputs": [],
   "source": []
  },
  {
   "cell_type": "code",
   "execution_count": null,
   "id": "d0d9eb6f-68d5-4ccc-92c0-807d63109233",
   "metadata": {},
   "outputs": [],
   "source": []
  },
  {
   "cell_type": "code",
   "execution_count": 39,
   "id": "7167c3ba-e5d6-4d8b-99f4-076f80b76c73",
   "metadata": {},
   "outputs": [],
   "source": [
    "df = pd.read_parquet(\"../../../data/interim/Московская область/peak_hours.gzip\")"
   ]
  },
  {
   "cell_type": "code",
   "execution_count": 40,
   "id": "ff94ffbb-75fb-4504-b625-7873d1a153ff",
   "metadata": {},
   "outputs": [],
   "source": [
    "df.drop(columns=[\"code_dpg\"], inplace=True)"
   ]
  },
  {
   "cell_type": "code",
   "execution_count": 41,
   "id": "a052c0c7-91fa-4c08-bf2a-635ef6070d5a",
   "metadata": {},
   "outputs": [],
   "source": [
    "df[\"date\"] = pd.to_datetime(df[\"date\"])"
   ]
  },
  {
   "cell_type": "code",
   "execution_count": 42,
   "id": "d53846c9-6920-4628-baaf-db14a9dd24d1",
   "metadata": {},
   "outputs": [],
   "source": [
    "df = df[df[\"date\"] >= node]"
   ]
  },
  {
   "cell_type": "code",
   "execution_count": 43,
   "id": "8b242aef-6bef-40ff-a7a6-f64554121892",
   "metadata": {},
   "outputs": [],
   "source": [
    "df.drop_duplicates(inplace=True)"
   ]
  },
  {
   "cell_type": "code",
   "execution_count": 44,
   "id": "bd96d18a-c192-4424-b792-285f7b9e5940",
   "metadata": {},
   "outputs": [
    {
     "data": {
      "text/html": [
       "<div>\n",
       "<style scoped>\n",
       "    .dataframe tbody tr th:only-of-type {\n",
       "        vertical-align: middle;\n",
       "    }\n",
       "\n",
       "    .dataframe tbody tr th {\n",
       "        vertical-align: top;\n",
       "    }\n",
       "\n",
       "    .dataframe thead th {\n",
       "        text-align: right;\n",
       "    }\n",
       "</style>\n",
       "<table border=\"1\" class=\"dataframe\">\n",
       "  <thead>\n",
       "    <tr style=\"text-align: right;\">\n",
       "      <th></th>\n",
       "      <th>date</th>\n",
       "      <th>peak_hour</th>\n",
       "    </tr>\n",
       "  </thead>\n",
       "  <tbody>\n",
       "    <tr>\n",
       "      <th>29602</th>\n",
       "      <td>2024-07-01</td>\n",
       "      <td>14</td>\n",
       "    </tr>\n",
       "    <tr>\n",
       "      <th>29603</th>\n",
       "      <td>2024-07-02</td>\n",
       "      <td>15</td>\n",
       "    </tr>\n",
       "    <tr>\n",
       "      <th>29604</th>\n",
       "      <td>2024-07-03</td>\n",
       "      <td>15</td>\n",
       "    </tr>\n",
       "    <tr>\n",
       "      <th>29605</th>\n",
       "      <td>2024-07-04</td>\n",
       "      <td>14</td>\n",
       "    </tr>\n",
       "    <tr>\n",
       "      <th>29606</th>\n",
       "      <td>2024-07-05</td>\n",
       "      <td>14</td>\n",
       "    </tr>\n",
       "    <tr>\n",
       "      <th>29607</th>\n",
       "      <td>2024-07-08</td>\n",
       "      <td>16</td>\n",
       "    </tr>\n",
       "    <tr>\n",
       "      <th>29608</th>\n",
       "      <td>2024-07-09</td>\n",
       "      <td>16</td>\n",
       "    </tr>\n",
       "    <tr>\n",
       "      <th>29609</th>\n",
       "      <td>2024-07-10</td>\n",
       "      <td>16</td>\n",
       "    </tr>\n",
       "    <tr>\n",
       "      <th>29610</th>\n",
       "      <td>2024-07-11</td>\n",
       "      <td>15</td>\n",
       "    </tr>\n",
       "    <tr>\n",
       "      <th>29611</th>\n",
       "      <td>2024-07-12</td>\n",
       "      <td>14</td>\n",
       "    </tr>\n",
       "    <tr>\n",
       "      <th>29612</th>\n",
       "      <td>2024-07-15</td>\n",
       "      <td>15</td>\n",
       "    </tr>\n",
       "    <tr>\n",
       "      <th>29613</th>\n",
       "      <td>2024-07-16</td>\n",
       "      <td>15</td>\n",
       "    </tr>\n",
       "    <tr>\n",
       "      <th>29614</th>\n",
       "      <td>2024-07-17</td>\n",
       "      <td>16</td>\n",
       "    </tr>\n",
       "    <tr>\n",
       "      <th>29615</th>\n",
       "      <td>2024-07-18</td>\n",
       "      <td>17</td>\n",
       "    </tr>\n",
       "    <tr>\n",
       "      <th>29616</th>\n",
       "      <td>2024-07-19</td>\n",
       "      <td>16</td>\n",
       "    </tr>\n",
       "    <tr>\n",
       "      <th>29617</th>\n",
       "      <td>2024-07-22</td>\n",
       "      <td>15</td>\n",
       "    </tr>\n",
       "    <tr>\n",
       "      <th>29618</th>\n",
       "      <td>2024-07-23</td>\n",
       "      <td>17</td>\n",
       "    </tr>\n",
       "    <tr>\n",
       "      <th>29619</th>\n",
       "      <td>2024-07-24</td>\n",
       "      <td>16</td>\n",
       "    </tr>\n",
       "    <tr>\n",
       "      <th>29620</th>\n",
       "      <td>2024-07-25</td>\n",
       "      <td>16</td>\n",
       "    </tr>\n",
       "    <tr>\n",
       "      <th>29621</th>\n",
       "      <td>2024-07-26</td>\n",
       "      <td>15</td>\n",
       "    </tr>\n",
       "    <tr>\n",
       "      <th>29622</th>\n",
       "      <td>2024-07-29</td>\n",
       "      <td>14</td>\n",
       "    </tr>\n",
       "    <tr>\n",
       "      <th>29623</th>\n",
       "      <td>2024-07-30</td>\n",
       "      <td>11</td>\n",
       "    </tr>\n",
       "    <tr>\n",
       "      <th>29624</th>\n",
       "      <td>2024-07-31</td>\n",
       "      <td>15</td>\n",
       "    </tr>\n",
       "  </tbody>\n",
       "</table>\n",
       "</div>"
      ],
      "text/plain": [
       "            date  peak_hour\n",
       "29602 2024-07-01         14\n",
       "29603 2024-07-02         15\n",
       "29604 2024-07-03         15\n",
       "29605 2024-07-04         14\n",
       "29606 2024-07-05         14\n",
       "29607 2024-07-08         16\n",
       "29608 2024-07-09         16\n",
       "29609 2024-07-10         16\n",
       "29610 2024-07-11         15\n",
       "29611 2024-07-12         14\n",
       "29612 2024-07-15         15\n",
       "29613 2024-07-16         15\n",
       "29614 2024-07-17         16\n",
       "29615 2024-07-18         17\n",
       "29616 2024-07-19         16\n",
       "29617 2024-07-22         15\n",
       "29618 2024-07-23         17\n",
       "29619 2024-07-24         16\n",
       "29620 2024-07-25         16\n",
       "29621 2024-07-26         15\n",
       "29622 2024-07-29         14\n",
       "29623 2024-07-30         11\n",
       "29624 2024-07-31         15"
      ]
     },
     "execution_count": 44,
     "metadata": {},
     "output_type": "execute_result"
    }
   ],
   "source": [
    "df"
   ]
  },
  {
   "cell_type": "code",
   "execution_count": 45,
   "id": "3a2649fc-d84e-4bd6-b1ad-9f1c23aa13c4",
   "metadata": {},
   "outputs": [
    {
     "data": {
      "text/plain": [
       "31"
      ]
     },
     "execution_count": 45,
     "metadata": {},
     "output_type": "execute_result"
    }
   ],
   "source": [
    "len(pred)"
   ]
  },
  {
   "cell_type": "code",
   "execution_count": 46,
   "id": "6fddac68-d187-43c0-95de-61df3a302249",
   "metadata": {
    "scrolled": true
   },
   "outputs": [
    {
     "name": "stdout",
     "output_type": "stream",
     "text": [
      "[12.64168549 17.46391487 17.72834778 13.95302391 12.99095917 13.20945072\n",
      " 13.21040821 12.77117729 17.05090141 17.59422684 14.19304276 13.53090572\n",
      " 13.90925312 13.98851299 12.94319725 17.3168335  17.43126297 14.38192844\n",
      " 13.63861847 13.89741135 14.05263996 13.24490356 17.19371033 17.63647079\n",
      " 14.66446781 13.86149311 13.51597977 13.62025738 12.98931026 17.16523552\n",
      " 17.33032227] \n",
      "\n"
     ]
    },
    {
     "ename": "AttributeError",
     "evalue": "'DataFrame' object has no attribute 'value'",
     "output_type": "error",
     "traceback": [
      "\u001b[1;31m---------------------------------------------------------------------------\u001b[0m",
      "\u001b[1;31mAttributeError\u001b[0m                            Traceback (most recent call last)",
      "Cell \u001b[1;32mIn[46], line 2\u001b[0m\n\u001b[0;32m      1\u001b[0m \u001b[38;5;28mprint\u001b[39m(univariate_forecast, \u001b[38;5;124m\"\u001b[39m\u001b[38;5;130;01m\\n\u001b[39;00m\u001b[38;5;124m\"\u001b[39m)\n\u001b[1;32m----> 2\u001b[0m \u001b[38;5;28mprint\u001b[39m(\u001b[38;5;124mf\u001b[39m\u001b[38;5;124m\"\u001b[39m\u001b[38;5;124mMAE: \u001b[39m\u001b[38;5;132;01m{\u001b[39;00mmean_absolute_error(\u001b[43munivariate_test\u001b[49m\u001b[38;5;241;43m.\u001b[39;49m\u001b[43mvalue\u001b[49m,\u001b[38;5;250m \u001b[39munivariate_forecast)\u001b[38;5;132;01m}\u001b[39;00m\u001b[38;5;124m\"\u001b[39m)\n",
      "File \u001b[1;32mC:\\WORK\\PyCharmProjects\\peak_hour_classification\\venv\\Lib\\site-packages\\pandas\\core\\generic.py:5902\u001b[0m, in \u001b[0;36mNDFrame.__getattr__\u001b[1;34m(self, name)\u001b[0m\n\u001b[0;32m   5895\u001b[0m \u001b[38;5;28;01mif\u001b[39;00m (\n\u001b[0;32m   5896\u001b[0m     name \u001b[38;5;129;01mnot\u001b[39;00m \u001b[38;5;129;01min\u001b[39;00m \u001b[38;5;28mself\u001b[39m\u001b[38;5;241m.\u001b[39m_internal_names_set\n\u001b[0;32m   5897\u001b[0m     \u001b[38;5;129;01mand\u001b[39;00m name \u001b[38;5;129;01mnot\u001b[39;00m \u001b[38;5;129;01min\u001b[39;00m \u001b[38;5;28mself\u001b[39m\u001b[38;5;241m.\u001b[39m_metadata\n\u001b[0;32m   5898\u001b[0m     \u001b[38;5;129;01mand\u001b[39;00m name \u001b[38;5;129;01mnot\u001b[39;00m \u001b[38;5;129;01min\u001b[39;00m \u001b[38;5;28mself\u001b[39m\u001b[38;5;241m.\u001b[39m_accessors\n\u001b[0;32m   5899\u001b[0m     \u001b[38;5;129;01mand\u001b[39;00m \u001b[38;5;28mself\u001b[39m\u001b[38;5;241m.\u001b[39m_info_axis\u001b[38;5;241m.\u001b[39m_can_hold_identifiers_and_holds_name(name)\n\u001b[0;32m   5900\u001b[0m ):\n\u001b[0;32m   5901\u001b[0m     \u001b[38;5;28;01mreturn\u001b[39;00m \u001b[38;5;28mself\u001b[39m[name]\n\u001b[1;32m-> 5902\u001b[0m \u001b[38;5;28;01mreturn\u001b[39;00m \u001b[38;5;28;43mobject\u001b[39;49m\u001b[38;5;241;43m.\u001b[39;49m\u001b[38;5;21;43m__getattribute__\u001b[39;49m\u001b[43m(\u001b[49m\u001b[38;5;28;43mself\u001b[39;49m\u001b[43m,\u001b[49m\u001b[43m \u001b[49m\u001b[43mname\u001b[49m\u001b[43m)\u001b[49m\n",
      "\u001b[1;31mAttributeError\u001b[0m: 'DataFrame' object has no attribute 'value'"
     ]
    }
   ],
   "source": [
    "print(univariate_forecast, \"\\n\")\n",
    "print(f\"MAE: {mean_absolute_error(univariate_test.value, univariate_forecast)}\")"
   ]
  },
  {
   "cell_type": "code",
   "execution_count": null,
   "id": "bbcf82e6-8e12-44e4-bce6-a8b567ef2f79",
   "metadata": {},
   "outputs": [],
   "source": []
  },
  {
   "cell_type": "code",
   "execution_count": null,
   "id": "0fdba341-c37f-4428-b4fb-429ce4bae9c5",
   "metadata": {},
   "outputs": [],
   "source": []
  },
  {
   "cell_type": "code",
   "execution_count": null,
   "id": "31f41663-a2c8-4d7b-a779-e3e2f7cf4bdf",
   "metadata": {},
   "outputs": [],
   "source": []
  },
  {
   "cell_type": "code",
   "execution_count": null,
   "id": "e9d848f1-40b5-494c-bbdc-ca8db265e7c5",
   "metadata": {},
   "outputs": [],
   "source": []
  },
  {
   "cell_type": "code",
   "execution_count": null,
   "id": "acb159c4-c927-43dd-8b95-33e7acbf82fa",
   "metadata": {},
   "outputs": [],
   "source": []
  },
  {
   "cell_type": "code",
   "execution_count": null,
   "id": "06db9ea1-7b72-4161-938c-5b79f3966ef4",
   "metadata": {},
   "outputs": [],
   "source": []
  },
  {
   "cell_type": "code",
   "execution_count": null,
   "id": "027e5242-049f-4735-8a07-102b629eb384",
   "metadata": {},
   "outputs": [],
   "source": []
  },
  {
   "cell_type": "code",
   "execution_count": null,
   "id": "a5bdf115-ea7e-4fce-ad36-a57d1c3cf5bd",
   "metadata": {},
   "outputs": [],
   "source": []
  },
  {
   "cell_type": "code",
   "execution_count": null,
   "id": "1e5e6db1-f9a4-413a-b4a9-ca718b134cd5",
   "metadata": {},
   "outputs": [],
   "source": []
  }
 ],
 "metadata": {
  "kernelspec": {
   "display_name": "Python 3 (ipykernel)",
   "language": "python",
   "name": "python3"
  },
  "language_info": {
   "codemirror_mode": {
    "name": "ipython",
    "version": 3
   },
   "file_extension": ".py",
   "mimetype": "text/x-python",
   "name": "python",
   "nbconvert_exporter": "python",
   "pygments_lexer": "ipython3",
   "version": "3.11.6"
  }
 },
 "nbformat": 4,
 "nbformat_minor": 5
}
