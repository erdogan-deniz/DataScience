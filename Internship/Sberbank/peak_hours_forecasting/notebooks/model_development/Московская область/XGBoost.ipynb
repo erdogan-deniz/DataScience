{
 "cells": [
  {
   "cell_type": "code",
   "execution_count": 3,
   "id": "2f485702-20b8-4083-a004-47aa22713f9b",
   "metadata": {},
   "outputs": [],
   "source": [
    "import pickle\n",
    "import datetime\n",
    "import warnings\n",
    "\n",
    "import numpy as np\n",
    "import pandas as pd\n",
    "import seaborn as sns\n",
    "import pymannkendall as mk\n",
    "import statsmodels.api as sm\n",
    "import matplotlib.pyplot as plt\n",
    "\n",
    "from sys import path\n",
    "from os import getcwd\n",
    "from scipy.stats import shapiro\n",
    "from xgboost import XGBRegressor\n",
    "\n",
    "from statsmodels.tsa.stattools import adfuller as ADF\n",
    "from sklearn.linear_model import LinearRegression as LinRegr\n",
    "from statsmodels.graphics.tsaplots import plot_acf as autocorr_plot"
   ]
  },
  {
   "cell_type": "code",
   "execution_count": 4,
   "id": "a82fad10-0e1e-4add-a180-ecc8ec935045",
   "metadata": {},
   "outputs": [],
   "source": [
    "path.append(\"../../../src/\")\n",
    "warnings.simplefilter(action=\"ignore\", category=UserWarning)\n",
    "warnings.simplefilter(action=\"ignore\", category=FutureWarning)"
   ]
  },
  {
   "cell_type": "code",
   "execution_count": 5,
   "id": "23b8b14d-d4df-4490-aedd-15180a32cc22",
   "metadata": {},
   "outputs": [],
   "source": [
    "from auxiliary import *\n",
    "from feature_engineering import *"
   ]
  },
  {
   "cell_type": "code",
   "execution_count": null,
   "id": "a984f751-f2c5-41d6-b405-c67251a67f4f",
   "metadata": {},
   "outputs": [],
   "source": []
  },
  {
   "cell_type": "code",
   "execution_count": null,
   "id": "cb4dacfe-e2c7-4975-96a1-cc061a2820b3",
   "metadata": {},
   "outputs": [],
   "source": []
  },
  {
   "cell_type": "code",
   "execution_count": null,
   "id": "37191b14-a887-4def-9906-1c51023cd163",
   "metadata": {},
   "outputs": [],
   "source": []
  },
  {
   "cell_type": "code",
   "execution_count": null,
   "id": "79b7d09e-d34f-4728-a221-1c951ce21ad9",
   "metadata": {},
   "outputs": [],
   "source": []
  },
  {
   "cell_type": "code",
   "execution_count": null,
   "id": "4507d62b-815d-411b-bf6d-00fa4b163844",
   "metadata": {},
   "outputs": [],
   "source": []
  },
  {
   "cell_type": "code",
   "execution_count": null,
   "id": "53e36dd3-f361-489c-81dc-ffa1c6f707df",
   "metadata": {},
   "outputs": [],
   "source": []
  },
  {
   "cell_type": "code",
   "execution_count": null,
   "id": "20dbe2c7-b4ba-4523-b4a1-6083d6fdf567",
   "metadata": {},
   "outputs": [],
   "source": []
  },
  {
   "cell_type": "code",
   "execution_count": null,
   "id": "34b192ff-0a94-4d18-bce4-bedd26f12538",
   "metadata": {},
   "outputs": [],
   "source": []
  },
  {
   "cell_type": "code",
   "execution_count": null,
   "id": "e925cc4f-a07e-4cf4-b746-2cee211f100f",
   "metadata": {},
   "outputs": [],
   "source": []
  },
  {
   "cell_type": "code",
   "execution_count": null,
   "id": "3e1623bf-08da-4b1b-8c53-ecc2836db241",
   "metadata": {},
   "outputs": [],
   "source": []
  },
  {
   "cell_type": "code",
   "execution_count": null,
   "id": "2c389ce4-934e-4ad9-ac99-517206fe3ff8",
   "metadata": {},
   "outputs": [],
   "source": []
  },
  {
   "cell_type": "code",
   "execution_count": null,
   "id": "932e740e-822a-4a4d-9a4c-adc44830e99d",
   "metadata": {},
   "outputs": [],
   "source": []
  },
  {
   "cell_type": "code",
   "execution_count": null,
   "id": "b3921055-13a3-44f1-bcb2-f3f5c550c324",
   "metadata": {},
   "outputs": [],
   "source": []
  },
  {
   "cell_type": "code",
   "execution_count": null,
   "id": "e098aae3-930c-48f2-b246-ab260b58d36d",
   "metadata": {},
   "outputs": [],
   "source": []
  }
 ],
 "metadata": {
  "kernelspec": {
   "display_name": "Python 3 (ipykernel)",
   "language": "python",
   "name": "python3"
  },
  "language_info": {
   "codemirror_mode": {
    "name": "ipython",
    "version": 3
   },
   "file_extension": ".py",
   "mimetype": "text/x-python",
   "name": "python",
   "nbconvert_exporter": "python",
   "pygments_lexer": "ipython3",
   "version": "3.11.6"
  }
 },
 "nbformat": 4,
 "nbformat_minor": 5
}